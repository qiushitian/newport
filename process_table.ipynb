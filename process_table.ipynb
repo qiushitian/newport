{
 "cells": [
  {
   "cell_type": "code",
   "execution_count": 1,
   "id": "3bf6c835-b914-4bc8-9297-36b9495a381a",
   "metadata": {
    "ExecuteTime": {
     "end_time": "2024-10-24T03:57:34.628216Z",
     "start_time": "2024-10-24T03:57:32.224916Z"
    }
   },
   "outputs": [],
   "source": [
    "import numpy as np\n",
    "from astropy.table import Table\n",
    "import astropy.table as astropy_table"
   ]
  },
  {
   "cell_type": "code",
   "execution_count": 2,
   "id": "decea8a3-f3a7-4b74-950a-59f52433f041",
   "metadata": {
    "ExecuteTime": {
     "end_time": "2024-10-24T03:57:34.792818Z",
     "start_time": "2024-10-24T03:57:34.629376Z"
    }
   },
   "outputs": [],
   "source": [
    "table = Table.read('tables/photometry_HD_191939.fits')"
   ]
  },
  {
   "cell_type": "code",
   "execution_count": 3,
   "id": "5454ed7e-d5d2-4374-a728-73126be82104",
   "metadata": {
    "ExecuteTime": {
     "end_time": "2024-10-24T03:57:34.873797Z",
     "start_time": "2024-10-24T03:57:34.796425Z"
    }
   },
   "outputs": [],
   "source": [
    "# Assuming 'table' is your Astropy table and the first 5 columns are metadata, not photometric data.\n",
    "criterion = 0.9  # Fraction of valid observations required\n",
    "\n",
    "# Extract only the photometry columns (columns 6 onwards)\n",
    "photometry_data = table.columns[5:]  # Assuming 0-based indexing, [5:] skips the first 5 columns\n",
    "\n",
    "# Initialize an empty mask list for valid stars\n",
    "valid_mask = []\n",
    "\n",
    "# Loop through each photometric column (i.e., each star's data)\n",
    "for col_name in photometry_data:\n",
    "    col_data = table[col_name]  # Get the column data for the star\n",
    "\n",
    "    # Calculate the fraction of valid (non-NaN) observations\n",
    "    valid_fraction = np.sum(~np.isnan(col_data)) / len(col_data)\n",
    "    \n",
    "    # Check if the valid fraction meets the criterion\n",
    "    if valid_fraction > criterion:\n",
    "        valid_mask.append(True)\n",
    "    else:\n",
    "        valid_mask.append(False)\n",
    "\n",
    "# The result is a mask indicating which columns (stars) meet the criterion\n",
    "valid_columns_mask = np.array([False] * 5 + valid_mask)\n",
    "# valid_columns_mask = np.array([True] * 5 + valid_mask)\n",
    "\n",
    "# You can apply this mask to extract the valid stars' columns\n",
    "# valid_star_columns = np.array(photometry_data)[valid_columns_mask]"
   ]
  },
  {
   "cell_type": "code",
   "execution_count": 4,
   "id": "5f645044-2ccc-4c85-a71b-dad02839bf4a",
   "metadata": {
    "ExecuteTime": {
     "end_time": "2024-10-24T03:57:34.878233Z",
     "start_time": "2024-10-24T03:57:34.875834Z"
    }
   },
   "outputs": [],
   "source": [
    "valid_col = [col for i, col in enumerate(table.colnames) if valid_columns_mask[i]]"
   ]
  },
  {
   "cell_type": "code",
   "execution_count": 5,
   "id": "b389c21c-a505-424d-a549-c3dc25e270f9",
   "metadata": {
    "ExecuteTime": {
     "end_time": "2024-10-24T03:57:34.889401Z",
     "start_time": "2024-10-24T03:57:34.880746Z"
    }
   },
   "outputs": [],
   "source": [
    "valid_table = table[valid_col]"
   ]
  },
  {
   "cell_type": "code",
   "execution_count": 24,
   "id": "82afeb98-fef6-43e3-8591-dc92a17d5b4a",
   "metadata": {
    "ExecuteTime": {
     "end_time": "2024-10-24T04:13:25.737131Z",
     "start_time": "2024-10-24T04:13:02.816030Z"
    }
   },
   "outputs": [
    {
     "name": "stderr",
     "output_type": "stream",
     "text": [
      "/opt/anaconda3/envs/space/lib/python3.10/site-packages/numpy/lib/nanfunctions.py:96: UserWarning: Warning: converting a masked element to nan.\n",
      "  a = np.asanyarray(a)\n"
     ]
    }
   ],
   "source": [
    "relphot_table = Table(names=valid_table.colnames)\n",
    "\n",
    "for row in valid_table:\n",
    "    relphot_row = []\n",
    "    row_sum = np.nansum(list(row))\n",
    "    for i, value in enumerate(row):\n",
    "        relphot_row.append(value / (row_sum - value))\n",
    "    relphot_table.add_row(relphot_row)"
   ]
  },
  {
   "cell_type": "code",
   "execution_count": 25,
   "id": "3be5d25a-36fd-4945-94fd-0a15936d66dd",
   "metadata": {
    "ExecuteTime": {
     "end_time": "2024-10-24T04:14:51.990388Z",
     "start_time": "2024-10-24T04:14:51.948092Z"
    }
   },
   "outputs": [],
   "source": [
    "# norm\n",
    "\n",
    "relphot_norm_table = relphot_table.copy()\n",
    "\n",
    "for colname in relphot_norm_table.colnames:\n",
    "    # Get the maximum value in the column (ignoring NaNs)\n",
    "    col_mean = np.nanmean(relphot_norm_table[colname])\n",
    "    \n",
    "    if col_mean != 0:  # Prevent division by zero\n",
    "        # Normalize the column by dividing by its max value\n",
    "        relphot_norm_table[colname] = relphot_norm_table[colname] / col_mean\n",
    "    else:\n",
    "        relphot_norm_table[colname] = np.nan"
   ]
  },
  {
   "cell_type": "code",
   "execution_count": 46,
   "id": "06313eae-ffcd-4d67-91a4-283ecf847f82",
   "metadata": {
    "ExecuteTime": {
     "end_time": "2024-10-24T04:30:10.962197Z",
     "start_time": "2024-10-24T04:30:10.950110Z"
    }
   },
   "outputs": [],
   "source": [
    "relphot_full_table = astropy_table.hstack([table[table.colnames[:5]], relphot_table])"
   ]
  },
  {
   "cell_type": "code",
   "execution_count": 50,
   "id": "ee520b85-39ac-45c8-9a57-5cdb49569386",
   "metadata": {
    "ExecuteTime": {
     "end_time": "2024-10-24T04:33:40.229355Z",
     "start_time": "2024-10-24T04:33:40.155661Z"
    }
   },
   "outputs": [],
   "source": [
    "relphot_full_table.write('tables/relphot/relphot_HD_191939.fits', overwrite=True)"
   ]
  },
  {
   "cell_type": "code",
   "execution_count": 47,
   "id": "da8af93c-1c39-4d8c-95e5-2179bfec1fcf",
   "metadata": {
    "ExecuteTime": {
     "end_time": "2024-10-24T04:30:22.242940Z",
     "start_time": "2024-10-24T04:30:20.181774Z"
    }
   },
   "outputs": [],
   "source": [
    "gpb = relphot_full_table.group_by(['night', 'band'])\n",
    "binned_relphot = gpb.groups.aggregate(np.median)"
   ]
  },
  {
   "cell_type": "code",
   "execution_count": 49,
   "id": "105ec714-ae76-4033-b5e1-03e88bee7dc9",
   "metadata": {
    "ExecuteTime": {
     "end_time": "2024-10-24T04:31:31.280363Z",
     "start_time": "2024-10-24T04:31:31.134642Z"
    }
   },
   "outputs": [],
   "source": [
    "binned_relphot.write('tables/binned/binned_HD_191939.fits', overwrite=True)"
   ]
  },
  {
   "cell_type": "code",
   "execution_count": 19,
   "id": "9166b3f3-1a89-4051-970f-143560c58c83",
   "metadata": {},
   "outputs": [
    {
     "ename": "ValueError",
     "evalue": "Illegal type <class 'numpy.bool_'> for table item access",
     "output_type": "error",
     "traceback": [
      "\u001B[0;31m---------------------------------------------------------------------------\u001B[0m",
      "\u001B[0;31mValueError\u001B[0m                                Traceback (most recent call last)",
      "Cell \u001B[0;32mIn[20], line 2\u001B[0m\n\u001B[1;32m      1\u001B[0m \u001B[38;5;28;01mfor\u001B[39;00m col_name \u001B[38;5;129;01min\u001B[39;00m cm:\n\u001B[0;32m----> 2\u001B[0m     valid_table[col_name] \u001B[38;5;241m=\u001B[39m \u001B[43mtable\u001B[49m\u001B[43m[\u001B[49m\u001B[43mcol_name\u001B[49m\u001B[43m]\u001B[49m\n",
      "File \u001B[0;32m/opt/anaconda3/envs/space/lib/python3.10/site-packages/astropy/table/table.py:2108\u001B[0m, in \u001B[0;36mTable.__getitem__\u001B[0;34m(self, item)\u001B[0m\n\u001B[1;32m   2106\u001B[0m     \u001B[38;5;28;01mreturn\u001B[39;00m \u001B[38;5;28mself\u001B[39m\u001B[38;5;241m.\u001B[39m_new_from_slice(item)\n\u001B[1;32m   2107\u001B[0m \u001B[38;5;28;01melse\u001B[39;00m:\n\u001B[0;32m-> 2108\u001B[0m     \u001B[38;5;28;01mraise\u001B[39;00m \u001B[38;5;167;01mValueError\u001B[39;00m(\u001B[38;5;124mf\u001B[39m\u001B[38;5;124m\"\u001B[39m\u001B[38;5;124mIllegal type \u001B[39m\u001B[38;5;132;01m{\u001B[39;00m\u001B[38;5;28mtype\u001B[39m(item)\u001B[38;5;132;01m}\u001B[39;00m\u001B[38;5;124m for table item access\u001B[39m\u001B[38;5;124m\"\u001B[39m)\n",
      "\u001B[0;31mValueError\u001B[0m: Illegal type <class 'numpy.bool_'> for table item access"
     ]
    }
   ],
   "source": [
    "# Step 1: Keep the first 5 columns as they are.\n",
    "first_5_columns = table.columns[:5]\n",
    "\n",
    "# Step 2: Apply the mask to the photometry columns\n",
    "# The mask already includes both the first 5 columns and the photometric data columns.\n",
    "masked_columns = table.columns[valid_columns_mask]\n",
    "\n",
    "# Step 3: Rebuild the table by combining the first 5 columns with the valid photometry columns\n",
    "valid_table = Table()\n",
    "\n",
    "# Add the first 5 columns\n",
    "for col_name in first_5_columns:\n",
    "    valid_table[col_name] = table[col_name]\n",
    "\n",
    "# Add the valid photometry columns\n",
    "for col_name in masked_columns:\n",
    "    valid_table[col_name] = table[col_name]"
   ]
  }
 ],
 "metadata": {
  "kernelspec": {
   "display_name": "Python 3 (ipykernel)",
   "language": "python",
   "name": "python3"
  },
  "language_info": {
   "codemirror_mode": {
    "name": "ipython",
    "version": 3
   },
   "file_extension": ".py",
   "mimetype": "text/x-python",
   "name": "python",
   "nbconvert_exporter": "python",
   "pygments_lexer": "ipython3",
   "version": "3.10.9"
  }
 },
 "nbformat": 4,
 "nbformat_minor": 5
}
