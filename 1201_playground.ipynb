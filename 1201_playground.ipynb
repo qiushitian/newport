{
 "cells": [
  {
   "cell_type": "code",
   "execution_count": 2,
   "metadata": {
    "collapsed": true,
    "ExecuteTime": {
     "end_time": "2024-11-12T18:40:01.093914Z",
     "start_time": "2024-11-12T18:40:01.059559Z"
    }
   },
   "outputs": [],
   "source": [
    "import numpy as np\n",
    "from astropy import table\n",
    "from newport import *"
   ]
  },
  {
   "cell_type": "markdown",
   "source": [
    "## Two Star Rel - Existing Photometry\n",
    "\n",
    "companion: Gaia DR3 5157183324996789760, ICRS 2016: 42.2500913396d -14.5376399469d"
   ],
   "metadata": {
    "collapsed": false
   }
  },
  {
   "cell_type": "code",
   "execution_count": 3,
   "outputs": [],
   "source": [
    "phot_table_all_band = table.Table.read('tables/phot/photometry_TOI-1201.fits')\n",
    "\n",
    "band = 'R'  # 'B', 'V', , 'I']:\n",
    "\n",
    "phot_table = phot_table_all_band[phot_table_all_band['band'] == band]"
   ],
   "metadata": {
    "collapsed": false,
    "ExecuteTime": {
     "end_time": "2024-11-12T18:41:00.611072Z",
     "start_time": "2024-11-12T18:41:00.500268Z"
    }
   }
  },
  {
   "cell_type": "code",
   "execution_count": 8,
   "outputs": [
    {
     "ename": "KeyError",
     "evalue": "'5157183324996789760'",
     "output_type": "error",
     "traceback": [
      "\u001B[0;31m---------------------------------------------------------------------------\u001B[0m",
      "\u001B[0;31mKeyError\u001B[0m                                  Traceback (most recent call last)",
      "Cell \u001B[0;32mIn[8], line 1\u001B[0m\n\u001B[0;32m----> 1\u001B[0m phot_table[\u001B[38;5;124m'\u001B[39m\u001B[38;5;124m5157183324996790272\u001B[39m\u001B[38;5;124m'\u001B[39m] \u001B[38;5;241m/\u001B[39m \u001B[43mphot_table\u001B[49m\u001B[43m[\u001B[49m\u001B[38;5;124;43m'\u001B[39;49m\u001B[38;5;124;43m5157183324996789760\u001B[39;49m\u001B[38;5;124;43m'\u001B[39;49m\u001B[43m]\u001B[49m\n",
      "File \u001B[0;32m/opt/anaconda3/envs/space_updated/lib/python3.10/site-packages/astropy/table/table.py:2093\u001B[0m, in \u001B[0;36mTable.__getitem__\u001B[0;34m(self, item)\u001B[0m\n\u001B[1;32m   2091\u001B[0m \u001B[38;5;28;01mdef\u001B[39;00m \u001B[38;5;21m__getitem__\u001B[39m(\u001B[38;5;28mself\u001B[39m, item):\n\u001B[1;32m   2092\u001B[0m     \u001B[38;5;28;01mif\u001B[39;00m \u001B[38;5;28misinstance\u001B[39m(item, \u001B[38;5;28mstr\u001B[39m):\n\u001B[0;32m-> 2093\u001B[0m         \u001B[38;5;28;01mreturn\u001B[39;00m \u001B[38;5;28;43mself\u001B[39;49m\u001B[38;5;241;43m.\u001B[39;49m\u001B[43mcolumns\u001B[49m\u001B[43m[\u001B[49m\u001B[43mitem\u001B[49m\u001B[43m]\u001B[49m\n\u001B[1;32m   2094\u001B[0m     \u001B[38;5;28;01melif\u001B[39;00m \u001B[38;5;28misinstance\u001B[39m(item, (\u001B[38;5;28mint\u001B[39m, np\u001B[38;5;241m.\u001B[39minteger)):\n\u001B[1;32m   2095\u001B[0m         \u001B[38;5;28;01mreturn\u001B[39;00m \u001B[38;5;28mself\u001B[39m\u001B[38;5;241m.\u001B[39mRow(\u001B[38;5;28mself\u001B[39m, item)\n",
      "File \u001B[0;32m/opt/anaconda3/envs/space_updated/lib/python3.10/site-packages/astropy/table/table.py:267\u001B[0m, in \u001B[0;36mTableColumns.__getitem__\u001B[0;34m(self, item)\u001B[0m\n\u001B[1;32m    256\u001B[0m \u001B[38;5;250m\u001B[39m\u001B[38;5;124;03m\"\"\"Get items from a TableColumns object.\u001B[39;00m\n\u001B[1;32m    257\u001B[0m \n\u001B[1;32m    258\u001B[0m \u001B[38;5;124;03m::\u001B[39;00m\n\u001B[0;32m   (...)\u001B[0m\n\u001B[1;32m    264\u001B[0m \u001B[38;5;124;03m  tc[1:3] # <TableColumns names=('b', 'c')>\u001B[39;00m\n\u001B[1;32m    265\u001B[0m \u001B[38;5;124;03m\"\"\"\u001B[39;00m\n\u001B[1;32m    266\u001B[0m \u001B[38;5;28;01mif\u001B[39;00m \u001B[38;5;28misinstance\u001B[39m(item, \u001B[38;5;28mstr\u001B[39m):\n\u001B[0;32m--> 267\u001B[0m     \u001B[38;5;28;01mreturn\u001B[39;00m \u001B[43mOrderedDict\u001B[49m\u001B[38;5;241;43m.\u001B[39;49m\u001B[38;5;21;43m__getitem__\u001B[39;49m\u001B[43m(\u001B[49m\u001B[38;5;28;43mself\u001B[39;49m\u001B[43m,\u001B[49m\u001B[43m \u001B[49m\u001B[43mitem\u001B[49m\u001B[43m)\u001B[49m\n\u001B[1;32m    268\u001B[0m \u001B[38;5;28;01melif\u001B[39;00m \u001B[38;5;28misinstance\u001B[39m(item, (\u001B[38;5;28mint\u001B[39m, np\u001B[38;5;241m.\u001B[39minteger)):\n\u001B[1;32m    269\u001B[0m     \u001B[38;5;28;01mreturn\u001B[39;00m \u001B[38;5;28mlist\u001B[39m(\u001B[38;5;28mself\u001B[39m\u001B[38;5;241m.\u001B[39mvalues())[item]\n",
      "\u001B[0;31mKeyError\u001B[0m: '5157183324996789760'"
     ]
    }
   ],
   "source": [
    "phot_table['5157183324996790272'] / phot_table['5157183324996789760']"
   ],
   "metadata": {
    "collapsed": false,
    "ExecuteTime": {
     "end_time": "2024-11-12T18:47:06.285312Z",
     "start_time": "2024-11-12T18:47:06.255226Z"
    }
   }
  },
  {
   "cell_type": "code",
   "execution_count": null,
   "outputs": [],
   "source": [],
   "metadata": {
    "collapsed": false
   }
  }
 ],
 "metadata": {
  "kernelspec": {
   "display_name": "Python 3",
   "language": "python",
   "name": "python3"
  },
  "language_info": {
   "codemirror_mode": {
    "name": "ipython",
    "version": 2
   },
   "file_extension": ".py",
   "mimetype": "text/x-python",
   "name": "python",
   "nbconvert_exporter": "python",
   "pygments_lexer": "ipython2",
   "version": "2.7.6"
  }
 },
 "nbformat": 4,
 "nbformat_minor": 0
}
