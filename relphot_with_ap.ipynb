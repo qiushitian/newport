{
 "cells": [
  {
   "cell_type": "code",
   "execution_count": 1,
   "metadata": {
    "collapsed": true,
    "ExecuteTime": {
     "end_time": "2024-12-09T14:03:08.497514Z",
     "start_time": "2024-12-09T14:02:22.618148Z"
    }
   },
   "outputs": [],
   "source": [
    "import matplotlib.pyplot as plt\n",
    "import astropy.table as table\n",
    "import astropy.stats as stats\n",
    "import numpy as np\n",
    "\n",
    "from newport import *\n",
    "from astroquery.gaia import Gaia\n",
    "from astropy.coordinates import SkyCoord\n",
    "import astropy.units as u"
   ]
  },
  {
   "cell_type": "code",
   "execution_count": 2,
   "outputs": [
    {
     "name": "stdout",
     "output_type": "stream",
     "text": [
      "INFO: Query finished. [astroquery.utils.tap.core]\n",
      "INFO: Query finished. [astroquery.utils.tap.core]\n",
      "INFO: Query finished. [astroquery.utils.tap.core]\n",
      "INFO: Query finished. [astroquery.utils.tap.core]\n",
      "INFO: Query finished. [astroquery.utils.tap.core]\n",
      "INFO: Query finished. [astroquery.utils.tap.core]\n",
      "INFO: Query finished. [astroquery.utils.tap.core]\n",
      "INFO: Query finished. [astroquery.utils.tap.core]\n",
      "INFO: Query finished. [astroquery.utils.tap.core]\n",
      "INFO: Query finished. [astroquery.utils.tap.core]\n",
      "INFO: Query finished. [astroquery.utils.tap.core]\n",
      "INFO: Query finished. [astroquery.utils.tap.core]\n",
      "INFO: Query finished. [astroquery.utils.tap.core]\n",
      "INFO: Query finished. [astroquery.utils.tap.core]\n",
      "INFO: Query finished. [astroquery.utils.tap.core]\n",
      "INFO: Query finished. [astroquery.utils.tap.core]\n",
      "INFO: Query finished. [astroquery.utils.tap.core]\n",
      "INFO: Query finished. [astroquery.utils.tap.core]\n",
      "INFO: Query finished. [astroquery.utils.tap.core]\n",
      "INFO: Query finished. [astroquery.utils.tap.core]\n",
      "INFO: Query finished. [astroquery.utils.tap.core]\n",
      "INFO: Query finished. [astroquery.utils.tap.core]\n",
      "INFO: Query finished. [astroquery.utils.tap.core]\n",
      "INFO: Query finished. [astroquery.utils.tap.core]\n",
      "INFO: Query finished. [astroquery.utils.tap.core]\n",
      "INFO: Query finished. [astroquery.utils.tap.core]\n",
      "INFO: Query finished. [astroquery.utils.tap.core]\n"
     ]
    }
   ],
   "source": [
    "# List of RA and Dec\n",
    "ras = [149.12329167, 149.11337083, 149.1408375, 149.1254875, 149.14237917, 149.09957917, 149.09925833, 149.14972083, 149.134125, 149.0973375, 149.09987083, 149.0956875, 149.1593, 149.0904375, 149.16145417, 149.10824583, 149.12028333, 149.07483638, 149.07452917, 149.07863696, 149.10703785, 149.14167738, 149.19347924, 149.18083805, 149.05402844, 149.06473608, 149.17446644]\n",
    "decs = [-24.09912861, -24.10344694, -24.10548028, -24.08288778, -24.09318361, -24.10292639, -24.09616278, -24.09940139, -24.12276083, -24.09103194, -24.11740111, -24.08020972, -24.1150075, -24.07894889, -24.08054722, -24.13615611, -24.05940444, -24.06832958, -24.0809112, -24.11477845, -24.14304355, -24.05236132, -24.08765455, -24.1007293, -24.09474303, -24.11812912, -24.04326733]\n",
    "\n",
    "# Create SkyCoord objects\n",
    "coords = SkyCoord(ra=ras*u.degree, dec=decs*u.degree, frame='icrs')\n",
    "\n",
    "# Query Gaia for each coordinate\n",
    "results = []\n",
    "for coord in coords:\n",
    "    query = f\"\"\"\n",
    "    SELECT source_id, ra, dec\n",
    "    FROM gaiadr3.gaia_source\n",
    "    WHERE 1=CONTAINS(\n",
    "        POINT('ICRS', ra, dec),\n",
    "        CIRCLE('ICRS', {coord.ra.degree}, {coord.dec.degree}, 0.001))\n",
    "    \"\"\"\n",
    "    job = Gaia.launch_job_async(query)\n",
    "    result = job.get_results()\n",
    "    results.append(result['SOURCE_ID'][0])"
   ],
   "metadata": {
    "collapsed": false,
    "ExecuteTime": {
     "end_time": "2024-12-09T14:03:50.362072Z",
     "start_time": "2024-12-09T14:03:08.501606Z"
    }
   }
  },
  {
   "cell_type": "code",
   "execution_count": 4,
   "outputs": [],
   "source": [
    "N_COL_HEAD = 5\n",
    "fn = 'HD_86226'"
   ],
   "metadata": {
    "collapsed": false,
    "ExecuteTime": {
     "end_time": "2024-12-09T14:04:20.372676Z",
     "start_time": "2024-12-09T14:04:20.368717Z"
    }
   }
  },
  {
   "cell_type": "code",
   "execution_count": 8,
   "outputs": [
    {
     "name": "stdout",
     "output_type": "stream",
     "text": [
      "HD_86226\tB\t12\n"
     ]
    },
    {
     "name": "stderr",
     "output_type": "stream",
     "text": [
      "WARNING: Cannot aggregate column 'time' with type '|S32': ufunc 'add' did not contain a loop with signature matching types (dtype('S32'), dtype('S32')) -> None [astropy.table.groups]\n",
      "/var/folders/zc/6fl6c21x1558785lrq_dry700000gn/T/ipykernel_1520/3049883249.py:23: UserWarning: Warning: converting a masked element to nan.\n",
      "  row_as_array = np.array(list(row))\n"
     ]
    },
    {
     "name": "stdout",
     "output_type": "stream",
     "text": [
      "HD_86226\tV\t12\n"
     ]
    },
    {
     "name": "stderr",
     "output_type": "stream",
     "text": [
      "WARNING: Cannot aggregate column 'time' with type '|S32': ufunc 'add' did not contain a loop with signature matching types (dtype('S32'), dtype('S32')) -> None [astropy.table.groups]\n"
     ]
    },
    {
     "name": "stdout",
     "output_type": "stream",
     "text": [
      "HD_86226\tR\t12\n"
     ]
    },
    {
     "name": "stderr",
     "output_type": "stream",
     "text": [
      "/var/folders/zc/6fl6c21x1558785lrq_dry700000gn/T/ipykernel_1520/3049883249.py:23: UserWarning: Warning: converting a masked element to nan.\n",
      "  row_as_array = np.array(list(row))\n",
      "WARNING: Cannot aggregate column 'time' with type '|S32': ufunc 'add' did not contain a loop with signature matching types (dtype('S32'), dtype('S32')) -> None [astropy.table.groups]\n"
     ]
    },
    {
     "name": "stdout",
     "output_type": "stream",
     "text": [
      "HD_86226\tI\t12\n"
     ]
    },
    {
     "name": "stderr",
     "output_type": "stream",
     "text": [
      "/var/folders/zc/6fl6c21x1558785lrq_dry700000gn/T/ipykernel_1520/3049883249.py:23: UserWarning: Warning: converting a masked element to nan.\n",
      "  row_as_array = np.array(list(row))\n",
      "WARNING: Cannot aggregate column 'time' with type '|S32': ufunc 'add' did not contain a loop with signature matching types (dtype('S32'), dtype('S32')) -> None [astropy.table.groups]\n"
     ]
    }
   ],
   "source": [
    "phot_table_all_band = table.Table.read(f'tables/phot/photometry_{fn}.fits')\n",
    "\n",
    "for band in ['B', 'V', 'R', 'I']:\n",
    "    phot_table = phot_table_all_band[phot_table_all_band['band'] == band]\n",
    "\n",
    "    if len(phot_table) < 1:\n",
    "        print(f'{fn}\\t{band}\\t skipped')\n",
    "        continue\n",
    "\n",
    "    valid_colnames = []\n",
    "    for r in results:\n",
    "        r = str(r)\n",
    "        if r in phot_table.colnames:\n",
    "            valid_colnames.append(r)\n",
    "\n",
    "    print(f'{fn}\\t{band}\\t{len(valid_colnames)}')  # DEV\n",
    "\n",
    "    valid_table = phot_table[valid_colnames]\n",
    "\n",
    "    relphot_table = table.Table(names=valid_table.colnames)\n",
    "    for row in valid_table:\n",
    "        # relphot_row = []\n",
    "        row_as_array = np.array(list(row))\n",
    "        row_sum = np.nansum(row_as_array)\n",
    "        relphot_table.add_row(row_as_array / (row_sum - row_as_array))  # TODO\n",
    "        # for i, value in enumerate(row):\n",
    "        #     relphot_row.append(value / (row_sum - value))\n",
    "        # relphot_table_no_head.add_row(relphot_row)\n",
    "\n",
    "    # relphot_table = table.hstack([phot_table[phot_table.colnames[ : N_COL_HEAD]], relphot_table_no_head])\n",
    "    relphot_table = table.hstack([phot_table[phot_table.colnames[: N_COL_HEAD]], relphot_table])\n",
    "\n",
    "    gpb = relphot_table.group_by(['night', 'band'])\n",
    "    binned_relphot = gpb.groups.aggregate(np.median)\n",
    "    # TODO add std or mad_std here and save it\n",
    "\n",
    "    # band-night normalization\n",
    "    for colname in binned_relphot.colnames:\n",
    "        if colname.isdigit():\n",
    "            med = np.nanmedian(binned_relphot[colname])\n",
    "            binned_relphot[colname] /= med\n",
    "            relphot_table[colname] /= med\n",
    "\n",
    "    binned_relphot.write(f'tables/binned/binned_{fn}_{band}_ap.fits', overwrite=True)\n",
    "    relphot_table.write(f'tables/relphot/relphot_{fn}_{band}_ap.fits', overwrite=True)"
   ],
   "metadata": {
    "collapsed": false,
    "ExecuteTime": {
     "end_time": "2024-12-09T14:06:43.885768Z",
     "start_time": "2024-12-09T14:06:39.684477Z"
    }
   }
  },
  {
   "cell_type": "code",
   "execution_count": 10,
   "outputs": [
    {
     "data": {
      "text/plain": "<Table length=71>\n  band   night           jd         ... 5660494771296515840 5660516035678748544\nbytes32  int32        float64       ...       float64             float64      \n------- -------- ------------------ ... ------------------- -------------------\n      I 20221224  2459938.862461227 ...  1.0236754230293144  1.1216887786782002\n      I 20221225 2459939.8835711805 ...  0.9010310240841524  1.1626481232845525\n      I 20230117  2459962.809502315 ...  1.3025271918000412  1.3757651502768438\n      I 20230118 2459963.8102238425 ...   1.068771496479973   1.170912792668273\n      I 20230213 2459989.7600385416 ...   1.343480492674571   1.185423607538117\n      I 20230218 2459994.7263988424 ...  1.1770174500105857  1.2884294732466552\n      I 20230311 2460015.6813616897 ...  1.0364867027642894  1.0487193177856253\n      I 20230319 2460023.6782881366 ...  1.8780322772389568   1.748520238327501\n      I 20230320  2460024.615848611 ...  1.0470356669685035  1.0031495318223205\n    ...      ...                ... ...                 ...                 ...\n      I 20240311 2460381.5951657984 ...  1.0374522128092294  1.0024764087777327\n      I 20240312 2460382.6226714123 ...  1.0469021142068287  0.9462836212647311\n      I 20240315 2460385.6252385415 ...  0.9039525093805512  0.9772235109624727\n      I 20240316  2460386.625316088 ...  0.9447154184870299  0.9884437356963263\n      I 20240317  2460387.626138831 ...  0.8402597676943564  0.4156691508830602\n      I 20240319  2460389.675194734 ...  1.0832492796294044  0.9548857246160196\n      I 20240325  2460395.593311632 ...  1.0484539846155472  1.0299681104495577\n      I 20240329  2460399.552179514 ...  1.0899438880128345  1.0393955712535556\n      I 20240401 2460402.5998507524 ...  0.9267789452771099  1.0013561634053378\n      I 20240404 2460405.5621844907 ...  0.9405226666436669  0.9907984033226452",
      "text/html": "<div><i>Table length=71</i>\n<table id=\"table140230691863568\" class=\"table-striped table-bordered table-condensed\">\n<thead><tr><th>band</th><th>night</th><th>jd</th><th>airmass</th><th>5660492297395345408</th><th>5660492331755081472</th><th>5660494943095202176</th><th>5660495217973451520</th><th>5660495011814679296</th><th>5660494805656252928</th><th>5660491575840846592</th><th>5660495488555204992</th><th>5660515662017429120</th><th>5660495076238345728</th><th>5660494771296515840</th><th>5660516035678748544</th></tr></thead>\n<thead><tr><th>bytes32</th><th>int32</th><th>float64</th><th>float64</th><th>float64</th><th>float64</th><th>float64</th><th>float64</th><th>float64</th><th>float64</th><th>float64</th><th>float64</th><th>float64</th><th>float64</th><th>float64</th><th>float64</th></tr></thead>\n<tr><td>I</td><td>20221224</td><td>2459938.862461227</td><td>2.43021181555</td><td>0.8399959839709917</td><td>1.2035289742791617</td><td>1.1677872962352147</td><td>1.2836881895256664</td><td>1.2978563091412325</td><td>1.2030290097061382</td><td>1.1128816184265151</td><td>1.1914737010731093</td><td>1.2674067646011018</td><td>1.165183269756166</td><td>1.0236754230293144</td><td>1.1216887786782002</td></tr>\n<tr><td>I</td><td>20221225</td><td>2459939.8835711805</td><td>2.502264598</td><td>0.9783762513345725</td><td>1.023321706950532</td><td>1.2408198077208312</td><td>1.118714091281833</td><td>0.7999014161873431</td><td>1.0206649199584308</td><td>0.9449782420787834</td><td>0.879972130718996</td><td>1.0978977572646706</td><td>0.8398211749825583</td><td>0.9010310240841524</td><td>1.1626481232845525</td></tr>\n<tr><td>I</td><td>20230117</td><td>2459962.809502315</td><td>2.45632195722</td><td>0.769946588474634</td><td>1.3087999208126728</td><td>1.380342289186594</td><td>1.3265217879468216</td><td>1.328092818383269</td><td>1.3298268627698637</td><td>1.2729764736098463</td><td>1.2629313635077115</td><td>1.2434501709782464</td><td>1.3582608598654997</td><td>1.3025271918000412</td><td>1.3757651502768438</td></tr>\n<tr><td>I</td><td>20230118</td><td>2459963.8102238425</td><td>2.46830335605</td><td>0.9061527349389126</td><td>1.1529954274706404</td><td>1.2526519721997025</td><td>1.1172818085318736</td><td>1.2246333099152804</td><td>1.1352965123025252</td><td>1.1101910080516326</td><td>1.0011238096842832</td><td>1.1171104000304295</td><td>0.9804247093803328</td><td>1.068771496479973</td><td>1.170912792668273</td></tr>\n<tr><td>I</td><td>20230213</td><td>2459989.7600385416</td><td>2.58300433556</td><td>0.7713288267124339</td><td>1.2740267621425525</td><td>1.2832027279109475</td><td>1.3658396916575204</td><td>1.1621710814087154</td><td>1.2847995698145802</td><td>1.3494521755279931</td><td>0.8905443505540614</td><td>1.1933027681901787</td><td>1.5114020887372686</td><td>1.343480492674571</td><td>1.185423607538117</td></tr>\n<tr><td>I</td><td>20230218</td><td>2459994.7263988424</td><td>2.46919666713</td><td>0.7802993260006851</td><td>1.2947469064750616</td><td>1.2921518653207742</td><td>1.1644429966333154</td><td>1.216530975866266</td><td>1.2722307734894271</td><td>1.30351360590816</td><td>1.2551294146680947</td><td>1.3806643784686712</td><td>1.265445718733042</td><td>1.1770174500105857</td><td>1.2884294732466552</td></tr>\n<tr><td>I</td><td>20230311</td><td>2460015.6813616897</td><td>2.5295173808</td><td>0.8888227104026736</td><td>1.1367829181792772</td><td>1.1651410489100344</td><td>1.053406819852878</td><td>0.9719269949232177</td><td>1.132229415614847</td><td>1.1276972131933092</td><td>1.1759449904291548</td><td>1.2622410429499387</td><td>1.0305030513043134</td><td>1.0364867027642894</td><td>1.0487193177856253</td></tr>\n<tr><td>I</td><td>20230319</td><td>2460023.6782881366</td><td>2.68246285723</td><td>nan</td><td>1.7956003406066787</td><td>1.7995540784151438</td><td>1.8403445500002065</td><td>1.7262452396305508</td><td>1.7756705426302146</td><td>1.8443831360207283</td><td>1.7433705092921148</td><td>1.660535858501878</td><td>1.774466962514465</td><td>1.8780322772389568</td><td>1.748520238327501</td></tr>\n<tr><td>I</td><td>20230320</td><td>2460024.615848611</td><td>2.427573905995</td><td>1.0138067191889029</td><td>0.9612302086323447</td><td>0.8768278710055251</td><td>0.9759881982779902</td><td>0.9379382970473661</td><td>1.0048768639851986</td><td>0.9403628532145745</td><td>0.963335848740315</td><td>1.03816733430518</td><td>1.0196092834697301</td><td>1.0470356669685035</td><td>1.0031495318223205</td></tr>\n<tr><td>...</td><td>...</td><td>...</td><td>...</td><td>...</td><td>...</td><td>...</td><td>...</td><td>...</td><td>...</td><td>...</td><td>...</td><td>...</td><td>...</td><td>...</td><td>...</td></tr>\n<tr><td>I</td><td>20240311</td><td>2460381.5951657984</td><td>2.62499658549</td><td>0.9985130277958296</td><td>0.9911817232256012</td><td>1.0169914587973594</td><td>1.0</td><td>0.9736575298800859</td><td>0.9917388915917454</td><td>0.9981863005465976</td><td>0.9593688542297891</td><td>0.9736523559934677</td><td>1.0186066219486962</td><td>1.0374522128092294</td><td>1.0024764087777327</td></tr>\n<tr><td>I</td><td>20240312</td><td>2460382.6226714123</td><td>2.452074286245</td><td>1.0161700038467478</td><td>0.9619302210866072</td><td>0.9497831959997224</td><td>0.9414994069737669</td><td>0.9538645564328482</td><td>0.9768109938356966</td><td>0.971500825997548</td><td>0.9958710008800299</td><td>0.9946073442103284</td><td>0.9704212052341042</td><td>1.0469021142068287</td><td>0.9462836212647311</td></tr>\n<tr><td>I</td><td>20240315</td><td>2460385.6252385415</td><td>2.43007734674</td><td>1.0413197663538045</td><td>0.9099730493661127</td><td>0.9435243588902654</td><td>0.9396136448545412</td><td>0.9799356872517995</td><td>1.0</td><td>0.9816526519647552</td><td>0.9322074316371913</td><td>0.9923500065014892</td><td>0.9431331667317788</td><td>0.9039525093805512</td><td>0.9772235109624727</td></tr>\n<tr><td>I</td><td>20240316</td><td>2460386.625316088</td><td>2.42724009343</td><td>0.9988729684418044</td><td>0.9623713628669991</td><td>0.9328415516272252</td><td>0.9773502011708987</td><td>1.1113435661974014</td><td>1.0104964755467594</td><td>0.94185838983107</td><td>0.9051197246386107</td><td>0.9721315012412622</td><td>1.029884732251041</td><td>0.9447154184870299</td><td>0.9884437356963263</td></tr>\n<tr><td>I</td><td>20240317</td><td>2460387.626138831</td><td>2.42579066408</td><td>1.2624389775793838</td><td>1.0931395472754737</td><td>-1.1135464512004156</td><td>2.2810331974627163</td><td>1.075250733666694</td><td>0.20093227798322136</td><td>1.7678004528355054</td><td>1.178069248601572</td><td>2.547844512318463</td><td>-1.7020405807601073</td><td>0.8402597676943564</td><td>0.4156691508830602</td></tr>\n<tr><td>I</td><td>20240319</td><td>2460389.675194734</td><td>2.6717752310150003</td><td>1.0012001577560705</td><td>0.9740381491915847</td><td>0.9401429849183034</td><td>0.9973246632083157</td><td>0.9948727398372134</td><td>1.0422424728628648</td><td>0.971070353631277</td><td>1.0986638726942166</td><td>0.9304931306480069</td><td>1.0561581605932038</td><td>1.0832492796294044</td><td>0.9548857246160196</td></tr>\n<tr><td>I</td><td>20240325</td><td>2460395.593311632</td><td>2.43782119266</td><td>0.966415626589031</td><td>0.9960238779024335</td><td>0.935470674934185</td><td>0.9865757480178796</td><td>0.9941967265621051</td><td>1.0599647535328638</td><td>1.090925313851966</td><td>1.0038335602742674</td><td>1.0277823976685965</td><td>0.9836801319763148</td><td>1.0484539846155472</td><td>1.0299681104495577</td></tr>\n<tr><td>I</td><td>20240329</td><td>2460399.552179514</td><td>2.57599300673</td><td>1.017888948334984</td><td>0.9930866904041209</td><td>0.9244381375163245</td><td>0.9725085091039914</td><td>0.9813787559628667</td><td>0.9956944074077904</td><td>1.1028250861192173</td><td>0.9410806993338318</td><td>1.0333887019332715</td><td>1.1237591444340354</td><td>1.0899438880128345</td><td>1.0393955712535556</td></tr>\n<tr><td>I</td><td>20240401</td><td>2460402.5998507524</td><td>2.44049148654</td><td>1.0188307914772434</td><td>0.9661584234376095</td><td>0.9762790545795275</td><td>0.9817858657500367</td><td>1.040458657063324</td><td>0.995436702776579</td><td>1.0020549248694377</td><td>0.9300514509364566</td><td>0.9554700776931537</td><td>0.9840671839521294</td><td>0.9267789452771099</td><td>1.0013561634053378</td></tr>\n<tr><td>I</td><td>20240404</td><td>2460405.5621844907</td><td>2.446345282245</td><td>1.0032348764793024</td><td>0.9549058645015153</td><td>1.0139945577991687</td><td>1.0096821535152416</td><td>0.9632397323104057</td><td>0.9793521798837427</td><td>0.9430176291623756</td><td>0.9893295709648501</td><td>0.9442628415701579</td><td>1.0136805201279904</td><td>0.9405226666436669</td><td>0.9907984033226452</td></tr>\n</table></div>"
     },
     "execution_count": 10,
     "metadata": {},
     "output_type": "execute_result"
    }
   ],
   "source": [],
   "metadata": {
    "collapsed": false,
    "ExecuteTime": {
     "end_time": "2024-12-09T14:07:09.947196Z",
     "start_time": "2024-12-09T14:07:09.921290Z"
    }
   }
  },
  {
   "cell_type": "code",
   "execution_count": 13,
   "outputs": [
    {
     "name": "stdout",
     "output_type": "stream",
     "text": [
      "INFO: Query finished. [astroquery.utils.tap.core]\n"
     ]
    }
   ],
   "source": [
    "query = f\"\"\"\n",
    "SELECT *\n",
    "FROM gaiadr3.vari_summary\n",
    "WHERE source_id = {5157183324996790272}\n",
    "\"\"\"\n",
    "\n",
    "# Execute the query\n",
    "job = Gaia.launch_job_async(query)\n",
    "result = job.get_results()\n"
   ],
   "metadata": {
    "collapsed": false,
    "ExecuteTime": {
     "end_time": "2024-12-09T14:42:59.625262Z",
     "start_time": "2024-12-09T14:42:58.146448Z"
    }
   }
  },
  {
   "cell_type": "code",
   "execution_count": 14,
   "outputs": [
    {
     "data": {
      "text/plain": "<Table length=1>\n   solution_id          SOURCE_ID      ... in_vari_compact_companion\n                                       ...                          \n      int64               int64        ...            bool          \n------------------ ------------------- ... -------------------------\n375316653866487564 5157183324996790272 ...                     False",
      "text/html": "<div><i>Table length=1</i>\n<table id=\"table140230691850272\" class=\"table-striped table-bordered table-condensed\">\n<thead><tr><th>solution_id</th><th>SOURCE_ID</th><th>num_selected_g_fov</th><th>mean_obs_time_g_fov</th><th>time_duration_g_fov</th><th>min_mag_g_fov</th><th>max_mag_g_fov</th><th>mean_mag_g_fov</th><th>median_mag_g_fov</th><th>range_mag_g_fov</th><th>trimmed_range_mag_g_fov</th><th>std_dev_mag_g_fov</th><th>skewness_mag_g_fov</th><th>kurtosis_mag_g_fov</th><th>mad_mag_g_fov</th><th>abbe_mag_g_fov</th><th>iqr_mag_g_fov</th><th>stetson_mag_g_fov</th><th>std_dev_over_rms_err_mag_g_fov</th><th>outlier_median_g_fov</th><th>num_selected_bp</th><th>mean_obs_time_bp</th><th>time_duration_bp</th><th>min_mag_bp</th><th>max_mag_bp</th><th>mean_mag_bp</th><th>median_mag_bp</th><th>range_mag_bp</th><th>trimmed_range_mag_bp</th><th>std_dev_mag_bp</th><th>skewness_mag_bp</th><th>kurtosis_mag_bp</th><th>mad_mag_bp</th><th>abbe_mag_bp</th><th>iqr_mag_bp</th><th>stetson_mag_bp</th><th>std_dev_over_rms_err_mag_bp</th><th>outlier_median_bp</th><th>num_selected_rp</th><th>mean_obs_time_rp</th><th>time_duration_rp</th><th>min_mag_rp</th><th>max_mag_rp</th><th>mean_mag_rp</th><th>median_mag_rp</th><th>range_mag_rp</th><th>trimmed_range_mag_rp</th><th>std_dev_mag_rp</th><th>skewness_mag_rp</th><th>kurtosis_mag_rp</th><th>mad_mag_rp</th><th>abbe_mag_rp</th><th>iqr_mag_rp</th><th>stetson_mag_rp</th><th>std_dev_over_rms_err_mag_rp</th><th>outlier_median_rp</th><th>in_vari_classification_result</th><th>in_vari_rrlyrae</th><th>in_vari_cepheid</th><th>in_vari_planetary_transit</th><th>in_vari_short_timescale</th><th>in_vari_long_period_variable</th><th>in_vari_eclipsing_binary</th><th>in_vari_rotation_modulation</th><th>in_vari_ms_oscillator</th><th>in_vari_agn</th><th>in_vari_microlensing</th><th>in_vari_compact_companion</th></tr></thead>\n<thead><tr><th></th><th></th><th></th><th>d</th><th>d</th><th>mag</th><th>mag</th><th>mag</th><th>mag</th><th>mag</th><th>mag</th><th>mag</th><th></th><th></th><th>mag</th><th></th><th>mag</th><th></th><th></th><th></th><th></th><th>d</th><th>d</th><th>mag</th><th>mag</th><th>mag</th><th>mag</th><th>mag</th><th>mag</th><th>mag</th><th></th><th></th><th>mag</th><th></th><th>mag</th><th></th><th></th><th></th><th></th><th>d</th><th>d</th><th>mag</th><th>mag</th><th>mag</th><th>mag</th><th>mag</th><th>mag</th><th>mag</th><th></th><th></th><th>mag</th><th></th><th>mag</th><th></th><th></th><th></th><th></th><th></th><th></th><th></th><th></th><th></th><th></th><th></th><th></th><th></th><th></th><th></th></tr></thead>\n<thead><tr><th>int64</th><th>int64</th><th>int16</th><th>float64</th><th>float32</th><th>float32</th><th>float32</th><th>float32</th><th>float32</th><th>float32</th><th>float32</th><th>float32</th><th>float32</th><th>float32</th><th>float32</th><th>float32</th><th>float32</th><th>float32</th><th>float32</th><th>float32</th><th>int16</th><th>float64</th><th>float32</th><th>float32</th><th>float32</th><th>float32</th><th>float32</th><th>float32</th><th>float32</th><th>float32</th><th>float32</th><th>float32</th><th>float32</th><th>float32</th><th>float32</th><th>float32</th><th>float32</th><th>float32</th><th>int16</th><th>float64</th><th>float32</th><th>float32</th><th>float32</th><th>float32</th><th>float32</th><th>float32</th><th>float32</th><th>float32</th><th>float32</th><th>float32</th><th>float32</th><th>float32</th><th>float32</th><th>float32</th><th>float32</th><th>float32</th><th>bool</th><th>bool</th><th>bool</th><th>bool</th><th>bool</th><th>bool</th><th>bool</th><th>bool</th><th>bool</th><th>bool</th><th>bool</th><th>bool</th></tr></thead>\n<tr><td>375316653866487564</td><td>5157183324996790272</td><td>48</td><td>2271.604855050926</td><td>906.34644</td><td>12.069946</td><td>12.1093025</td><td>12.088745</td><td>12.090389</td><td>0.03935684</td><td>0.035218652</td><td>0.010258049</td><td>-0.017353622</td><td>-0.5266662</td><td>0.009013334</td><td>0.5643097</td><td>0.012692366</td><td>4.2080665</td><td>4.316349</td><td>18.95803</td><td>46</td><td>2254.6179482451603</td><td>906.52264</td><td>13.314403</td><td>13.367763</td><td>13.343605</td><td>13.346238</td><td>0.053359915</td><td>0.03664869</td><td>0.012523753</td><td>-0.5399279</td><td>-0.554474</td><td>0.012731082</td><td>0.5766581</td><td>0.020901715</td><td>4.271479</td><td>5.8763566</td><td>14.919454</td><td>47</td><td>2256.556867367543</td><td>906.52264</td><td>10.96033</td><td>10.985793</td><td>10.974807</td><td>10.975503</td><td>0.025463788</td><td>0.01997067</td><td>0.0057589356</td><td>-0.24099652</td><td>-0.1910345</td><td>0.0055653397</td><td>0.7493987</td><td>0.008700385</td><td>4.431943</td><td>6.2637463</td><td>16.560022</td><td>True</td><td>False</td><td>False</td><td>False</td><td>False</td><td>False</td><td>False</td><td>False</td><td>False</td><td>False</td><td>False</td><td>False</td></tr>\n</table></div>"
     },
     "execution_count": 14,
     "metadata": {},
     "output_type": "execute_result"
    }
   ],
   "source": [
    "result"
   ],
   "metadata": {
    "collapsed": false,
    "ExecuteTime": {
     "end_time": "2024-12-09T14:42:59.643843Z",
     "start_time": "2024-12-09T14:42:59.639571Z"
    }
   }
  }
 ],
 "metadata": {
  "kernelspec": {
   "display_name": "Python 3",
   "language": "python",
   "name": "python3"
  },
  "language_info": {
   "codemirror_mode": {
    "name": "ipython",
    "version": 2
   },
   "file_extension": ".py",
   "mimetype": "text/x-python",
   "name": "python",
   "nbconvert_exporter": "python",
   "pygments_lexer": "ipython2",
   "version": "2.7.6"
  }
 },
 "nbformat": 4,
 "nbformat_minor": 0
}
