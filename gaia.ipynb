{
 "cells": [
  {
   "cell_type": "code",
   "execution_count": 1,
   "id": "7237e8c0-968d-4727-9420-765bc9d41e70",
   "metadata": {},
   "outputs": [],
   "source": [
    "import astropy.units as u\n",
    "from astropy.coordinates import SkyCoord\n",
    "from astroquery.gaia import Gaia\n",
    "Gaia.MAIN_GAIA_TABLE = \"gaiadr3.gaia_source\""
   ]
  },
  {
   "cell_type": "code",
   "execution_count": 2,
   "id": "87c67b8e-0e1b-477d-8841-8b126b2af61e",
   "metadata": {},
   "outputs": [],
   "source": [
    "coord = SkyCoord(ra='20h08m06.397s', dec='+66d51m00.71s')"
   ]
  },
  {
   "cell_type": "code",
   "execution_count": 3,
   "id": "18bd3cc2-4d8b-46d3-b097-140291d4d4d9",
   "metadata": {},
   "outputs": [],
   "source": [
    "# Set the search parameters\n",
    "search_radius = 25 * u.arcmin  # Replace with your desired radius\n",
    "mag_limit = 15  # Replace with your desired magnitude limit"
   ]
  },
  {
   "cell_type": "code",
   "execution_count": 4,
   "id": "a57b9d94-76c4-4706-95c4-d7da52509234",
   "metadata": {},
   "outputs": [],
   "source": [
    "# Query Gaia around the coord within the radius\n",
    "query = f\"\"\"\n",
    "SELECT TOP 1000\n",
    "    source_id, ra, dec, phot_g_mean_mag,\n",
    "    phot_bp_mean_mag, phot_rp_mean_mag, \n",
    "    bp_rp, bp_g, g_rp, -- Precomputed color indices\n",
    "    teff_gspphot,  -- Effective temperature\n",
    "    phot_variable_flag,\n",
    "    classprob_dsc_combmod_star\n",
    "FROM gaiadr3.gaia_source\n",
    "WHERE CONTAINS(\n",
    "    POINT('ICRS', ra, dec),\n",
    "    CIRCLE('ICRS', {coord.ra.deg}, {coord.dec.deg}, {search_radius.to(u.deg).value})\n",
    ") = 1\n",
    "AND phot_g_mean_mag < {mag_limit}\n",
    "AND (classprob_dsc_combmod_star > 0.9) -- Probability it's a star\n",
    "\"\"\"\n",
    "\n",
    "# Execute the query\n",
    "job = Gaia.launch_job(query)\n",
    "result = job.get_results()"
   ]
  },
  {
   "cell_type": "code",
   "execution_count": 5,
   "id": "88ef637c-1e91-4976-9a56-2a0ac171a819",
   "metadata": {},
   "outputs": [
    {
     "data": {
      "text/html": [
       "<div><i>Table length=346</i>\n",
       "<table id=\"table140367097011920\" class=\"table-striped table-bordered table-condensed\">\n",
       "<thead><tr><th>SOURCE_ID</th><th>ra</th><th>dec</th><th>phot_g_mean_mag</th><th>phot_bp_mean_mag</th><th>phot_rp_mean_mag</th><th>bp_rp</th><th>bp_g</th><th>g_rp</th><th>teff_gspphot</th><th>phot_variable_flag</th><th>classprob_dsc_combmod_star</th></tr></thead>\n",
       "<thead><tr><th></th><th>deg</th><th>deg</th><th>mag</th><th>mag</th><th>mag</th><th>mag</th><th>mag</th><th>mag</th><th>K</th><th></th><th></th></tr></thead>\n",
       "<thead><tr><th>int64</th><th>float64</th><th>float64</th><th>float32</th><th>float32</th><th>float32</th><th>float32</th><th>float32</th><th>float32</th><th>float32</th><th>object</th><th>float32</th></tr></thead>\n",
       "<tr><td>2249571417151115008</td><td>302.9168541102685</td><td>66.82169995859768</td><td>14.136663</td><td>14.802425</td><td>13.347171</td><td>1.4552546</td><td>0.66576195</td><td>0.7894926</td><td>5345.977</td><td>NOT_AVAILABLE</td><td>0.99998474</td></tr>\n",
       "<tr><td>2249571623309571840</td><td>302.9171885072147</td><td>66.85195293540168</td><td>14.437069</td><td>14.999794</td><td>13.72113</td><td>1.2786636</td><td>0.56272507</td><td>0.71593857</td><td>5798.195</td><td>NOT_AVAILABLE</td><td>0.99995154</td></tr>\n",
       "<tr><td>2249618764870607744</td><td>302.7750635525628</td><td>66.87957964539736</td><td>13.349801</td><td>14.411132</td><td>12.33817</td><td>2.0729618</td><td>1.0613308</td><td>1.011631</td><td>5040.146</td><td>NOT_AVAILABLE</td><td>0.99998933</td></tr>\n",
       "<tr><td>2249618936669304704</td><td>302.93572777557165</td><td>66.87584620907832</td><td>14.800483</td><td>15.418096</td><td>14.0394335</td><td>1.3786621</td><td>0.61761284</td><td>0.7610493</td><td>5477.8276</td><td>NOT_AVAILABLE</td><td>0.99996144</td></tr>\n",
       "<tr><td>2249618971029042176</td><td>302.9236683871412</td><td>66.89045752749948</td><td>12.359951</td><td>13.020082</td><td>11.570986</td><td>1.4490967</td><td>0.66013145</td><td>0.7889652</td><td>5527.666</td><td>NOT_AVAILABLE</td><td>0.9999777</td></tr>\n",
       "<tr><td>2249619245904280064</td><td>302.87794283439104</td><td>66.91613464724209</td><td>14.050588</td><td>14.472099</td><td>13.246252</td><td>1.2258472</td><td>0.42151165</td><td>0.8043356</td><td>6316.972</td><td>NOT_AVAILABLE</td><td>0.9999894</td></tr>\n",
       "<tr><td>...</td><td>...</td><td>...</td><td>...</td><td>...</td><td>...</td><td>...</td><td>...</td><td>...</td><td>...</td><td>...</td><td>...</td></tr>\n",
       "<tr><td>2248328659774672256</td><td>301.6948657038267</td><td>67.15578323013649</td><td>14.8620825</td><td>15.689298</td><td>13.9692335</td><td>1.7200642</td><td>0.8272152</td><td>0.89284897</td><td>5038.276</td><td>NOT_AVAILABLE</td><td>0.999996</td></tr>\n",
       "<tr><td>2248328728494147584</td><td>301.6600234153236</td><td>67.16260687045329</td><td>13.891165</td><td>14.4560795</td><td>13.172902</td><td>1.2831774</td><td>0.5649147</td><td>0.7182627</td><td>5789.365</td><td>NOT_AVAILABLE</td><td>0.9999658</td></tr>\n",
       "<tr><td>2248329518768130304</td><td>301.7190890648235</td><td>67.23091207032196</td><td>12.343398</td><td>12.709807</td><td>11.810214</td><td>0.89959335</td><td>0.3664093</td><td>0.53318405</td><td>5537.7803</td><td>VARIABLE</td><td>0.999853</td></tr>\n",
       "<tr><td>2248330034164191744</td><td>301.3799317678531</td><td>67.13317427588228</td><td>14.310319</td><td>14.761998</td><td>13.685012</td><td>1.0769863</td><td>0.45167923</td><td>0.6253071</td><td>6070.345</td><td>NOT_AVAILABLE</td><td>0.99998474</td></tr>\n",
       "<tr><td>2248330515200533760</td><td>301.49761993918537</td><td>67.18916046405448</td><td>12.774973</td><td>13.418168</td><td>12.004983</td><td>1.4131851</td><td>0.64319515</td><td>0.76998997</td><td>4460.2256</td><td>NOT_AVAILABLE</td><td>0.9997508</td></tr>\n",
       "<tr><td>2248332061388762496</td><td>301.56605245429034</td><td>67.21819551770645</td><td>14.954562</td><td>15.504092</td><td>14.248292</td><td>1.2558002</td><td>0.54953</td><td>0.7062702</td><td>5791.651</td><td>VARIABLE</td><td>0.99994546</td></tr>\n",
       "</table></div>"
      ],
      "text/plain": [
       "<Table length=346>\n",
       "     SOURCE_ID              ra         ... phot_variable_flag classprob_dsc_combmod_star\n",
       "                           deg         ...                                              \n",
       "       int64             float64       ...       object                float32          \n",
       "------------------- ------------------ ... ------------------ --------------------------\n",
       "2249571417151115008  302.9168541102685 ...      NOT_AVAILABLE                 0.99998474\n",
       "2249571623309571840  302.9171885072147 ...      NOT_AVAILABLE                 0.99995154\n",
       "2249618764870607744  302.7750635525628 ...      NOT_AVAILABLE                 0.99998933\n",
       "2249618936669304704 302.93572777557165 ...      NOT_AVAILABLE                 0.99996144\n",
       "2249618971029042176  302.9236683871412 ...      NOT_AVAILABLE                  0.9999777\n",
       "2249619245904280064 302.87794283439104 ...      NOT_AVAILABLE                  0.9999894\n",
       "                ...                ... ...                ...                        ...\n",
       "2248328659774672256  301.6948657038267 ...      NOT_AVAILABLE                   0.999996\n",
       "2248328728494147584  301.6600234153236 ...      NOT_AVAILABLE                  0.9999658\n",
       "2248329518768130304  301.7190890648235 ...           VARIABLE                   0.999853\n",
       "2248330034164191744  301.3799317678531 ...      NOT_AVAILABLE                 0.99998474\n",
       "2248330515200533760 301.49761993918537 ...      NOT_AVAILABLE                  0.9997508\n",
       "2248332061388762496 301.56605245429034 ...           VARIABLE                 0.99994546"
      ]
     },
     "execution_count": 5,
     "metadata": {},
     "output_type": "execute_result"
    }
   ],
   "source": [
    "result"
   ]
  },
  {
   "cell_type": "code",
   "execution_count": null,
   "id": "dc18eafe-7742-4e5f-8746-51a1911f9f68",
   "metadata": {},
   "outputs": [],
   "source": []
  },
  {
   "cell_type": "code",
   "execution_count": null,
   "id": "c3bfad85-31d4-415b-b235-593ba494d7f6",
   "metadata": {},
   "outputs": [],
   "source": []
  },
  {
   "cell_type": "code",
   "execution_count": 8,
   "id": "dd9aa7e7-a50b-4220-8674-ee7f87a936aa",
   "metadata": {
    "tags": []
   },
   "outputs": [],
   "source": [
    "from astropy import units as u\n",
    "from astropy.coordinates import SkyCoord\n",
    "from photutils.aperture import CircularAnnulus, SkyCircularAnnulus, CircularAperture, SkyCircularAperture\n",
    "from astropy.coordinates import Angle\n",
    "\n",
    "from astropy.io import fits\n",
    "from astropy.io import ascii\n",
    "from astropy.wcs import WCS\n",
    "\n",
    "from astropy.visualization import simple_norm\n",
    "\n",
    "import matplotlib.pyplot as plt\n",
    "\n",
    "import numpy as np\n",
    "\n",
    "from astropy.coordinates import FK5, ICRS\n",
    "\n",
    "from photutils.aperture import ApertureStats\n",
    "from photutils.aperture import aperture_photometry\n",
    "\n",
    "from astropy.stats import SigmaClip, mad_std\n",
    "\n",
    "from photutils.utils import calc_total_error\n",
    "\n",
    "import aswcs\n",
    "\n",
    "from pathlib import Path\n",
    "from tqdm import tqdm\n",
    "\n",
    "from astropy.time import Time\n",
    "from astropy.table import Table\n",
    "\n",
    "import ccdproc as ccdp\n",
    "from astropy.nddata import CCDData, StdDevUncertainty\n",
    "\n",
    "from astropy.timeseries import LombScargle"
   ]
  },
  {
   "cell_type": "code",
   "execution_count": 27,
   "id": "12829694-f4a6-46ee-a930-af7624de0a57",
   "metadata": {},
   "outputs": [
    {
     "ename": "SyntaxError",
     "evalue": "can't use starred expression here (222116279.py, line 1)",
     "output_type": "error",
     "traceback": [
      "\u001B[0;36m  Cell \u001B[0;32mIn[27], line 1\u001B[0;36m\u001B[0m\n\u001B[0;31m    *result['SOURCE_ID']\u001B[0m\n\u001B[0m    ^\u001B[0m\n\u001B[0;31mSyntaxError\u001B[0m\u001B[0;31m:\u001B[0m can't use starred expression here\n"
     ]
    }
   ],
   "source": [
    "*result['SOURCE_ID']"
   ]
  },
  {
   "cell_type": "code",
   "execution_count": 12,
   "id": "5bb6cd58-bff1-4b82-a518-3ad4ad6c8fe0",
   "metadata": {},
   "outputs": [],
   "source": [
    "apsize = np.array([14, 50, 90]) * 0.699 # tuple values in PIXEL (converted to arcsec)\n",
    "\n",
    "positions = SkyCoord(result['ra'], result['dec'], frame=ICRS)\n",
    "aperture = SkyCircularAperture(positions, r=apsize[0] * u.arcsec)\n",
    "annuli = SkyCircularAnnulus(positions, r_in=apsize[1] * u.arcsec, r_out=apsize[2] * u.arcsec)"
   ]
  },
  {
   "cell_type": "code",
   "execution_count": 19,
   "id": "2082dede-8051-41a0-b76c-0152cedddce5",
   "metadata": {},
   "outputs": [],
   "source": [
    "# photometry function\n",
    "def sep_avg(aperture_stats : ApertureStats):\n",
    "    phots = aperture_stats.sum[0] / aperture_stats.sum[1:]\n",
    "    return phot, err"
   ]
  },
  {
   "cell_type": "code",
   "execution_count": 30,
   "id": "792312c0-2c14-481b-ad26-384160b06fe8",
   "metadata": {},
   "outputs": [
    {
     "data": {
      "text/html": [
       "<div><i>Table length=0</i>\n",
       "<table id=\"table140277963849680\" class=\"table-striped table-bordered table-condensed\">\n",
       "<thead><tr><th>band</th><th>night</th><th>time</th><th>jd</th><th>airmass</th><th>2248120233601665536</th><th>2248125937318210688</th><th>2248126040397448832</th><th>2248126315275354496</th><th>2248126383994806912</th><th>2248126383994807040</th><th>2248126521433759872</th><th>2248126521433760640</th><th>2248126555793497600</th><th>2248127174268812160</th><th>2248127311707783040</th><th>2248127380427259648</th><th>2248129819968665856</th><th>2248130232285526528</th><th>2248132220852226432</th><th>2248132392650918144</th><th>2248133152863306112</th><th>2248133187223044864</th></tr></thead>\n",
       "<thead><tr><th>float64</th><th>float64</th><th>float64</th><th>float64</th><th>float64</th><th>float64</th><th>float64</th><th>float64</th><th>float64</th><th>float64</th><th>float64</th><th>float64</th><th>float64</th><th>float64</th><th>float64</th><th>float64</th><th>float64</th><th>float64</th><th>float64</th><th>float64</th><th>float64</th><th>float64</th><th>float64</th></tr></thead>\n",
       "</table></div>"
      ],
      "text/plain": [
       "<Table length=0>\n",
       "  band   night    time     jd   airmass ... 2248132220852226432 2248132392650918144 2248133152863306112 2248133187223044864\n",
       "float64 float64 float64 float64 float64 ...       float64             float64             float64             float64      \n",
       "------- ------- ------- ------- ------- ... ------------------- ------------------- ------------------- -------------------"
      ]
     },
     "execution_count": 30,
     "metadata": {},
     "output_type": "execute_result"
    }
   ],
   "source": [
    "table"
   ]
  },
  {
   "cell_type": "code",
   "execution_count": 21,
   "id": "50f5ef76-e7bf-4405-96c0-0f7f6ee65375",
   "metadata": {},
   "outputs": [],
   "source": [
    "PATH = Path('/Volumes/emlaf/westep-transfer/mountpoint/space-raw/HD 191939/')\n",
    "\n",
    "APER_SIZE_FACTOR = 1.4\n",
    "BIAS = 940\n",
    "BANDS = ['B', 'V', 'R', 'I']\n",
    "\n",
    "info_table = Table(names=('band', 'night', 'time', 'jd', 'airmass'),\n",
    "                   dtype=('S', 'i', 'S', 'f8', 'f8'))"
   ]
  },
  {
   "cell_type": "code",
   "execution_count": 9,
   "id": "19abd160-90be-44ce-9af1-88e6e9f3b1c3",
   "metadata": {},
   "outputs": [],
   "source": [
    "phot_table = Table(names=result['SOURCE_ID'])"
   ]
  },
  {
   "cell_type": "code",
   "execution_count": 11,
   "id": "acbcffb5-c825-40b5-acae-043501eebd37",
   "metadata": {},
   "outputs": [],
   "source": [
    "pixel_table = Table(names=result['SOURCE_ID'])"
   ]
  },
  {
   "cell_type": "code",
   "execution_count": 38,
   "id": "a4c3bc8a-6cab-4164-8a61-4fb857b4df98",
   "metadata": {
    "collapsed": true,
    "jupyter": {
     "outputs_hidden": true
    },
    "tags": []
   },
   "outputs": [
    {
     "name": "stdout",
     "output_type": "stream",
     "text": [
      "band night time  jd airmass ... 2248130232285526528 2248132220852226432 2248132392650918144 2248133152863306112 2248133187223044864\n",
      "---- ----- ---- --- ------- ... ------------------- ------------------- ------------------- ------------------- -------------------\n"
     ]
    }
   ],
   "source": [
    "# Assuming 'result' is the Astropy table with the 'SOURCE_ID' column\n",
    "# and 'table' is the existing table you want to modify.\n",
    "source_ids = result['SOURCE_ID']  # List of source IDs\n",
    "\n",
    "# For each SOURCE_ID, add an empty column to 'table'\n",
    "for source_id in source_ids:\n",
    "    # Convert source_id to string for column naming\n",
    "    col_name = str(source_id)\n",
    "    \n",
    "    # Add an empty column (filled with None or np.nan for numerical data)\n",
    "    # Assuming you want the new column to match the length of 'table'\n",
    "    table[col_name] = [None] * len(table)  # or np.nan for numerical placeholders\n",
    "\n",
    "# Now 'table' has empty columns named after each SOURCE_ID\n",
    "print(table)"
   ]
  },
  {
   "cell_type": "code",
   "execution_count": 22,
   "id": "32436a1b-3312-4f2f-96c7-4e65e288ae18",
   "metadata": {},
   "outputs": [],
   "source": [
    "for source_id in result['SOURCE_ID']:\n",
    "    info_table[str(source_id)] = [np.nan] * len(info_table)  # or np.nan for numerical placeholders"
   ]
  },
  {
   "cell_type": "code",
   "execution_count": 23,
   "id": "bc022814-71b2-4d2d-bebf-75b2f845329f",
   "metadata": {},
   "outputs": [
    {
     "data": {
      "text/html": [
       "<div><i>Table length=0</i>\n",
       "<table id=\"table140367131543536\" class=\"table-striped table-bordered table-condensed\">\n",
       "<thead><tr><th>band</th><th>night</th><th>time</th><th>jd</th><th>airmass</th><th>2249571417151115008</th><th>2249571623309571840</th><th>2249618764870607744</th><th>2249618936669304704</th><th>2249618971029042176</th><th>2249619245904280064</th><th>2249620517217262976</th><th>2249620689015959808</th><th>2249621204412177536</th><th>2249621410570604544</th><th>2249621410570604800</th><th>2249621612432435584</th><th>2249621822887754240</th><th>2249622544441958912</th><th>2249623231636590464</th><th>2249623747032785536</th><th>2249623850111997440</th><th>2249624739168184320</th><th>2249625190141803136</th><th>2249625739897620864</th><th>2249625774257357824</th><th>2249625877336564992</th><th>2249626319716146944</th><th>2249626358372886656</th><th>2249626427092354944</th><th>2249626667610545664</th><th>2249626839409231232</th><th>2249626908128700928</th><th>2249626942488443904</th><th>2249626049135258752</th><th>2249636013459348864</th><th>2249636150898307456</th><th>2249636387119490688</th><th>2249636425776205696</th><th>2249636803733329536</th><th>2249636803733329664</th><th>2249636769373596928</th><th>2249636872453545728</th><th>2249636902515564160</th><th>2249637216050180992</th><th>2249637422208600576</th><th>2249637731446254848</th><th>2249637765805997568</th><th>2249638075043636608</th><th>2249638178122875648</th><th>2249638212482612224</th><th>2249639277634486912</th><th>2249639758670815488</th><th>2249640716446521216</th><th>2249640892542165248</th><th>2249640995621386624</th><th>2249641236139552128</th><th>2249641236139552384</th><th>2249641373578506880</th><th>2249641373578508032</th><th>2249641785895355520</th><th>2249642576169357824</th><th>2248058660950328960</th><th>2248059038907452672</th><th>2248059245065916160</th><th>2248059245065916416</th><th>2248060482016498688</th><th>2248060791254176768</th><th>2248060963052870528</th><th>2248061100491864064</th><th>2248061341010031872</th><th>2248066731191828224</th><th>2248067388324010624</th><th>2248067800640871168</th><th>2248067972439591552</th><th>2248068380459319680</th><th>2248068419116191616</th><th>2248068517898292096</th><th>2248068522195407872</th><th>2248068590914884224</th><th>2248068900152551936</th><th>2248069140670720640</th><th>2248069759146010240</th><th>2248069930944701952</th><th>2248069965304460800</th><th>2248082472248963712</th><th>2248082918925563136</th><th>2248084980509819136</th><th>2248085255387769088</th><th>2248085805143585152</th><th>2248085908222850816</th><th>2248086389259188608</th><th>2248086457978698624</th><th>2248086870295523456</th><th>2248086973374738688</th><th>2248087110814482688</th><th>2248087145173429120</th><th>2248086045661803392</th><th>2248095150992412928</th><th>2248096284863828608</th><th>2248096559741734912</th><th>2248097178216980224</th><th>2248097246936458496</th><th>2248097384375461760</th><th>2248098002848533120</th><th>2248098415167610112</th><th>2248098552606598400</th><th>2248098552606598528</th><th>2248098690045516672</th><th>2248098861844212352</th><th>2248099102362414464</th><th>2248099102362414848</th><th>2248099102362415104</th><th>2248099239801367168</th><th>2248099480319537280</th><th>2248099514679275776</th><th>2248099617758525440</th><th>2248101095227201920</th><th>2248101301385632000</th><th>2248101507544061696</th><th>2248101748062265344</th><th>2248101748062265600</th><th>2248100133154564224</th><th>2248102022940171264</th><th>2248102091659646720</th><th>2248102435256996096</th><th>2248103019372617728</th><th>2248104187603761920</th><th>2248106008669834496</th><th>2248106489706169984</th><th>2248106936382766848</th><th>2248107279980186496</th><th>2248108070254169984</th><th>2248108516930809088</th><th>2248108585650285312</th><th>2248108688729500032</th><th>2248108997967143936</th><th>2248109238485311744</th><th>2248109272845050368</th><th>2248109341564528768</th><th>2248109856960527872</th><th>2248110509795591552</th><th>2248110612874845184</th><th>2248110750313759616</th><th>2248111059551403136</th><th>2248111231350094464</th><th>2248111678026733440</th><th>2248111884185162368</th><th>2248112193422810880</th><th>2248112227782576640</th><th>2248112257845204736</th><th>2248112326564671104</th><th>2248112365221501568</th><th>2248114289366881920</th><th>2248115938634349824</th><th>2248116007353849600</th><th>2248116110433064960</th><th>2248117313023929856</th><th>2248117381743406208</th><th>2248117519182392192</th><th>2248117897139476864</th><th>2248118206377158784</th><th>2248119168449777408</th><th>2248119198511385984</th><th>2248119271528993152</th><th>2248119374608209152</th><th>2248119512047161344</th><th>2248119615126393856</th><th>2248119683845870080</th><th>2248119821284805888</th><th>2248120233601665536</th><th>2248120366743588096</th><th>2248121741133168896</th><th>2248122290888979456</th><th>2248122466984708992</th><th>2248122673143143168</th><th>2248122844941831680</th><th>2248123360337775616</th><th>2248123532136467200</th><th>2248123738294925824</th><th>2248123837077077632</th><th>2248123841374140672</th><th>2248123875733851392</th><th>2248123910093616896</th><th>2248124077594234624</th><th>2248124184971495936</th><th>2248124562928617600</th><th>2248125043964981504</th><th>2248125937318210688</th><th>2248126040397448832</th><th>2248126315275354496</th><th>2248126383994806912</th><th>2248126383994807040</th><th>2248126418354543360</th><th>2248126521433759872</th><th>2248126521433760640</th><th>2248126555793497600</th><th>2248127174268812160</th><th>2248127311707783040</th><th>2248127380427259648</th><th>2248127724024572416</th><th>2248128170701198336</th><th>2248128411219366144</th><th>2248128926615438592</th><th>2248128926615438720</th><th>2248129167133608704</th><th>2248129201493347712</th><th>2248129442011514368</th><th>2248129510731017600</th><th>2248129613810232320</th><th>2248129819968665856</th><th>2248128823536197760</th><th>2248130163566048256</th><th>2248130232285526528</th><th>2248130266645264256</th><th>2248130266645281920</th><th>2248130610242665472</th><th>2248130747681600000</th><th>2248130816401075968</th><th>2248131086980744192</th><th>2248131366156908288</th><th>2248131675394570880</th><th>2248131744114048384</th><th>2248131812833524224</th><th>2248132220852226432</th><th>2248132392650918144</th><th>2248133152863306112</th><th>2248133187223044864</th><th>2248133663961237248</th><th>2248133736978886912</th><th>2248133767040452480</th><th>2248133943137315328</th><th>2248134630332089856</th><th>2248134939569731840</th><th>2248135317526853120</th><th>2248135661124233344</th><th>2248135867282688896</th><th>2248136107800892800</th><th>2248136176520333312</th><th>2248136313959256960</th><th>2248136623196900736</th><th>2248136825057166720</th><th>2248136898074810496</th><th>2248136932434550400</th><th>2248137310391669376</th><th>2248137653989048320</th><th>2248137997586433664</th><th>2248138581701993856</th><th>2248139131457832576</th><th>2248139337616260992</th><th>2248139573836120704</th><th>2248139784292856960</th><th>2248139990451286272</th><th>2248140196609718016</th><th>2248140334048672768</th><th>2248290279946493696</th><th>2248290383025708416</th><th>2248290554824399616</th><th>2248290692263369600</th><th>2248291070220491520</th><th>2248291138937187072</th><th>2248291276378904192</th><th>2248291894851427840</th><th>2248292375890571264</th><th>2248292788207430912</th><th>2248293166164573440</th><th>2248292204091876224</th><th>2248293303604373760</th><th>2248293544121674368</th><th>2248293647200909440</th><th>2248293681560647552</th><th>2248293956438553472</th><th>2248293990798291584</th><th>2248294196956746624</th><th>2248294231316484608</th><th>2248295193389113216</th><th>2248295227748851200</th><th>2248295227748851328</th><th>2248295330828066560</th><th>2248295536986516096</th><th>2248295536986516352</th><th>2248296769639544832</th><th>2248297186253982208</th><th>2248297392412413056</th><th>2248297594273015552</th><th>2248297839089039744</th><th>2248298010887702528</th><th>2248298113966917120</th><th>2248298423204562816</th><th>2248298560643544832</th><th>2248317080542529920</th><th>2248317217981484672</th><th>2248317286700961792</th><th>2248317385482643712</th><th>2248317492859390848</th><th>2248317561578895104</th><th>2248317866518652416</th><th>2248318523651568128</th><th>2248318592371044096</th><th>2248318729809997952</th><th>2248317699017790464</th><th>2248317767737295744</th><th>2248318935968431616</th><th>2248318970328169472</th><th>2248319378347138816</th><th>2248319382645104640</th><th>2248319451364583168</th><th>2248319657523010560</th><th>2248319691882748672</th><th>2248320138559343360</th><th>2248318729810069888</th><th>2248320241638558208</th><th>2248320344717773440</th><th>2248320516516468096</th><th>2248320825754113024</th><th>2248320860113850496</th><th>2248320928833326976</th><th>2248321066272177152</th><th>2248321066272177408</th><th>2248321134991682688</th><th>2248321581668281344</th><th>2248322062704617344</th><th>2248322745601538816</th><th>2248323299655272448</th><th>2248324124288991104</th><th>2248324124288991232</th><th>2248324227368405120</th><th>2248324399166894848</th><th>2248324570965585024</th><th>2248325498678536320</th><th>2248325807916180096</th><th>2248326048434350720</th><th>2248326048434560128</th><th>2248326525172718208</th><th>2248326941787542400</th><th>2248326941787746432</th><th>2248327182305922304</th><th>2248327216665657472</th><th>2248327285385131136</th><th>2248327285385132288</th><th>2248327491543561088</th><th>2248327732061740928</th><th>2248328037001712768</th><th>2248328380599282944</th><th>2248328384896768384</th><th>2248328659774672256</th><th>2248328728494147584</th><th>2248329518768130304</th><th>2248330034164191744</th><th>2248330515200533760</th><th>2248332061388762496</th></tr></thead>\n",
       "<thead><tr><th>bytes32</th><th>int32</th><th>bytes32</th><th>float64</th><th>float64</th><th>float64</th><th>float64</th><th>float64</th><th>float64</th><th>float64</th><th>float64</th><th>float64</th><th>float64</th><th>float64</th><th>float64</th><th>float64</th><th>float64</th><th>float64</th><th>float64</th><th>float64</th><th>float64</th><th>float64</th><th>float64</th><th>float64</th><th>float64</th><th>float64</th><th>float64</th><th>float64</th><th>float64</th><th>float64</th><th>float64</th><th>float64</th><th>float64</th><th>float64</th><th>float64</th><th>float64</th><th>float64</th><th>float64</th><th>float64</th><th>float64</th><th>float64</th><th>float64</th><th>float64</th><th>float64</th><th>float64</th><th>float64</th><th>float64</th><th>float64</th><th>float64</th><th>float64</th><th>float64</th><th>float64</th><th>float64</th><th>float64</th><th>float64</th><th>float64</th><th>float64</th><th>float64</th><th>float64</th><th>float64</th><th>float64</th><th>float64</th><th>float64</th><th>float64</th><th>float64</th><th>float64</th><th>float64</th><th>float64</th><th>float64</th><th>float64</th><th>float64</th><th>float64</th><th>float64</th><th>float64</th><th>float64</th><th>float64</th><th>float64</th><th>float64</th><th>float64</th><th>float64</th><th>float64</th><th>float64</th><th>float64</th><th>float64</th><th>float64</th><th>float64</th><th>float64</th><th>float64</th><th>float64</th><th>float64</th><th>float64</th><th>float64</th><th>float64</th><th>float64</th><th>float64</th><th>float64</th><th>float64</th><th>float64</th><th>float64</th><th>float64</th><th>float64</th><th>float64</th><th>float64</th><th>float64</th><th>float64</th><th>float64</th><th>float64</th><th>float64</th><th>float64</th><th>float64</th><th>float64</th><th>float64</th><th>float64</th><th>float64</th><th>float64</th><th>float64</th><th>float64</th><th>float64</th><th>float64</th><th>float64</th><th>float64</th><th>float64</th><th>float64</th><th>float64</th><th>float64</th><th>float64</th><th>float64</th><th>float64</th><th>float64</th><th>float64</th><th>float64</th><th>float64</th><th>float64</th><th>float64</th><th>float64</th><th>float64</th><th>float64</th><th>float64</th><th>float64</th><th>float64</th><th>float64</th><th>float64</th><th>float64</th><th>float64</th><th>float64</th><th>float64</th><th>float64</th><th>float64</th><th>float64</th><th>float64</th><th>float64</th><th>float64</th><th>float64</th><th>float64</th><th>float64</th><th>float64</th><th>float64</th><th>float64</th><th>float64</th><th>float64</th><th>float64</th><th>float64</th><th>float64</th><th>float64</th><th>float64</th><th>float64</th><th>float64</th><th>float64</th><th>float64</th><th>float64</th><th>float64</th><th>float64</th><th>float64</th><th>float64</th><th>float64</th><th>float64</th><th>float64</th><th>float64</th><th>float64</th><th>float64</th><th>float64</th><th>float64</th><th>float64</th><th>float64</th><th>float64</th><th>float64</th><th>float64</th><th>float64</th><th>float64</th><th>float64</th><th>float64</th><th>float64</th><th>float64</th><th>float64</th><th>float64</th><th>float64</th><th>float64</th><th>float64</th><th>float64</th><th>float64</th><th>float64</th><th>float64</th><th>float64</th><th>float64</th><th>float64</th><th>float64</th><th>float64</th><th>float64</th><th>float64</th><th>float64</th><th>float64</th><th>float64</th><th>float64</th><th>float64</th><th>float64</th><th>float64</th><th>float64</th><th>float64</th><th>float64</th><th>float64</th><th>float64</th><th>float64</th><th>float64</th><th>float64</th><th>float64</th><th>float64</th><th>float64</th><th>float64</th><th>float64</th><th>float64</th><th>float64</th><th>float64</th><th>float64</th><th>float64</th><th>float64</th><th>float64</th><th>float64</th><th>float64</th><th>float64</th><th>float64</th><th>float64</th><th>float64</th><th>float64</th><th>float64</th><th>float64</th><th>float64</th><th>float64</th><th>float64</th><th>float64</th><th>float64</th><th>float64</th><th>float64</th><th>float64</th><th>float64</th><th>float64</th><th>float64</th><th>float64</th><th>float64</th><th>float64</th><th>float64</th><th>float64</th><th>float64</th><th>float64</th><th>float64</th><th>float64</th><th>float64</th><th>float64</th><th>float64</th><th>float64</th><th>float64</th><th>float64</th><th>float64</th><th>float64</th><th>float64</th><th>float64</th><th>float64</th><th>float64</th><th>float64</th><th>float64</th><th>float64</th><th>float64</th><th>float64</th><th>float64</th><th>float64</th><th>float64</th><th>float64</th><th>float64</th><th>float64</th><th>float64</th><th>float64</th><th>float64</th><th>float64</th><th>float64</th><th>float64</th><th>float64</th><th>float64</th><th>float64</th><th>float64</th><th>float64</th><th>float64</th><th>float64</th><th>float64</th><th>float64</th><th>float64</th><th>float64</th><th>float64</th><th>float64</th><th>float64</th><th>float64</th><th>float64</th><th>float64</th><th>float64</th><th>float64</th><th>float64</th><th>float64</th><th>float64</th><th>float64</th><th>float64</th><th>float64</th><th>float64</th><th>float64</th><th>float64</th><th>float64</th><th>float64</th><th>float64</th><th>float64</th><th>float64</th><th>float64</th><th>float64</th><th>float64</th><th>float64</th><th>float64</th><th>float64</th><th>float64</th><th>float64</th><th>float64</th><th>float64</th><th>float64</th><th>float64</th><th>float64</th><th>float64</th><th>float64</th><th>float64</th><th>float64</th><th>float64</th><th>float64</th><th>float64</th><th>float64</th><th>float64</th><th>float64</th><th>float64</th></tr></thead>\n",
       "</table></div>"
      ],
      "text/plain": [
       "<Table length=0>\n",
       "  band  night   time  ... 2248330034164191744 2248330515200533760 2248332061388762496\n",
       "bytes32 int32 bytes32 ...       float64             float64             float64      \n",
       "------- ----- ------- ... ------------------- ------------------- -------------------"
      ]
     },
     "execution_count": 23,
     "metadata": {},
     "output_type": "execute_result"
    }
   ],
   "source": [
    "info_table"
   ]
  },
  {
   "cell_type": "code",
   "execution_count": 49,
   "id": "4acbe5f7-95f8-49a2-ba07-b66551cde85a",
   "metadata": {},
   "outputs": [
    {
     "name": "stderr",
     "output_type": "stream",
     "text": [
      "  8%|████████                                                                                                 | 11/143 [03:24<40:48, 18.55s/it]\n",
      "  8%|████████                                                                                                 | 11/143 [00:58<10:24,  4.73s/it]"
     ]
    },
    {
     "name": "stdout",
     "output_type": "stream",
     "text": [
      "Saturation\n",
      "Saturation\n",
      "Saturation\n",
      "Saturation\n",
      "Saturation\n",
      "Saturation\n",
      "Saturation\n",
      "Saturation\n",
      "Saturation\n",
      "Saturation\n"
     ]
    },
    {
     "name": "stderr",
     "output_type": "stream",
     "text": [
      " 22%|██████████████████████▊                                                                                  | 31/143 [02:39<07:43,  4.13s/it]"
     ]
    },
    {
     "name": "stdout",
     "output_type": "stream",
     "text": [
      "Saturation\n",
      "Saturation\n",
      "Saturation\n",
      "Saturation\n",
      "Saturation\n",
      "Saturation\n",
      "Saturation\n",
      "Saturation\n",
      "Saturation\n",
      "Saturation\n"
     ]
    },
    {
     "name": "stderr",
     "output_type": "stream",
     "text": [
      " 22%|███████████████████████▍                                                                                 | 32/143 [02:41<06:42,  3.63s/it]"
     ]
    },
    {
     "name": "stdout",
     "output_type": "stream",
     "text": [
      "Saturation\n"
     ]
    },
    {
     "name": "stderr",
     "output_type": "stream",
     "text": [
      " 35%|████████████████████████████████████▋                                                                    | 50/143 [04:06<07:17,  4.70s/it]"
     ]
    },
    {
     "name": "stdout",
     "output_type": "stream",
     "text": [
      "Saturation\n",
      "Saturation\n",
      "Saturation\n",
      "Saturation\n",
      "Saturation\n",
      "Saturation\n",
      "Saturation\n",
      "Saturation\n",
      "Saturation\n",
      "Saturation\n",
      "Saturation\n",
      "Saturation\n",
      "Saturation\n",
      "Saturation\n",
      "Saturation\n"
     ]
    },
    {
     "name": "stderr",
     "output_type": "stream",
     "text": [
      " 36%|█████████████████████████████████████▍                                                                   | 51/143 [04:08<06:17,  4.10s/it]"
     ]
    },
    {
     "name": "stdout",
     "output_type": "stream",
     "text": [
      "Saturation\n"
     ]
    },
    {
     "name": "stderr",
     "output_type": "stream",
     "text": [
      " 66%|█████████████████████████████████████████████████████████████████████                                    | 94/143 [07:23<05:05,  6.24s/it]"
     ]
    },
    {
     "name": "stdout",
     "output_type": "stream",
     "text": [
      "Saturation\n",
      "Saturation\n"
     ]
    },
    {
     "name": "stderr",
     "output_type": "stream",
     "text": [
      " 69%|████████████████████████████████████████████████████████████████████████▋                                | 99/143 [07:42<03:52,  5.29s/it]"
     ]
    },
    {
     "name": "stdout",
     "output_type": "stream",
     "text": [
      "Saturation\n",
      "Saturation\n",
      "Saturation\n",
      "Saturation\n",
      "Saturation\n",
      "Saturation\n",
      "Saturation\n"
     ]
    },
    {
     "name": "stderr",
     "output_type": "stream",
     "text": [
      " 70%|████████████████████████████████████████████████████████████████████████▋                               | 100/143 [07:45<03:06,  4.35s/it]"
     ]
    },
    {
     "name": "stdout",
     "output_type": "stream",
     "text": [
      "Saturation\n",
      "Saturation\n",
      "Saturation\n"
     ]
    },
    {
     "name": "stderr",
     "output_type": "stream",
     "text": [
      " 80%|██████████████████████████████████████████████████████████████████████████████████▉                     | 114/143 [09:14<03:13,  6.67s/it]"
     ]
    },
    {
     "name": "stdout",
     "output_type": "stream",
     "text": [
      "Saturation\n",
      "Saturation\n",
      "Saturation\n",
      "Saturation\n"
     ]
    },
    {
     "name": "stderr",
     "output_type": "stream",
     "text": [
      " 87%|██████████████████████████████████████████████████████████████████████████████████████████▉             | 125/143 [10:48<02:55,  9.76s/it]"
     ]
    },
    {
     "name": "stdout",
     "output_type": "stream",
     "text": [
      "Saturation\n",
      "Saturation\n",
      "Saturation\n",
      "Saturation\n",
      "Saturation\n",
      "Saturation\n",
      "Saturation\n"
     ]
    },
    {
     "name": "stderr",
     "output_type": "stream",
     "text": [
      "100%|████████████████████████████████████████████████████████████████████████████████████████████████████████| 143/143 [12:27<00:00,  5.23s/it]\n"
     ]
    }
   ],
   "source": [
    "# multi band - exec cell\n",
    "\n",
    "# list of dates\n",
    "date_list = list(PATH.glob('[!.]*'))\n",
    "\n",
    "# Initialize the progress bar\n",
    "progress_bar = tqdm(total=len(date_list))\n",
    "\n",
    "for date_path in date_list:\n",
    "    # date string\n",
    "    date = date_path.name\n",
    "\n",
    "    # # open calibration files\n",
    "    # try:\n",
    "    #     b = fits.open(BIAS_PATH / date / 'master_bias.fit', output_verify='warn')\n",
    "    #     ccd_bias_data = CCDData(b[0].data,\n",
    "    #                             StdDevUncertainty(b[2].data, unit='adu'),\n",
    "    #                             b[1].data,\n",
    "    #                             unit='adu')\n",
    "    # except (ValueError, FileNotFoundError):\n",
    "    #     progress_bar.update(1)\n",
    "    #     continue\n",
    "\n",
    "    for file in date_path.glob(\"[!._]*.wcs\"):\n",
    "        # read WCS\n",
    "        try:\n",
    "            wcs = aswcs.ini_to_wcs(file.with_suffix('.ini'))\n",
    "        \n",
    "            with fits.open(file.with_suffix('.fts'), output_verify='warn') as f:\n",
    "                # # get data and bias subtraction\n",
    "                # data = ccdp.subtract_bias(CCDData(f[0].data, unit='adu'), ccd_bias_data).data\n",
    "                data = CCDData(f[0].data, unit='adu', wcs=wcs)\n",
    "                \n",
    "                # centroiding and setting aperture size\n",
    "                raw_aperstats = ApertureStats(data, aperture)\n",
    "                centroids = raw_aperstats.centroid\n",
    "                aper_size = raw_aperstats.fwhm[0].value * APER_SIZE_FACTOR\n",
    "            \n",
    "                # get background\n",
    "                sigclip = SigmaClip(sigma=3.0, maxiters=10)\n",
    "                bkg_stats = ApertureStats(data,\n",
    "                                          CircularAnnulus(centroids, r_in=aper_size * 1.7, r_out=aper_size * 1.7 * 3 / 2),\n",
    "                                          sigma_clip=sigclip)\n",
    "        \n",
    "                # photometry\n",
    "                aper_stats_bkgsub = ApertureStats(data.data,\n",
    "                                                  CircularAperture(centroids, r=aper_size),\n",
    "                                                  local_bkg=bkg_stats.median.value,\n",
    "                                                  error=calc_total_error(f[0].data.astype(np.float64), 0, 1.85))\n",
    "                # reject saturation\n",
    "                if np.max(aper_stats_bkgsub.max) > 64000:\n",
    "                    print(\"Saturation\")\n",
    "                    # raise ValueError('Saturation')\n",
    "                \n",
    "                phot_result_list = []\n",
    "                pixel_pos_list = []\n",
    "                for i in aper_stats_bkgsub:\n",
    "                    phot_result_list.append(i.sum)\n",
    "                    pixel_pos_list.append(i.centroid)\n",
    "                \n",
    "                # save to table\n",
    "                info_table.add_row([f[0].header['FILTER'],\n",
    "                                    date,\n",
    "                                    f[0].header['DATE-OBS'],\n",
    "                                    f[0].header['JD'],\n",
    "                                    f[0].header['AIRMASS']])\n",
    "                phot_table.add_row(phot_result_list)\n",
    "                pixel_table.add_row(pixel_pos_list)\n",
    "                    \n",
    "                \n",
    "                # supercomp_flux = np.sum(aper_stats_bkgsub.sum[1:])\n",
    "                # target_var = aper_stats_bkgsub.sum_err[0]\n",
    "                # supercomp_var = np.sum(aper_stats_bkgsub.sum_err[1:] ** 2)\n",
    "                    \n",
    "                \n",
    "        except Exception as e:\n",
    "            raise e\n",
    "            \n",
    "    progress_bar.update(1)\n",
    "\n",
    "progress_bar.close()"
   ]
  },
  {
   "cell_type": "code",
   "execution_count": 47,
   "id": "4ada3829-6ae4-4c92-8e2e-75f6251f149b",
   "metadata": {},
   "outputs": [],
   "source": [
    "table_save = table.copy()"
   ]
  },
  {
   "cell_type": "code",
   "execution_count": 50,
   "id": "e54fda4b-3a1d-4e73-aac2-ab7bbe3abb92",
   "metadata": {},
   "outputs": [],
   "source": [
    "table.write('full_table_hd19.fits')"
   ]
  },
  {
   "cell_type": "code",
   "execution_count": 52,
   "id": "5fab00c6-b4db-4a3e-a246-1612b5f1ee50",
   "metadata": {},
   "outputs": [],
   "source": [
    "import pickle\n",
    "with open('full_table.pkl', 'wb') as f:\n",
    "    pickle.dump(table, f, pickle.HIGHEST_PROTOCOL)"
   ]
  },
  {
   "cell_type": "code",
   "execution_count": 51,
   "id": "8080accf-7448-4ecf-87d9-8c83e180636e",
   "metadata": {},
   "outputs": [
    {
     "data": {
      "text/html": [
       "<div><i>Table length=7411</i>\n",
       "<table id=\"table140277763594448\" class=\"table-striped table-bordered table-condensed\">\n",
       "<thead><tr><th>band</th><th>night</th><th>time</th><th>jd</th><th>airmass</th><th>2248120233601665536</th><th>2248125937318210688</th><th>2248126040397448832</th><th>2248126315275354496</th><th>2248126383994806912</th><th>2248126383994807040</th><th>2248126521433759872</th><th>2248126521433760640</th><th>2248126555793497600</th><th>2248127174268812160</th><th>2248127311707783040</th><th>2248127380427259648</th><th>2248129819968665856</th><th>2248130232285526528</th><th>2248132220852226432</th><th>2248132392650918144</th><th>2248133152863306112</th><th>2248133187223044864</th></tr></thead>\n",
       "<thead><tr><th>bytes32</th><th>int32</th><th>bytes32</th><th>float64</th><th>float64</th><th>float64</th><th>float64</th><th>float64</th><th>float64</th><th>float64</th><th>float64</th><th>float64</th><th>float64</th><th>float64</th><th>float64</th><th>float64</th><th>float64</th><th>float64</th><th>float64</th><th>float64</th><th>float64</th><th>float64</th><th>float64</th></tr></thead>\n",
       "<tr><td>B</td><td>20230627</td><td>2023-06-28T02:14:36.070</td><td>2460123.5934730326</td><td>1.36117194472</td><td>nan</td><td>nan</td><td>nan</td><td>nan</td><td>nan</td><td>nan</td><td>nan</td><td>nan</td><td>nan</td><td>nan</td><td>nan</td><td>nan</td><td>nan</td><td>nan</td><td>nan</td><td>nan</td><td>nan</td><td>nan</td></tr>\n",
       "<tr><td>B</td><td>20230627</td><td>2023-06-28T02:14:36.070</td><td>2460123.5934730326</td><td>1.36117194472</td><td>3634.4699491188844</td><td>5401.177856409149</td><td>809.6454394804232</td><td>781242.511494014</td><td>1668.1276916912893</td><td>4160.419564695545</td><td>5817.510337121565</td><td>1277.0368576411715</td><td>4548.740352295337</td><td>3973.838388417552</td><td>17952.74955574747</td><td>1702.9463337766874</td><td>4518.469278034454</td><td>26623.557283888527</td><td>19515.530797230043</td><td>10981.035306395344</td><td>14566.049221392284</td><td>1191.5494585989322</td></tr>\n",
       "<tr><td>V</td><td>20230627</td><td>2023-06-28T02:06:02.290</td><td>2460123.5875265044</td><td>1.38040740207</td><td>4414.036495327581</td><td>3817.6904626613164</td><td>2953.9988491535114</td><td>670128.8665214505</td><td>2510.864350093072</td><td>3124.1847272954183</td><td>5121.952016547708</td><td>3197.4845764478077</td><td>4325.739891884306</td><td>4089.100870897956</td><td>18666.64909567086</td><td>3050.5394729874074</td><td>6671.723300423163</td><td>22027.86707605754</td><td>19703.94162216918</td><td>16275.44387825331</td><td>10673.65873431477</td><td>1372.562134948274</td></tr>\n",
       "<tr><td>R</td><td>20230627</td><td>2023-06-28T02:24:59.200</td><td>2460123.6006851853</td><td>1.33984954121</td><td>-1434.4976182645269</td><td>2285.4673468351884</td><td>1700.8559099039019</td><td>272298.2906990053</td><td>700.9729581249867</td><td>1450.9889230249887</td><td>2345.5378583000083</td><td>1016.1009120198637</td><td>840.4024627354823</td><td>2274.823566108802</td><td>8613.727959206191</td><td>-429.14206441211275</td><td>5968.132469992431</td><td>7320.843354905266</td><td>8304.41771732481</td><td>7513.291131574446</td><td>2139.5028097878585</td><td>-62.6761484780111</td></tr>\n",
       "<tr><td>I</td><td>20230627</td><td>2023-06-28T02:21:57.100</td><td>2460123.5985775464</td><td>1.34608516429</td><td>513.1059196982337</td><td>917.6488484111348</td><td>1357.4057273860371</td><td>101355.68933261678</td><td>39.530540002963676</td><td>480.12002307102955</td><td>1860.506082290305</td><td>-12.337603680064433</td><td>388.59780907881736</td><td>30.40352123204201</td><td>4084.724951806321</td><td>645.2143770442583</td><td>1879.1767546230435</td><td>3064.1319798820978</td><td>3049.486326353584</td><td>5606.164819576654</td><td>1804.5297102650975</td><td>168.22990331501308</td></tr>\n",
       "<tr><td>V</td><td>20230627</td><td>2023-06-28T02:04:31.410</td><td>2460123.586474653</td><td>1.38380751076</td><td>2675.2311923196385</td><td>3254.2649521776602</td><td>4384.797482791831</td><td>666611.1923334205</td><td>3282.2689346073494</td><td>3339.0416978849635</td><td>3998.684163567963</td><td>1524.5905274905867</td><td>3089.653256624877</td><td>3503.7205401105334</td><td>17878.256335454535</td><td>2113.72970791655</td><td>5985.661009165836</td><td>21670.14315044051</td><td>18095.823533695595</td><td>15206.196823371187</td><td>8702.379535022683</td><td>2646.253011122413</td></tr>\n",
       "<tr><td>I</td><td>20230627</td><td>2023-06-28T02:21:24.699</td><td>2460123.598202546</td><td>1.34720558865</td><td>1502.8822472147447</td><td>1883.4522314886397</td><td>1106.298817818224</td><td>131422.20051717057</td><td>2214.084151316534</td><td>702.1747723973524</td><td>114.77563887755122</td><td>162.57722664507878</td><td>595.9655404249518</td><td>2331.168064406839</td><td>4454.238853516097</td><td>464.04208666473517</td><td>3618.329774155321</td><td>4348.889552102157</td><td>4994.972932781016</td><td>5759.177078846949</td><td>1038.901563634383</td><td>2218.4595098922878</td></tr>\n",
       "<tr><td>R</td><td>20230627</td><td>2023-06-28T02:24:27.010</td><td>2460123.6003126157</td><td>1.34094133399</td><td>3108.1953776706214</td><td>4873.568105202756</td><td>3569.0773447594647</td><td>560912.8269567775</td><td>2039.509317006953</td><td>3427.8740188846873</td><td>3076.4336346920363</td><td>2286.3432862049954</td><td>2688.7044795399906</td><td>4709.925186325291</td><td>18069.636087945255</td><td>1162.5123946314347</td><td>8112.080284969762</td><td>16915.375179106275</td><td>14751.365929745223</td><td>16211.733473742937</td><td>7292.650304342942</td><td>1807.8459833678467</td></tr>\n",
       "<tr><td>V</td><td>20230627</td><td>2023-06-28T02:05:25.789</td><td>2460123.587104051</td><td>1.38174939343</td><td>3448.2040963652057</td><td>4057.3520567469704</td><td>4355.086625049777</td><td>670370.335069656</td><td>934.5383021254966</td><td>3644.874553318567</td><td>4613.926560581938</td><td>2137.9617168348236</td><td>3336.7197199383786</td><td>5079.301815161589</td><td>19168.283061077957</td><td>2012.8201255527715</td><td>7374.868817427848</td><td>23711.60665166724</td><td>18189.82005227616</td><td>15587.990723794966</td><td>9222.404560547624</td><td>2309.557610401054</td></tr>\n",
       "<tr><td>B</td><td>20230627</td><td>2023-06-28T02:15:31.760</td><td>2460123.5941175926</td><td>1.35920848737</td><td>2331.9934057298924</td><td>3303.3771238039762</td><td>-588.1853419459097</td><td>433951.68097966403</td><td>1297.9576017372967</td><td>2158.099904898978</td><td>4244.092966867108</td><td>2314.864764517673</td><td>1997.9540676489987</td><td>3050.7349074781396</td><td>11340.046090197033</td><td>1907.0232377627099</td><td>2999.2064693779726</td><td>17255.436825306937</td><td>13393.641235276704</td><td>5080.45096922752</td><td>5182.062458468887</td><td>2078.997912825042</td></tr>\n",
       "<tr><td>V</td><td>20230627</td><td>2023-06-28T02:06:38.158</td><td>2460123.5879416666</td><td>1.37903779322</td><td>3285.6809834549363</td><td>4917.275518672893</td><td>3367.5269202092686</td><td>668483.3946342526</td><td>898.4406527447468</td><td>3491.4041461432116</td><td>3766.3637056431617</td><td>2717.4660059334774</td><td>1377.4631057671536</td><td>6693.656616000844</td><td>18093.88813276954</td><td>2147.2604135924157</td><td>8999.079048292373</td><td>22232.41796851918</td><td>18207.553345357657</td><td>14755.219426473752</td><td>8201.415314310068</td><td>4000.1700142721206</td></tr>\n",
       "<tr><td>I</td><td>20230627</td><td>2023-06-28T02:20:03.120</td><td>2460123.597258333</td><td>1.35004369312</td><td>1172.4282814252167</td><td>3078.6749197182594</td><td>3152.9768380371816</td><td>240406.96075866272</td><td>2184.5396331349616</td><td>1875.817166121668</td><td>553.5673934838172</td><td>1867.6888411310879</td><td>1983.4421381832665</td><td>2309.6714715038097</td><td>9224.111218977781</td><td>1124.8748184408178</td><td>5039.267020475518</td><td>6610.701867294663</td><td>8790.659860618776</td><td>10754.241252380507</td><td>3789.922198499954</td><td>1495.3724679574716</td></tr>\n",
       "<tr><td>R</td><td>20230627</td><td>2023-06-28T02:27:57.679</td><td>2460123.602750926</td><td>1.33383061971</td><td>2007.4830462044301</td><td>2597.5581031459697</td><td>2455.8287414035785</td><td>192390.78329851333</td><td>1532.6818883341034</td><td>3079.1285793452967</td><td>954.878296710418</td><td>880.7214462593035</td><td>1780.5917422613925</td><td>2538.709272864593</td><td>6016.562398352522</td><td>-453.50718661423355</td><td>1541.7282440448653</td><td>8022.876504111753</td><td>6936.484797175945</td><td>5131.0305458047515</td><td>2935.6501962769794</td><td>-539.4431348045889</td></tr>\n",
       "<tr><td>...</td><td>...</td><td>...</td><td>...</td><td>...</td><td>...</td><td>...</td><td>...</td><td>...</td><td>...</td><td>...</td><td>...</td><td>...</td><td>...</td><td>...</td><td>...</td><td>...</td><td>...</td><td>...</td><td>...</td><td>...</td><td>...</td><td>...</td></tr>\n",
       "<tr><td>R</td><td>20231113</td><td>2023-11-14T06:40:10.669</td><td>2460262.777901273</td><td>2.54285291282</td><td>2040.8195659087423</td><td>4750.191625380679</td><td>2570.834630144393</td><td>321795.0523649749</td><td>2036.7791525177843</td><td>2218.7242114433184</td><td>1889.3089878021285</td><td>890.7234699794494</td><td>792.5385340029861</td><td>4114.836160891188</td><td>10261.732027702474</td><td>1670.718265451097</td><td>5214.987657189269</td><td>11301.199824167901</td><td>9838.392100806319</td><td>11695.555576421351</td><td>3097.820473593566</td><td>1404.4182908073012</td></tr>\n",
       "<tr><td>V</td><td>20231113</td><td>2023-11-14T06:29:17.768</td><td>2460262.77034456</td><td>2.48354204627</td><td>3261.456150101696</td><td>4775.969082383972</td><td>2547.907309176716</td><td>451090.9473077634</td><td>1459.0435737591106</td><td>2426.3574836924226</td><td>3819.5896840490277</td><td>-128.26749858441025</td><td>193.4185974472756</td><td>2208.1586014363124</td><td>15607.885287014824</td><td>701.4358152763415</td><td>4837.961188647285</td><td>16910.29331853499</td><td>11733.092096213273</td><td>9932.1674383082</td><td>7185.695012793953</td><td>722.3830433669268</td></tr>\n",
       "<tr><td>B</td><td>20231113</td><td>2023-11-14T06:32:08.900</td><td>2460262.7723252317</td><td>2.49978410266</td><td>3793.304116994772</td><td>1741.7661812707975</td><td>2383.8626204331586</td><td>392034.6949536423</td><td>2756.0614961908586</td><td>2841.5242830099914</td><td>4098.384152576361</td><td>-316.79918684893255</td><td>653.1755005722837</td><td>2133.878393039933</td><td>10153.512727725687</td><td>994.8671653234319</td><td>3408.1093868550474</td><td>15920.758742426002</td><td>8488.507886768071</td><td>6740.071055492843</td><td>7506.5513152179465</td><td>-134.4794502828251</td></tr>\n",
       "<tr><td>R</td><td>20231113</td><td>2023-11-14T06:40:39.679</td><td>2460262.778237037</td><td>2.54548693401</td><td>2058.769190036608</td><td>3657.108802340687</td><td>3872.1169559186665</td><td>339629.2222627807</td><td>677.2073102484262</td><td>709.5687772640736</td><td>2309.1321568122003</td><td>1742.7514105014607</td><td>2878.2312877783725</td><td>2371.0344500606006</td><td>9565.65147989723</td><td>674.6457510157039</td><td>4119.9678690822875</td><td>11315.077312638543</td><td>11110.978483298235</td><td>11193.20971938301</td><td>3453.725656719005</td><td>980.3731789301642</td></tr>\n",
       "<tr><td>R</td><td>20231113</td><td>2023-11-14T06:34:56.350</td><td>2460262.7742633102</td><td>2.51418168304</td><td>354.8252691190959</td><td>3853.8972402406316</td><td>3202.7901897918864</td><td>341477.3903586415</td><td>1051.8857582833161</td><td>1759.165807887716</td><td>1381.3400688145762</td><td>855.5836275782235</td><td>2285.101810160832</td><td>3190.573259882357</td><td>9858.440502621088</td><td>2005.2239747625626</td><td>4747.535748504558</td><td>11055.990263358715</td><td>9456.988272138417</td><td>12605.708183005525</td><td>4611.337593830611</td><td>912.5635105886049</td></tr>\n",
       "<tr><td>I</td><td>20231113</td><td>2023-11-14T06:27:27</td><td>2460262.7690625</td><td>2.47311796251</td><td>1347.8607466851324</td><td>4104.800942702433</td><td>6096.896090647562</td><td>418471.0647500976</td><td>2538.255867446472</td><td>3020.7506756316516</td><td>3192.5936144823318</td><td>1601.677247577731</td><td>3043.03013740767</td><td>5229.933514592829</td><td>17275.28056874435</td><td>2435.4485942735964</td><td>7303.637769908756</td><td>12201.43462350833</td><td>13263.551522194772</td><td>21000.773855892185</td><td>5463.206985642698</td><td>3086.230377761678</td></tr>\n",
       "<tr><td>R</td><td>20231113</td><td>2023-11-14T06:33:58.310</td><td>2460262.773591551</td><td>2.50888956845</td><td>1642.9354177059884</td><td>4700.779639081741</td><td>2029.0464164859336</td><td>347507.3073700061</td><td>2170.784616880917</td><td>697.1702671939163</td><td>2685.8108093630008</td><td>1289.00933249218</td><td>751.658912218725</td><td>2915.535411807289</td><td>11521.295257689562</td><td>164.43689568643765</td><td>4572.27226105609</td><td>11567.564370051412</td><td>10184.478379544213</td><td>12761.025992975625</td><td>3878.308462996521</td><td>1371.8427453490367</td></tr>\n",
       "<tr><td>I</td><td>20231113</td><td>2023-11-14T06:26:28.989</td><td>2460262.768391088</td><td>2.46781551097</td><td>1706.379526654878</td><td>5098.496370445489</td><td>4253.863205904434</td><td>394840.9381354789</td><td>858.7987402506886</td><td>1555.1255001898269</td><td>2336.807052790009</td><td>293.7592782833012</td><td>2755.3446408392183</td><td>4584.93797672051</td><td>15410.84533704997</td><td>1597.5199821364008</td><td>7081.221071428514</td><td>12215.219509740797</td><td>13265.08204913111</td><td>20118.188966290094</td><td>4645.268339432426</td><td>2761.378913353108</td></tr>\n",
       "<tr><td>B</td><td>20231113</td><td>2023-11-14T06:31:20.268</td><td>2460262.771762384</td><td>2.49534143167</td><td>2946.003214492419</td><td>1716.8316324067232</td><td>2655.0151208059224</td><td>382534.2613462926</td><td>1571.794363743138</td><td>3947.573932864671</td><td>2581.7540084053076</td><td>1971.8564170176883</td><td>1377.024491606277</td><td>2256.731538611307</td><td>9407.522939829309</td><td>2923.8547182542907</td><td>2082.2062873279865</td><td>13753.64605437946</td><td>7261.6853276720885</td><td>4568.08547476608</td><td>5979.641029764509</td><td>92.36223091237645</td></tr>\n",
       "<tr><td>V</td><td>20231113</td><td>2023-11-14T06:29:53.359</td><td>2460262.7707564817</td><td>2.48679617941</td><td>2465.617094108455</td><td>2253.835760149541</td><td>3502.3536534261143</td><td>455720.4385732475</td><td>-1557.2615208562718</td><td>723.7355391981716</td><td>3744.2287678768803</td><td>1180.9730003986892</td><td>1579.1874595448558</td><td>1882.6285200234352</td><td>12507.517412785375</td><td>1798.8736542561537</td><td>6233.656692596367</td><td>16733.891322590396</td><td>13136.524942766697</td><td>10663.888178087323</td><td>6969.749727226599</td><td>-74.05686195960368</td></tr>\n",
       "<tr><td>R</td><td>20231113</td><td>2023-11-14T06:41:08.669</td><td>2460262.7785725696</td><td>2.54813385421</td><td>1798.7471054521843</td><td>3191.417755370462</td><td>3421.929232372905</td><td>320535.42321436875</td><td>719.1719124133355</td><td>1721.9699315881883</td><td>2632.6767048345705</td><td>403.46444407237055</td><td>483.19582737875334</td><td>3704.7969485138287</td><td>9339.520650264396</td><td>3513.5567891042656</td><td>3916.9124656028844</td><td>9182.251105867632</td><td>10029.199489659017</td><td>12012.026680029965</td><td>4309.602746842813</td><td>-503.74354116378595</td></tr>\n",
       "<tr><td>B</td><td>20231113</td><td>2023-11-14T06:30:31.969</td><td>2460262.7712033563</td><td>2.49091989919</td><td>-83.7588224931007</td><td>3193.949077520305</td><td>3939.8512603449362</td><td>394048.9485676583</td><td>1770.610419395901</td><td>3075.0061013994914</td><td>3830.9322662417103</td><td>1661.2051765388796</td><td>2394.730812090739</td><td>692.6266087004303</td><td>10853.302529779266</td><td>2335.0840744846055</td><td>2843.7840182250156</td><td>15551.538153802052</td><td>10829.612413271903</td><td>5794.819572834396</td><td>5513.684184239439</td><td>-1980.156365190112</td></tr>\n",
       "<tr><td>I</td><td>20231113</td><td>2023-11-14T06:26:58.070</td><td>2460262.768727662</td><td>2.47046632719</td><td>2803.866837746662</td><td>5403.054003635711</td><td>5960.743379376439</td><td>408850.5301055728</td><td>794.3663398956691</td><td>3659.398907907762</td><td>3678.3988122850715</td><td>873.1128903678025</td><td>1392.5948088754938</td><td>6043.028936238366</td><td>16762.578752098212</td><td>3399.4820364264006</td><td>8781.36108470225</td><td>12091.977561432443</td><td>12612.522643609569</td><td>21175.766431920016</td><td>4411.375373550338</td><td>2726.5565927260805</td></tr>\n",
       "<tr><td>R</td><td>20231113</td><td>2023-11-14T06:34:27.338</td><td>2460262.773927546</td><td>2.51153600934</td><td>1770.4968216686686</td><td>4072.5737715860564</td><td>3259.900613488172</td><td>341463.0317982946</td><td>2178.173844683767</td><td>678.4525149271783</td><td>1935.6746178928083</td><td>972.5160862205656</td><td>3191.997352888151</td><td>5142.305728255255</td><td>13180.889592845946</td><td>922.6161839343878</td><td>4935.637225683751</td><td>10632.331002663814</td><td>10305.511809239193</td><td>11812.054207403415</td><td>4372.182990291356</td><td>2628.0583315695103</td></tr>\n",
       "</table></div>"
      ],
      "text/plain": [
       "<Table length=7411>\n",
       "  band   night             time                  jd         ... 2248132392650918144 2248133152863306112 2248133187223044864\n",
       "bytes32  int32           bytes32              float64       ...       float64             float64             float64      \n",
       "------- -------- ----------------------- ------------------ ... ------------------- ------------------- -------------------\n",
       "      B 20230627 2023-06-28T02:14:36.070 2460123.5934730326 ...                 nan                 nan                 nan\n",
       "      B 20230627 2023-06-28T02:14:36.070 2460123.5934730326 ...  10981.035306395344  14566.049221392284  1191.5494585989322\n",
       "      V 20230627 2023-06-28T02:06:02.290 2460123.5875265044 ...   16275.44387825331   10673.65873431477   1372.562134948274\n",
       "      R 20230627 2023-06-28T02:24:59.200 2460123.6006851853 ...   7513.291131574446  2139.5028097878585   -62.6761484780111\n",
       "      I 20230627 2023-06-28T02:21:57.100 2460123.5985775464 ...   5606.164819576654  1804.5297102650975  168.22990331501308\n",
       "      V 20230627 2023-06-28T02:04:31.410  2460123.586474653 ...  15206.196823371187   8702.379535022683   2646.253011122413\n",
       "      I 20230627 2023-06-28T02:21:24.699  2460123.598202546 ...   5759.177078846949   1038.901563634383  2218.4595098922878\n",
       "      R 20230627 2023-06-28T02:24:27.010 2460123.6003126157 ...  16211.733473742937   7292.650304342942  1807.8459833678467\n",
       "      V 20230627 2023-06-28T02:05:25.789  2460123.587104051 ...  15587.990723794966   9222.404560547624   2309.557610401054\n",
       "      B 20230627 2023-06-28T02:15:31.760 2460123.5941175926 ...    5080.45096922752   5182.062458468887   2078.997912825042\n",
       "      V 20230627 2023-06-28T02:06:38.158 2460123.5879416666 ...  14755.219426473752   8201.415314310068  4000.1700142721206\n",
       "      I 20230627 2023-06-28T02:20:03.120  2460123.597258333 ...  10754.241252380507   3789.922198499954  1495.3724679574716\n",
       "      R 20230627 2023-06-28T02:27:57.679  2460123.602750926 ...  5131.0305458047515  2935.6501962769794  -539.4431348045889\n",
       "    ...      ...                     ...                ... ...                 ...                 ...                 ...\n",
       "      R 20231113 2023-11-14T06:40:10.669  2460262.777901273 ...  11695.555576421351   3097.820473593566  1404.4182908073012\n",
       "      V 20231113 2023-11-14T06:29:17.768   2460262.77034456 ...     9932.1674383082   7185.695012793953   722.3830433669268\n",
       "      B 20231113 2023-11-14T06:32:08.900 2460262.7723252317 ...   6740.071055492843  7506.5513152179465  -134.4794502828251\n",
       "      R 20231113 2023-11-14T06:40:39.679  2460262.778237037 ...   11193.20971938301   3453.725656719005   980.3731789301642\n",
       "      R 20231113 2023-11-14T06:34:56.350 2460262.7742633102 ...  12605.708183005525   4611.337593830611   912.5635105886049\n",
       "      I 20231113     2023-11-14T06:27:27    2460262.7690625 ...  21000.773855892185   5463.206985642698   3086.230377761678\n",
       "      R 20231113 2023-11-14T06:33:58.310  2460262.773591551 ...  12761.025992975625   3878.308462996521  1371.8427453490367\n",
       "      I 20231113 2023-11-14T06:26:28.989  2460262.768391088 ...  20118.188966290094   4645.268339432426   2761.378913353108\n",
       "      B 20231113 2023-11-14T06:31:20.268  2460262.771762384 ...    4568.08547476608   5979.641029764509   92.36223091237645\n",
       "      V 20231113 2023-11-14T06:29:53.359 2460262.7707564817 ...  10663.888178087323   6969.749727226599  -74.05686195960368\n",
       "      R 20231113 2023-11-14T06:41:08.669 2460262.7785725696 ...  12012.026680029965   4309.602746842813 -503.74354116378595\n",
       "      B 20231113 2023-11-14T06:30:31.969 2460262.7712033563 ...   5794.819572834396   5513.684184239439  -1980.156365190112\n",
       "      I 20231113 2023-11-14T06:26:58.070  2460262.768727662 ...  21175.766431920016   4411.375373550338  2726.5565927260805\n",
       "      R 20231113 2023-11-14T06:34:27.338  2460262.773927546 ...  11812.054207403415   4372.182990291356  2628.0583315695103"
      ]
     },
     "execution_count": 51,
     "metadata": {},
     "output_type": "execute_result"
    }
   ],
   "source": [
    "table"
   ]
  }
 ],
 "metadata": {
  "kernelspec": {
   "display_name": "Python 3 (ipykernel)",
   "language": "python",
   "name": "python3"
  },
  "language_info": {
   "codemirror_mode": {
    "name": "ipython",
    "version": 3
   },
   "file_extension": ".py",
   "mimetype": "text/x-python",
   "name": "python",
   "nbconvert_exporter": "python",
   "pygments_lexer": "ipython3",
   "version": "3.10.9"
  }
 },
 "nbformat": 4,
 "nbformat_minor": 5
}
