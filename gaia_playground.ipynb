{
 "cells": [
  {
   "cell_type": "code",
   "execution_count": null,
   "metadata": {
    "collapsed": true
   },
   "outputs": [],
   "source": [
    "5157183324996790272"
   ]
  },
  {
   "cell_type": "code",
   "execution_count": 1,
   "outputs": [],
   "source": [
    "import astropy.units as u\n",
    "from astropy.coordinates import SkyCoord\n",
    "from astroquery.gaia import Gaia\n",
    "Gaia.MAIN_GAIA_TABLE = \"gaiadr3.gaia_source\""
   ],
   "metadata": {
    "collapsed": false,
    "ExecuteTime": {
     "end_time": "2024-11-12T18:34:05.491888Z",
     "start_time": "2024-11-12T18:34:04.043577Z"
    }
   }
  },
  {
   "cell_type": "code",
   "execution_count": 4,
   "outputs": [],
   "source": [
    "coord = SkyCoord('42.2477235016d -14.5372770078d')"
   ],
   "metadata": {
    "collapsed": false,
    "ExecuteTime": {
     "end_time": "2024-11-12T18:35:01.488987Z",
     "start_time": "2024-11-12T18:35:01.485805Z"
    }
   }
  },
  {
   "cell_type": "code",
   "execution_count": 12,
   "outputs": [],
   "source": [
    "# Query Gaia around the coord within the radius\n",
    "query = f\"\"\"\n",
    "SELECT TOP 1000\n",
    "    source_id, ra, dec, phot_g_mean_mag,\n",
    "    phot_bp_mean_mag, phot_rp_mean_mag,\n",
    "    bp_rp, bp_g, g_rp, -- Precomputed color indices\n",
    "    teff_gspphot,  -- Effective temperature\n",
    "    phot_variable_flag,\n",
    "    classprob_dsc_combmod_star\n",
    "FROM gaiadr3.gaia_source\n",
    "WHERE CONTAINS(\n",
    "    POINT('ICRS', ra, dec),\n",
    "    CIRCLE('ICRS', {coord.ra.deg}, {coord.dec.deg}, {(50 * u.arcsec).to(u.deg).value})\n",
    ") = 1\n",
    "AND (classprob_dsc_combmod_star > 0.9) -- Probability it's a star\n",
    "\"\"\"\n",
    "\n",
    "# Execute the query\n",
    "job = Gaia.launch_job(query)\n",
    "result = job.get_results()"
   ],
   "metadata": {
    "collapsed": false,
    "ExecuteTime": {
     "end_time": "2024-11-12T18:43:09.996234Z",
     "start_time": "2024-11-12T18:43:08.983564Z"
    }
   }
  },
  {
   "cell_type": "code",
   "execution_count": 17,
   "outputs": [
    {
     "data": {
      "text/plain": "5157558632124789376"
     },
     "execution_count": 17,
     "metadata": {},
     "output_type": "execute_result"
    }
   ],
   "source": [
    "result['SOURCE_ID'][1]"
   ],
   "metadata": {
    "collapsed": false,
    "ExecuteTime": {
     "end_time": "2024-11-12T18:44:08.960729Z",
     "start_time": "2024-11-12T18:44:08.954881Z"
    }
   }
  },
  {
   "cell_type": "code",
   "execution_count": 18,
   "outputs": [
    {
     "data": {
      "text/plain": "<Table length=2>\n     SOURCE_ID              ra        ... classprob_dsc_combmod_star\n                           deg        ...                           \n       int64             float64      ...          float32          \n------------------- ----------------- ... --------------------------\n5157183324996790272 42.24772350156558 ...                 0.99296397\n5157558632124789376 42.25284037217215 ...                 0.99999243",
      "text/html": "<div><i>Table length=2</i>\n<table id=\"table140577005110128\" class=\"table-striped table-bordered table-condensed\">\n<thead><tr><th>SOURCE_ID</th><th>ra</th><th>dec</th><th>phot_g_mean_mag</th><th>phot_bp_mean_mag</th><th>phot_rp_mean_mag</th><th>bp_rp</th><th>bp_g</th><th>g_rp</th><th>teff_gspphot</th><th>phot_variable_flag</th><th>classprob_dsc_combmod_star</th></tr></thead>\n<thead><tr><th></th><th>deg</th><th>deg</th><th>mag</th><th>mag</th><th>mag</th><th>mag</th><th>mag</th><th>mag</th><th>K</th><th></th><th></th></tr></thead>\n<thead><tr><th>int64</th><th>float64</th><th>float64</th><th>float32</th><th>float32</th><th>float32</th><th>float32</th><th>float32</th><th>float32</th><th>float32</th><th>object</th><th>float32</th></tr></thead>\n<tr><td>5157183324996790272</td><td>42.24772350156558</td><td>-14.537277007824862</td><td>12.088775</td><td>13.34378</td><td>10.974837</td><td>2.3689423</td><td>1.2550049</td><td>1.1139374</td><td>--</td><td>VARIABLE</td><td>0.99296397</td></tr>\n<tr><td>5157558632124789376</td><td>42.25284037217215</td><td>-14.527187275484879</td><td>19.774944</td><td>20.67897</td><td>18.770815</td><td>1.9081554</td><td>0.90402603</td><td>1.0041294</td><td>--</td><td>NOT_AVAILABLE</td><td>0.99999243</td></tr>\n</table></div>"
     },
     "execution_count": 18,
     "metadata": {},
     "output_type": "execute_result"
    }
   ],
   "source": [
    "result"
   ],
   "metadata": {
    "collapsed": false,
    "ExecuteTime": {
     "end_time": "2024-11-12T19:03:54.444643Z",
     "start_time": "2024-11-12T19:03:54.439865Z"
    }
   }
  }
 ],
 "metadata": {
  "kernelspec": {
   "display_name": "Python 3",
   "language": "python",
   "name": "python3"
  },
  "language_info": {
   "codemirror_mode": {
    "name": "ipython",
    "version": 2
   },
   "file_extension": ".py",
   "mimetype": "text/x-python",
   "name": "python",
   "nbconvert_exporter": "python",
   "pygments_lexer": "ipython2",
   "version": "2.7.6"
  }
 },
 "nbformat": 4,
 "nbformat_minor": 0
}
