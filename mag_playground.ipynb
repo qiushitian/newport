{
 "cells": [
  {
   "cell_type": "code",
   "execution_count": 1,
   "metadata": {
    "collapsed": true,
    "ExecuteTime": {
     "end_time": "2025-01-23T22:21:38.418219Z",
     "start_time": "2025-01-23T22:21:26.194524Z"
    }
   },
   "outputs": [],
   "source": [
    "from astropy import table\n",
    "from newport import *\n",
    "from astroquery.simbad import Simbad\n",
    "import warnings\n",
    "import astropy.units as u\n",
    "from astroquery.utils.tap.core import TapPlus\n",
    "\n",
    "N_COL_HEAD = 5\n",
    "SIMBAD_TAP = TapPlus(url=\"http://simbad.u-strasbg.fr/simbad/sim-tap\")"
   ]
  },
  {
   "cell_type": "markdown",
   "source": [
    "## onerel goes cocoo"
   ],
   "metadata": {
    "collapsed": false
   }
  },
  {
   "cell_type": "code",
   "execution_count": 40,
   "outputs": [],
   "source": [
    "fn = 'HD_86226'\n",
    "phot_table_all_band = table.Table.read(f'tables/phot/photometry_{fn}.fits')\n",
    "phot_table = phot_table_all_band[phot_table_all_band['band'] == 'B']"
   ],
   "metadata": {
    "collapsed": false,
    "ExecuteTime": {
     "end_time": "2025-01-24T00:38:57.873069Z",
     "start_time": "2025-01-24T00:38:57.658144Z"
    }
   }
  },
  {
   "cell_type": "code",
   "execution_count": 45,
   "outputs": [
    {
     "name": "stdout",
     "output_type": "stream",
     "text": [
      "86\n"
     ]
    }
   ],
   "source": [
    "for i in range(1000):\n",
    "    if phot_table.colnames[i] == '5660490510688955904':#TARGET_GAIA_DR3[fn]:\n",
    "        print(i)\n",
    "        break"
   ],
   "metadata": {
    "collapsed": false,
    "ExecuteTime": {
     "end_time": "2025-01-24T00:44:55.886771Z",
     "start_time": "2025-01-24T00:44:55.882017Z"
    }
   }
  },
  {
   "cell_type": "code",
   "execution_count": 47,
   "outputs": [
    {
     "data": {
      "text/plain": "80.0"
     },
     "execution_count": 47,
     "metadata": {},
     "output_type": "execute_result"
    }
   ],
   "source": [
    "1.6e5 / 2000"
   ],
   "metadata": {
    "collapsed": false,
    "ExecuteTime": {
     "end_time": "2025-01-24T00:46:09.938060Z",
     "start_time": "2025-01-24T00:46:09.931896Z"
    }
   }
  },
  {
   "cell_type": "code",
   "execution_count": 46,
   "outputs": [
    {
     "data": {
      "text/plain": "<MaskedColumn name='5660492297395345408' dtype='float64' length=967>\n77.38071380820621\n84.16732160617518\n67.19539001025709\n80.44769490825568\n 82.8443675858366\n87.42076543242312\n60.46848096605158\n80.83145529192451\n69.29238315405975\n64.55651075413952\n71.26677978377019\n71.61366704367659\n              ...\n84.50787104612547\n78.46591248231546\n75.04229886044588\n 74.7647383925869\n77.99293737421529\n 79.9987654894064\n78.66230907005766\n72.49831905775999\n73.88960038684179\n 84.2758350796218\n77.07309635488369",
      "text/html": "&lt;MaskedColumn name=&apos;5660492297395345408&apos; dtype=&apos;float64&apos; length=967&gt;\n<table>\n<tr><td>77.38071380820621</td></tr>\n<tr><td>84.16732160617518</td></tr>\n<tr><td>67.19539001025709</td></tr>\n<tr><td>80.44769490825568</td></tr>\n<tr><td>82.8443675858366</td></tr>\n<tr><td>87.42076543242312</td></tr>\n<tr><td>60.46848096605158</td></tr>\n<tr><td>80.83145529192451</td></tr>\n<tr><td>69.29238315405975</td></tr>\n<tr><td>64.55651075413952</td></tr>\n<tr><td>71.26677978377019</td></tr>\n<tr><td>71.61366704367659</td></tr>\n<tr><td>...</td></tr>\n<tr><td>84.50787104612547</td></tr>\n<tr><td>78.46591248231546</td></tr>\n<tr><td>75.04229886044588</td></tr>\n<tr><td>74.7647383925869</td></tr>\n<tr><td>77.99293737421529</td></tr>\n<tr><td>79.9987654894064</td></tr>\n<tr><td>78.66230907005766</td></tr>\n<tr><td>72.49831905775999</td></tr>\n<tr><td>73.88960038684179</td></tr>\n<tr><td>84.2758350796218</td></tr>\n<tr><td>77.07309635488369</td></tr>\n</table>"
     },
     "execution_count": 46,
     "metadata": {},
     "output_type": "execute_result"
    }
   ],
   "source": [
    "phot_table[TARGET_GAIA_DR3[fn]] / phot_table['5660490510688955904']"
   ],
   "metadata": {
    "collapsed": false,
    "ExecuteTime": {
     "end_time": "2025-01-24T00:45:49.211802Z",
     "start_time": "2025-01-24T00:45:49.152112Z"
    }
   }
  },
  {
   "cell_type": "markdown",
   "source": [
    "## directly related to `magphot.py`"
   ],
   "metadata": {
    "collapsed": false
   }
  },
  {
   "cell_type": "code",
   "execution_count": 10,
   "outputs": [],
   "source": [
    "fn = 'HD_86226'\n",
    "band = 'I'"
   ],
   "metadata": {
    "collapsed": false,
    "ExecuteTime": {
     "end_time": "2025-01-23T22:23:19.195722Z",
     "start_time": "2025-01-23T22:23:19.188032Z"
    }
   }
  },
  {
   "cell_type": "code",
   "execution_count": 3,
   "outputs": [],
   "source": [
    "onerel_table = table.Table.read(f'tables/onerel/onerel_{fn}_{band}.fits')"
   ],
   "metadata": {
    "collapsed": false,
    "ExecuteTime": {
     "end_time": "2025-01-23T22:21:38.559487Z",
     "start_time": "2025-01-23T22:21:38.428081Z"
    }
   }
  },
  {
   "cell_type": "code",
   "execution_count": 11,
   "outputs": [
    {
     "name": "stdout",
     "output_type": "stream",
     "text": [
      "HD_86226\tI\t45\n"
     ]
    }
   ],
   "source": [
    "valid_colnames = []\n",
    "for colname in onerel_table.colnames[N_COL_HEAD:]:\n",
    "    if colname != TARGET_GAIA_DR3[fn]:\n",
    "        valid_colnames.append(colname)\n",
    "\n",
    "print(f'{fn}\\t{band}\\t{len(valid_colnames)}')  # DEV"
   ],
   "metadata": {
    "collapsed": false,
    "ExecuteTime": {
     "end_time": "2025-01-23T22:23:21.151005Z",
     "start_time": "2025-01-23T22:23:21.140613Z"
    }
   }
  },
  {
   "cell_type": "code",
   "execution_count": 30,
   "outputs": [
    {
     "ename": "KeyboardInterrupt",
     "evalue": "",
     "output_type": "error",
     "traceback": [
      "\u001B[0;31m---------------------------------------------------------------------------\u001B[0m",
      "\u001B[0;31mKeyboardInterrupt\u001B[0m                         Traceback (most recent call last)",
      "Cell \u001B[0;32mIn[30], line 5\u001B[0m\n\u001B[1;32m      3\u001B[0m \u001B[38;5;28;01mfor\u001B[39;00m colname \u001B[38;5;129;01min\u001B[39;00m valid_colnames:\n\u001B[1;32m      4\u001B[0m     \u001B[38;5;28;01mtry\u001B[39;00m:\n\u001B[0;32m----> 5\u001B[0m         mags \u001B[38;5;241m=\u001B[39m \u001B[43mSIMBAD_TAP\u001B[49m\u001B[38;5;241;43m.\u001B[39;49m\u001B[43mlaunch_job\u001B[49m\u001B[43m(\u001B[49m\n\u001B[1;32m      6\u001B[0m \u001B[43m            \u001B[49m\u001B[38;5;124;43mf\u001B[39;49m\u001B[38;5;124;43m\"\u001B[39;49m\u001B[38;5;124;43mSELECT I FROM allfluxes JOIN ident USING(oidref) WHERE id = \u001B[39;49m\u001B[38;5;124;43m'\u001B[39;49m\u001B[38;5;124;43mGaia DR3 \u001B[39;49m\u001B[38;5;132;43;01m{\u001B[39;49;00m\u001B[43mcolname\u001B[49m\u001B[38;5;132;43;01m}\u001B[39;49;00m\u001B[38;5;124;43m'\u001B[39;49m\u001B[38;5;124;43m;\u001B[39;49m\u001B[38;5;124;43m\"\u001B[39;49m\n\u001B[1;32m      7\u001B[0m \u001B[43m        \u001B[49m\u001B[43m)\u001B[49m\u001B[38;5;241m.\u001B[39mget_results()\n\u001B[1;32m      8\u001B[0m     \u001B[38;5;28;01mexcept\u001B[39;00m \u001B[38;5;167;01mIndexError\u001B[39;00m:\n\u001B[1;32m      9\u001B[0m         \u001B[38;5;66;03m# print(f'No {colname} {band}-mag for {fn}')\u001B[39;00m\n\u001B[1;32m     10\u001B[0m         \u001B[38;5;28;01mcontinue\u001B[39;00m\n",
      "File \u001B[0;32m/opt/anaconda3/envs/space_updated/lib/python3.10/site-packages/astroquery/utils/tap/core.py:285\u001B[0m, in \u001B[0;36mTap.launch_job\u001B[0;34m(self, query, name, output_file, output_format, verbose, dump_to_file, upload_resource, upload_table_name)\u001B[0m\n\u001B[1;32m    277\u001B[0m     response \u001B[38;5;241m=\u001B[39m \u001B[38;5;28mself\u001B[39m\u001B[38;5;241m.\u001B[39m__launchJobMultipart(query,\n\u001B[1;32m    278\u001B[0m                                          upload_resource,\n\u001B[1;32m    279\u001B[0m                                          upload_table_name,\n\u001B[0;32m   (...)\u001B[0m\n\u001B[1;32m    282\u001B[0m                                          verbose,\n\u001B[1;32m    283\u001B[0m                                          name)\n\u001B[1;32m    284\u001B[0m \u001B[38;5;28;01melse\u001B[39;00m:\n\u001B[0;32m--> 285\u001B[0m     response \u001B[38;5;241m=\u001B[39m \u001B[38;5;28;43mself\u001B[39;49m\u001B[38;5;241;43m.\u001B[39;49m\u001B[43m__launchJob\u001B[49m\u001B[43m(\u001B[49m\u001B[43mquery\u001B[49m\u001B[43m,\u001B[49m\n\u001B[1;32m    286\u001B[0m \u001B[43m                                \u001B[49m\u001B[43moutput_format\u001B[49m\u001B[43m,\u001B[49m\n\u001B[1;32m    287\u001B[0m \u001B[43m                                \u001B[49m\u001B[38;5;124;43m\"\u001B[39;49m\u001B[38;5;124;43msync\u001B[39;49m\u001B[38;5;124;43m\"\u001B[39;49m\u001B[43m,\u001B[49m\n\u001B[1;32m    288\u001B[0m \u001B[43m                                \u001B[49m\u001B[43mverbose\u001B[49m\u001B[43m,\u001B[49m\n\u001B[1;32m    289\u001B[0m \u001B[43m                                \u001B[49m\u001B[43mname\u001B[49m\u001B[43m)\u001B[49m\n\u001B[1;32m    290\u001B[0m \u001B[38;5;66;03m# handle redirection\u001B[39;00m\n\u001B[1;32m    291\u001B[0m \u001B[38;5;28;01mif\u001B[39;00m response\u001B[38;5;241m.\u001B[39mstatus \u001B[38;5;241m==\u001B[39m \u001B[38;5;241m303\u001B[39m:\n\u001B[1;32m    292\u001B[0m     \u001B[38;5;66;03m# redirection\u001B[39;00m\n",
      "File \u001B[0;32m/opt/anaconda3/envs/space_updated/lib/python3.10/site-packages/astroquery/utils/tap/core.py:625\u001B[0m, in \u001B[0;36mTap.__launchJob\u001B[0;34m(self, query, outputFormat, context, verbose, name, autorun)\u001B[0m\n\u001B[1;32m    623\u001B[0m     args[\u001B[38;5;124m'\u001B[39m\u001B[38;5;124mjobname\u001B[39m\u001B[38;5;124m'\u001B[39m] \u001B[38;5;241m=\u001B[39m name\n\u001B[1;32m    624\u001B[0m data \u001B[38;5;241m=\u001B[39m \u001B[38;5;28mself\u001B[39m\u001B[38;5;241m.\u001B[39m__connHandler\u001B[38;5;241m.\u001B[39murl_encode(args)\n\u001B[0;32m--> 625\u001B[0m response \u001B[38;5;241m=\u001B[39m \u001B[38;5;28;43mself\u001B[39;49m\u001B[38;5;241;43m.\u001B[39;49m\u001B[43m__connHandler\u001B[49m\u001B[38;5;241;43m.\u001B[39;49m\u001B[43mexecute_tappost\u001B[49m\u001B[43m(\u001B[49m\u001B[43msubcontext\u001B[49m\u001B[38;5;241;43m=\u001B[39;49m\u001B[43mcontext\u001B[49m\u001B[43m,\u001B[49m\n\u001B[1;32m    626\u001B[0m \u001B[43m                                              \u001B[49m\u001B[43mdata\u001B[49m\u001B[38;5;241;43m=\u001B[39;49m\u001B[43mdata\u001B[49m\u001B[43m,\u001B[49m\n\u001B[1;32m    627\u001B[0m \u001B[43m                                              \u001B[49m\u001B[43mverbose\u001B[49m\u001B[38;5;241;43m=\u001B[39;49m\u001B[43mverbose\u001B[49m\u001B[43m)\u001B[49m\n\u001B[1;32m    628\u001B[0m \u001B[38;5;28;01mif\u001B[39;00m verbose:\n\u001B[1;32m    629\u001B[0m     \u001B[38;5;28mprint\u001B[39m(response\u001B[38;5;241m.\u001B[39mstatus, response\u001B[38;5;241m.\u001B[39mreason)\n",
      "File \u001B[0;32m/opt/anaconda3/envs/space_updated/lib/python3.10/site-packages/astroquery/utils/tap/conn/tapconn.py:273\u001B[0m, in \u001B[0;36mTapConn.execute_tappost\u001B[0;34m(self, subcontext, data, content_type, verbose)\u001B[0m\n\u001B[1;32m    252\u001B[0m \u001B[38;5;250m\u001B[39m\u001B[38;5;124;03m\"\"\"Executes a POST request\u001B[39;00m\n\u001B[1;32m    253\u001B[0m \u001B[38;5;124;03mThe connection is done through HTTP or HTTPS depending on the login\u001B[39;00m\n\u001B[1;32m    254\u001B[0m \u001B[38;5;124;03mstatus (logged in -> HTTPS)\u001B[39;00m\n\u001B[0;32m   (...)\u001B[0m\n\u001B[1;32m    270\u001B[0m \u001B[38;5;124;03mAn HTTP(s) response object\u001B[39;00m\n\u001B[1;32m    271\u001B[0m \u001B[38;5;124;03m\"\"\"\u001B[39;00m\n\u001B[1;32m    272\u001B[0m context \u001B[38;5;241m=\u001B[39m \u001B[38;5;28mself\u001B[39m\u001B[38;5;241m.\u001B[39m__get_tap_context(subcontext)\n\u001B[0;32m--> 273\u001B[0m \u001B[38;5;28;01mreturn\u001B[39;00m \u001B[38;5;28;43mself\u001B[39;49m\u001B[38;5;241;43m.\u001B[39;49m\u001B[43m__execute_post\u001B[49m\u001B[43m(\u001B[49m\u001B[43mcontext\u001B[49m\u001B[43m,\u001B[49m\u001B[43m \u001B[49m\u001B[43mdata\u001B[49m\u001B[43m,\u001B[49m\u001B[43m \u001B[49m\u001B[43mcontent_type\u001B[49m\u001B[43m,\u001B[49m\u001B[43m \u001B[49m\u001B[43mverbose\u001B[49m\u001B[43m)\u001B[49m\n",
      "File \u001B[0;32m/opt/anaconda3/envs/space_updated/lib/python3.10/site-packages/astroquery/utils/tap/conn/tapconn.py:427\u001B[0m, in \u001B[0;36mTapConn.__execute_post\u001B[0;34m(self, context, data, content_type, verbose)\u001B[0m\n\u001B[1;32m    425\u001B[0m \u001B[38;5;28mself\u001B[39m\u001B[38;5;241m.\u001B[39m__postHeaders[\u001B[38;5;124m\"\u001B[39m\u001B[38;5;124mContent-type\u001B[39m\u001B[38;5;124m\"\u001B[39m] \u001B[38;5;241m=\u001B[39m content_type\n\u001B[1;32m    426\u001B[0m conn\u001B[38;5;241m.\u001B[39mrequest(\u001B[38;5;124m\"\u001B[39m\u001B[38;5;124mPOST\u001B[39m\u001B[38;5;124m\"\u001B[39m, context, data, \u001B[38;5;28mself\u001B[39m\u001B[38;5;241m.\u001B[39m__postHeaders)\n\u001B[0;32m--> 427\u001B[0m response \u001B[38;5;241m=\u001B[39m \u001B[43mconn\u001B[49m\u001B[38;5;241;43m.\u001B[39;49m\u001B[43mgetresponse\u001B[49m\u001B[43m(\u001B[49m\u001B[43m)\u001B[49m\n\u001B[1;32m    428\u001B[0m \u001B[38;5;28mself\u001B[39m\u001B[38;5;241m.\u001B[39m__currentReason \u001B[38;5;241m=\u001B[39m response\u001B[38;5;241m.\u001B[39mreason\n\u001B[1;32m    429\u001B[0m \u001B[38;5;28mself\u001B[39m\u001B[38;5;241m.\u001B[39m__currentStatus \u001B[38;5;241m=\u001B[39m response\u001B[38;5;241m.\u001B[39mstatus\n",
      "File \u001B[0;32m/opt/anaconda3/envs/space_updated/lib/python3.10/http/client.py:1374\u001B[0m, in \u001B[0;36mHTTPConnection.getresponse\u001B[0;34m(self)\u001B[0m\n\u001B[1;32m   1372\u001B[0m \u001B[38;5;28;01mtry\u001B[39;00m:\n\u001B[1;32m   1373\u001B[0m     \u001B[38;5;28;01mtry\u001B[39;00m:\n\u001B[0;32m-> 1374\u001B[0m         \u001B[43mresponse\u001B[49m\u001B[38;5;241;43m.\u001B[39;49m\u001B[43mbegin\u001B[49m\u001B[43m(\u001B[49m\u001B[43m)\u001B[49m\n\u001B[1;32m   1375\u001B[0m     \u001B[38;5;28;01mexcept\u001B[39;00m \u001B[38;5;167;01mConnectionError\u001B[39;00m:\n\u001B[1;32m   1376\u001B[0m         \u001B[38;5;28mself\u001B[39m\u001B[38;5;241m.\u001B[39mclose()\n",
      "File \u001B[0;32m/opt/anaconda3/envs/space_updated/lib/python3.10/http/client.py:318\u001B[0m, in \u001B[0;36mHTTPResponse.begin\u001B[0;34m(self)\u001B[0m\n\u001B[1;32m    316\u001B[0m \u001B[38;5;66;03m# read until we get a non-100 response\u001B[39;00m\n\u001B[1;32m    317\u001B[0m \u001B[38;5;28;01mwhile\u001B[39;00m \u001B[38;5;28;01mTrue\u001B[39;00m:\n\u001B[0;32m--> 318\u001B[0m     version, status, reason \u001B[38;5;241m=\u001B[39m \u001B[38;5;28;43mself\u001B[39;49m\u001B[38;5;241;43m.\u001B[39;49m\u001B[43m_read_status\u001B[49m\u001B[43m(\u001B[49m\u001B[43m)\u001B[49m\n\u001B[1;32m    319\u001B[0m     \u001B[38;5;28;01mif\u001B[39;00m status \u001B[38;5;241m!=\u001B[39m CONTINUE:\n\u001B[1;32m    320\u001B[0m         \u001B[38;5;28;01mbreak\u001B[39;00m\n",
      "File \u001B[0;32m/opt/anaconda3/envs/space_updated/lib/python3.10/http/client.py:279\u001B[0m, in \u001B[0;36mHTTPResponse._read_status\u001B[0;34m(self)\u001B[0m\n\u001B[1;32m    278\u001B[0m \u001B[38;5;28;01mdef\u001B[39;00m \u001B[38;5;21m_read_status\u001B[39m(\u001B[38;5;28mself\u001B[39m):\n\u001B[0;32m--> 279\u001B[0m     line \u001B[38;5;241m=\u001B[39m \u001B[38;5;28mstr\u001B[39m(\u001B[38;5;28;43mself\u001B[39;49m\u001B[38;5;241;43m.\u001B[39;49m\u001B[43mfp\u001B[49m\u001B[38;5;241;43m.\u001B[39;49m\u001B[43mreadline\u001B[49m\u001B[43m(\u001B[49m\u001B[43m_MAXLINE\u001B[49m\u001B[43m \u001B[49m\u001B[38;5;241;43m+\u001B[39;49m\u001B[43m \u001B[49m\u001B[38;5;241;43m1\u001B[39;49m\u001B[43m)\u001B[49m, \u001B[38;5;124m\"\u001B[39m\u001B[38;5;124miso-8859-1\u001B[39m\u001B[38;5;124m\"\u001B[39m)\n\u001B[1;32m    280\u001B[0m     \u001B[38;5;28;01mif\u001B[39;00m \u001B[38;5;28mlen\u001B[39m(line) \u001B[38;5;241m>\u001B[39m _MAXLINE:\n\u001B[1;32m    281\u001B[0m         \u001B[38;5;28;01mraise\u001B[39;00m LineTooLong(\u001B[38;5;124m\"\u001B[39m\u001B[38;5;124mstatus line\u001B[39m\u001B[38;5;124m\"\u001B[39m)\n",
      "File \u001B[0;32m/opt/anaconda3/envs/space_updated/lib/python3.10/socket.py:705\u001B[0m, in \u001B[0;36mSocketIO.readinto\u001B[0;34m(self, b)\u001B[0m\n\u001B[1;32m    703\u001B[0m \u001B[38;5;28;01mwhile\u001B[39;00m \u001B[38;5;28;01mTrue\u001B[39;00m:\n\u001B[1;32m    704\u001B[0m     \u001B[38;5;28;01mtry\u001B[39;00m:\n\u001B[0;32m--> 705\u001B[0m         \u001B[38;5;28;01mreturn\u001B[39;00m \u001B[38;5;28;43mself\u001B[39;49m\u001B[38;5;241;43m.\u001B[39;49m\u001B[43m_sock\u001B[49m\u001B[38;5;241;43m.\u001B[39;49m\u001B[43mrecv_into\u001B[49m\u001B[43m(\u001B[49m\u001B[43mb\u001B[49m\u001B[43m)\u001B[49m\n\u001B[1;32m    706\u001B[0m     \u001B[38;5;28;01mexcept\u001B[39;00m timeout:\n\u001B[1;32m    707\u001B[0m         \u001B[38;5;28mself\u001B[39m\u001B[38;5;241m.\u001B[39m_timeout_occurred \u001B[38;5;241m=\u001B[39m \u001B[38;5;28;01mTrue\u001B[39;00m\n",
      "\u001B[0;31mKeyboardInterrupt\u001B[0m: "
     ]
    }
   ],
   "source": [
    "# n_star_with_mag = 0\n",
    "\n",
    "for colname in valid_colnames:\n",
    "    try:\n",
    "        mags = SIMBAD_TAP.launch_job(\n",
    "            f\"SELECT I FROM allfluxes JOIN ident USING(oidref) WHERE id = 'Gaia DR3 {colname}';\"\n",
    "        ).get_results()\n",
    "    except IndexError:\n",
    "        # print(f'No {colname} {band}-mag for {fn}')\n",
    "        continue\n",
    "\n",
    "# print(n_star_with_mag)"
   ],
   "metadata": {
    "collapsed": false,
    "ExecuteTime": {
     "end_time": "2025-01-24T00:18:05.309064Z",
     "start_time": "2025-01-24T00:17:59.845184Z"
    }
   }
  },
  {
   "cell_type": "code",
   "execution_count": 39,
   "outputs": [
    {
     "ename": "IndexError",
     "evalue": "index 0 is out of bounds for axis 0 with size 0",
     "output_type": "error",
     "traceback": [
      "\u001B[0;31m---------------------------------------------------------------------------\u001B[0m",
      "\u001B[0;31mIndexError\u001B[0m                                Traceback (most recent call last)",
      "Cell \u001B[0;32mIn[39], line 1\u001B[0m\n\u001B[0;32m----> 1\u001B[0m \u001B[38;5;28mlen\u001B[39m(\u001B[43mmags\u001B[49m\u001B[43m[\u001B[49m\u001B[38;5;124;43m'\u001B[39;49m\u001B[38;5;124;43mI\u001B[39;49m\u001B[38;5;124;43m'\u001B[39;49m\u001B[43m]\u001B[49m\u001B[43m[\u001B[49m\u001B[38;5;241;43m0\u001B[39;49m\u001B[43m]\u001B[49m)\n",
      "File \u001B[0;32m/opt/anaconda3/envs/space_updated/lib/python3.10/site-packages/astropy/table/_column_mixins.pyx:92\u001B[0m, in \u001B[0;36mastropy.table._column_mixins._MaskedColumnGetitemShim.__getitem__\u001B[0;34m()\u001B[0m\n",
      "File \u001B[0;32m/opt/anaconda3/envs/space_updated/lib/python3.10/site-packages/astropy/table/_column_mixins.pyx:62\u001B[0m, in \u001B[0;36mastropy.table._column_mixins.base_getitem\u001B[0;34m()\u001B[0m\n",
      "File \u001B[0;32m/opt/anaconda3/envs/space_updated/lib/python3.10/site-packages/astropy/table/_column_mixins.pyx:86\u001B[0m, in \u001B[0;36mastropy.table._column_mixins.masked_column_getitem\u001B[0;34m()\u001B[0m\n",
      "File \u001B[0;32m/opt/anaconda3/envs/space_updated/lib/python3.10/site-packages/numpy/ma/core.py:3228\u001B[0m, in \u001B[0;36mMaskedArray.__getitem__\u001B[0;34m(self, indx)\u001B[0m\n\u001B[1;32m   3218\u001B[0m \u001B[38;5;250m\u001B[39m\u001B[38;5;124;03m\"\"\"\u001B[39;00m\n\u001B[1;32m   3219\u001B[0m \u001B[38;5;124;03mx.__getitem__(y) <==> x[y]\u001B[39;00m\n\u001B[1;32m   3220\u001B[0m \n\u001B[1;32m   3221\u001B[0m \u001B[38;5;124;03mReturn the item described by i, as a masked array.\u001B[39;00m\n\u001B[1;32m   3222\u001B[0m \n\u001B[1;32m   3223\u001B[0m \u001B[38;5;124;03m\"\"\"\u001B[39;00m\n\u001B[1;32m   3224\u001B[0m \u001B[38;5;66;03m# We could directly use ndarray.__getitem__ on self.\u001B[39;00m\n\u001B[1;32m   3225\u001B[0m \u001B[38;5;66;03m# But then we would have to modify __array_finalize__ to prevent the\u001B[39;00m\n\u001B[1;32m   3226\u001B[0m \u001B[38;5;66;03m# mask of being reshaped if it hasn't been set up properly yet\u001B[39;00m\n\u001B[1;32m   3227\u001B[0m \u001B[38;5;66;03m# So it's easier to stick to the current version\u001B[39;00m\n\u001B[0;32m-> 3228\u001B[0m dout \u001B[38;5;241m=\u001B[39m \u001B[38;5;28;43mself\u001B[39;49m\u001B[38;5;241;43m.\u001B[39;49m\u001B[43mdata\u001B[49m\u001B[43m[\u001B[49m\u001B[43mindx\u001B[49m\u001B[43m]\u001B[49m\n\u001B[1;32m   3229\u001B[0m _mask \u001B[38;5;241m=\u001B[39m \u001B[38;5;28mself\u001B[39m\u001B[38;5;241m.\u001B[39m_mask\n\u001B[1;32m   3231\u001B[0m \u001B[38;5;28;01mdef\u001B[39;00m \u001B[38;5;21m_is_scalar\u001B[39m(m):\n",
      "File \u001B[0;32m/opt/anaconda3/envs/space_updated/lib/python3.10/site-packages/numpy/ma/core.py:3228\u001B[0m, in \u001B[0;36mMaskedArray.__getitem__\u001B[0;34m(self, indx)\u001B[0m\n\u001B[1;32m   3218\u001B[0m \u001B[38;5;250m\u001B[39m\u001B[38;5;124;03m\"\"\"\u001B[39;00m\n\u001B[1;32m   3219\u001B[0m \u001B[38;5;124;03mx.__getitem__(y) <==> x[y]\u001B[39;00m\n\u001B[1;32m   3220\u001B[0m \n\u001B[1;32m   3221\u001B[0m \u001B[38;5;124;03mReturn the item described by i, as a masked array.\u001B[39;00m\n\u001B[1;32m   3222\u001B[0m \n\u001B[1;32m   3223\u001B[0m \u001B[38;5;124;03m\"\"\"\u001B[39;00m\n\u001B[1;32m   3224\u001B[0m \u001B[38;5;66;03m# We could directly use ndarray.__getitem__ on self.\u001B[39;00m\n\u001B[1;32m   3225\u001B[0m \u001B[38;5;66;03m# But then we would have to modify __array_finalize__ to prevent the\u001B[39;00m\n\u001B[1;32m   3226\u001B[0m \u001B[38;5;66;03m# mask of being reshaped if it hasn't been set up properly yet\u001B[39;00m\n\u001B[1;32m   3227\u001B[0m \u001B[38;5;66;03m# So it's easier to stick to the current version\u001B[39;00m\n\u001B[0;32m-> 3228\u001B[0m dout \u001B[38;5;241m=\u001B[39m \u001B[38;5;28;43mself\u001B[39;49m\u001B[38;5;241;43m.\u001B[39;49m\u001B[43mdata\u001B[49m\u001B[43m[\u001B[49m\u001B[43mindx\u001B[49m\u001B[43m]\u001B[49m\n\u001B[1;32m   3229\u001B[0m _mask \u001B[38;5;241m=\u001B[39m \u001B[38;5;28mself\u001B[39m\u001B[38;5;241m.\u001B[39m_mask\n\u001B[1;32m   3231\u001B[0m \u001B[38;5;28;01mdef\u001B[39;00m \u001B[38;5;21m_is_scalar\u001B[39m(m):\n",
      "\u001B[0;31mIndexError\u001B[0m: index 0 is out of bounds for axis 0 with size 0"
     ]
    }
   ],
   "source": [
    "len(mags['I'][0])"
   ],
   "metadata": {
    "collapsed": false,
    "ExecuteTime": {
     "end_time": "2025-01-24T00:20:20.785782Z",
     "start_time": "2025-01-24T00:20:20.424925Z"
    }
   }
  },
  {
   "cell_type": "markdown",
   "source": [
    "## Old trying"
   ],
   "metadata": {
    "collapsed": false
   }
  },
  {
   "cell_type": "code",
   "execution_count": 11,
   "outputs": [
    {
     "name": "stdout",
     "output_type": "stream",
     "text": [
      "HD_86226 B 5660472952862699264\n",
      "HD_86226 B 5660474529114240512\n",
      "HD_86226 B 5660477110391333376\n",
      "HD_86226 B 5660479549932455296\n",
      "HD_86226 B 5660479824810362624\n",
      "HD_86226 B 5660482156976159232\n",
      "HD_86226 B 5660490510688955904\n",
      "HD_86226 B 5660492297395345408\n",
      "HD_86226 B 5660494320324102272\n",
      "HD_86226 B 5660496214405409152\n",
      "HD_86226 B 5660499439924555136\n",
      "HD_86226 B 5660501673307548800\n",
      "HD_86226 B 5660503082056820608\n",
      "HD_86226 B 5660516447995041664\n",
      "HD_86226 B 5660517654882236800\n",
      "HD_86226 B 5660525007866233216\n",
      "HD_86226 B 5660534796095900928\n",
      "HD_86226 B 5660539743898222336\n",
      "HD_86226 B 5660541431821113344\n",
      "HD_86226 B 5660542290814570496\n",
      "HD_86226 B 5660547715357519744\n",
      "HD_86226 B 5660561665411293184\n",
      "HD_86226 B 5660561704066721664\n",
      "HD_86226 B 5660569843029025920\n",
      "HD_86226 B 5660569980467978880\n",
      "HD_86226 B 5660575684184544256\n",
      "HD_86226 B 5660585407990503936\n",
      "HD_86226 V 5660472952862699264\n",
      "HD_86226 V 5660474529114240512\n",
      "HD_86226 V 5660477110391333376\n",
      "HD_86226 V 5660479549932455296\n",
      "HD_86226 V 5660479824810362624\n",
      "HD_86226 V 5660482156976159232\n",
      "HD_86226 V 5660490510688955904\n",
      "HD_86226 V 5660492297395345408\n",
      "HD_86226 V 5660494320324102272\n",
      "HD_86226 V 5660496214405409152\n",
      "HD_86226 V 5660499439924555136\n",
      "HD_86226 V 5660501673307548800\n",
      "HD_86226 V 5660503082056820608\n",
      "HD_86226 V 5660516447995041664\n",
      "HD_86226 V 5660517654882236800\n",
      "HD_86226 V 5660525007866233216\n",
      "HD_86226 V 5660534796095900928\n",
      "HD_86226 V 5660539743898222336\n",
      "HD_86226 V 5660541431821113344\n",
      "HD_86226 V 5660542290814570496\n",
      "HD_86226 V 5660547715357519744\n",
      "HD_86226 V 5660561665411293184\n",
      "HD_86226 V 5660561704066721664\n",
      "HD_86226 V 5660569843029025920\n",
      "HD_86226 V 5660569980467978880\n",
      "HD_86226 V 5660575684184544256\n",
      "HD_86226 V 5660585407990503936\n",
      "HD_86226 R 5660472952862699264\n",
      "HD_86226 R 5660474529114240512\n",
      "HD_86226 R 5660477110391333376\n",
      "HD_86226 R 5660479549932455296\n",
      "HD_86226 R 5660479824810362624\n",
      "HD_86226 R 5660482156976159232\n",
      "HD_86226 R 5660490510688955904\n",
      "HD_86226 R 5660492297395345408\n",
      "HD_86226 R 5660494320324102272\n",
      "HD_86226 R 5660496214405409152\n",
      "HD_86226 R 5660499439924555136\n",
      "HD_86226 R 5660501673307548800\n",
      "HD_86226 R 5660503082056820608\n",
      "HD_86226 R 5660516447995041664\n",
      "HD_86226 R 5660517654882236800\n",
      "HD_86226 R 5660525007866233216\n",
      "HD_86226 R 5660534796095900928\n",
      "HD_86226 R 5660539743898222336\n",
      "HD_86226 R 5660541431821113344\n",
      "HD_86226 R 5660542290814570496\n",
      "HD_86226 R 5660547715357519744\n",
      "HD_86226 R 5660561665411293184\n",
      "HD_86226 R 5660561704066721664\n",
      "HD_86226 R 5660569843029025920\n",
      "HD_86226 R 5660569980467978880\n",
      "HD_86226 R 5660575684184544256\n",
      "HD_86226 R 5660585407990503936\n",
      "HD_86226 I 5660472952862699264\n",
      "HD_86226 I 5660474529114240512\n",
      "HD_86226 I 5660477110391333376\n",
      "HD_86226 I 5660479549932455296\n",
      "HD_86226 I 5660479824810362624\n",
      "HD_86226 I 5660482156976159232\n",
      "HD_86226 I 5660490510688955904\n",
      "HD_86226 I 5660492297395345408\n",
      "HD_86226 I 5660494320324102272\n",
      "HD_86226 I 5660496214405409152\n",
      "HD_86226 I 5660499439924555136\n",
      "HD_86226 I 5660501673307548800\n",
      "HD_86226 I 5660503082056820608\n",
      "HD_86226 I 5660516447995041664\n",
      "HD_86226 I 5660517654882236800\n",
      "HD_86226 I 5660525007866233216\n",
      "HD_86226 I 5660534796095900928\n",
      "HD_86226 I 5660539743898222336\n",
      "HD_86226 I 5660541431821113344\n",
      "HD_86226 I 5660542290814570496\n",
      "HD_86226 I 5660547715357519744\n",
      "HD_86226 I 5660561665411293184\n",
      "HD_86226 I 5660561704066721664\n",
      "HD_86226 I 5660569843029025920\n",
      "HD_86226 I 5660569980467978880\n",
      "HD_86226 I 5660575684184544256\n",
      "HD_86226 I 5660585407990503936\n",
      "HD_191939 B 2249620689015959808\n",
      "HD_191939 B 2249624739168184320\n",
      "HD_191939 B 2249625190141803136\n",
      "HD_191939 B 2249626049135258752\n",
      "HD_191939 B 2249636872453545728\n",
      "HD_191939 B 2248069759146010240\n",
      "HD_191939 B 2248084980509819136\n",
      "HD_191939 B 2248087110814482688\n",
      "HD_191939 B 2248099102362415104\n",
      "HD_191939 B 2248102022940171264\n",
      "HD_191939 B 2248109272845050368\n",
      "HD_191939 B 2248109856960527872\n",
      "HD_191939 B 2248111678026733440\n",
      "HD_191939 B 2248112227782576640\n",
      "HD_191939 B 2248116110433064960\n",
      "HD_191939 B 2248117313023929856\n",
      "HD_191939 B 2248119198511385984\n",
      "HD_191939 B 2248122673143143168\n",
      "HD_191939 B 2248124184971495936\n",
      "HD_191939 B 2248126315275354496\n",
      "HD_191939 B 2248131366156908288\n",
      "HD_191939 B 2248134939569731840\n",
      "HD_191939 B 2248135317526853120\n",
      "HD_191939 B 2248136176520333312\n",
      "HD_191939 B 2248136313959256960\n",
      "HD_191939 B 2248136825057166720\n",
      "HD_191939 B 2248137653989048320\n",
      "HD_191939 B 2248140196609718016\n",
      "HD_191939 B 2248290383025708416\n",
      "HD_191939 B 2248291138937187072\n",
      "HD_191939 B 2248293303604373760\n",
      "HD_191939 B 2248293647200909440\n",
      "HD_191939 B 2248298560643544832\n",
      "HD_191939 B 2248317385482643712\n",
      "HD_191939 B 2248317866518652416\n",
      "HD_191939 B 2248319378347138816\n",
      "HD_191939 B 2248326941787746432\n",
      "HD_191939 B 2248327216665657472\n",
      "HD_191939 B 2248327491543561088\n",
      "HD_191939 B 2248328037001712768\n",
      "HD_191939 B 2248330515200533760\n",
      "HD_191939 V 2249620689015959808\n",
      "HD_191939 V 2249624739168184320\n",
      "HD_191939 V 2249625190141803136\n",
      "HD_191939 V 2249626049135258752\n",
      "HD_191939 V 2249636872453545728\n",
      "HD_191939 V 2248069759146010240\n",
      "HD_191939 V 2248084980509819136\n",
      "HD_191939 V 2248087110814482688\n"
     ]
    },
    {
     "ename": "KeyboardInterrupt",
     "evalue": "",
     "output_type": "error",
     "traceback": [
      "\u001B[0;31m---------------------------------------------------------------------------\u001B[0m",
      "\u001B[0;31mKeyboardInterrupt\u001B[0m                         Traceback (most recent call last)",
      "Cell \u001B[0;32mIn[11], line 10\u001B[0m\n\u001B[1;32m      8\u001B[0m \u001B[38;5;28;01mwith\u001B[39;00m warnings\u001B[38;5;241m.\u001B[39mcatch_warnings():\n\u001B[1;32m      9\u001B[0m     warnings\u001B[38;5;241m.\u001B[39msimplefilter(\u001B[38;5;124m\"\u001B[39m\u001B[38;5;124mignore\u001B[39m\u001B[38;5;124m\"\u001B[39m, category\u001B[38;5;241m=\u001B[39m\u001B[38;5;167;01mUserWarning\u001B[39;00m)\n\u001B[0;32m---> 10\u001B[0m     result \u001B[38;5;241m=\u001B[39m \u001B[43mSimbad\u001B[49m\u001B[38;5;241;43m.\u001B[39;49m\u001B[43mquery_object\u001B[49m\u001B[43m(\u001B[49m\u001B[38;5;124;43mf\u001B[39;49m\u001B[38;5;124;43m\"\u001B[39;49m\u001B[38;5;124;43mGaia DR3 \u001B[39;49m\u001B[38;5;132;43;01m{\u001B[39;49;00m\u001B[43mgaia_dr3_id\u001B[49m\u001B[38;5;132;43;01m}\u001B[39;49;00m\u001B[38;5;124;43m\"\u001B[39;49m\u001B[43m)\u001B[49m\n\u001B[1;32m     11\u001B[0m \u001B[38;5;28;01mif\u001B[39;00m result \u001B[38;5;129;01mis\u001B[39;00m \u001B[38;5;129;01mnot\u001B[39;00m \u001B[38;5;28;01mNone\u001B[39;00m:\n\u001B[1;32m     12\u001B[0m     \u001B[38;5;28mprint\u001B[39m(fn, band, gaia_dr3_id)\n",
      "File \u001B[0;32m/opt/anaconda3/envs/space_updated/lib/python3.10/site-packages/astroquery/simbad/core.py:543\u001B[0m, in \u001B[0;36mSimbadClass.query_object\u001B[0;34m(self, object_name, wildcard, verbose, get_query_payload)\u001B[0m\n\u001B[1;32m    520\u001B[0m \u001B[38;5;28;01mdef\u001B[39;00m \u001B[38;5;21mquery_object\u001B[39m(\u001B[38;5;28mself\u001B[39m, object_name, wildcard\u001B[38;5;241m=\u001B[39m\u001B[38;5;28;01mFalse\u001B[39;00m, verbose\u001B[38;5;241m=\u001B[39m\u001B[38;5;28;01mFalse\u001B[39;00m,\n\u001B[1;32m    521\u001B[0m                  get_query_payload\u001B[38;5;241m=\u001B[39m\u001B[38;5;28;01mFalse\u001B[39;00m):\n\u001B[1;32m    522\u001B[0m \u001B[38;5;250m    \u001B[39m\u001B[38;5;124;03m\"\"\"\u001B[39;00m\n\u001B[1;32m    523\u001B[0m \u001B[38;5;124;03m    Queries Simbad for the given object and returns the result as a\u001B[39;00m\n\u001B[1;32m    524\u001B[0m \u001B[38;5;124;03m    `~astropy.table.Table`. Object names may also be specified with\u001B[39;00m\n\u001B[0;32m   (...)\u001B[0m\n\u001B[1;32m    541\u001B[0m \u001B[38;5;124;03m        Query results table\u001B[39;00m\n\u001B[1;32m    542\u001B[0m \u001B[38;5;124;03m    \"\"\"\u001B[39;00m\n\u001B[0;32m--> 543\u001B[0m     response \u001B[38;5;241m=\u001B[39m \u001B[38;5;28;43mself\u001B[39;49m\u001B[38;5;241;43m.\u001B[39;49m\u001B[43mquery_object_async\u001B[49m\u001B[43m(\u001B[49m\u001B[43mobject_name\u001B[49m\u001B[43m,\u001B[49m\u001B[43m \u001B[49m\u001B[43mwildcard\u001B[49m\u001B[38;5;241;43m=\u001B[39;49m\u001B[43mwildcard\u001B[49m\u001B[43m,\u001B[49m\n\u001B[1;32m    544\u001B[0m \u001B[43m                                       \u001B[49m\u001B[43mget_query_payload\u001B[49m\u001B[38;5;241;43m=\u001B[39;49m\u001B[43mget_query_payload\u001B[49m\u001B[43m)\u001B[49m\n\u001B[1;32m    545\u001B[0m     \u001B[38;5;28;01mif\u001B[39;00m get_query_payload:\n\u001B[1;32m    546\u001B[0m         \u001B[38;5;28;01mreturn\u001B[39;00m response\n",
      "File \u001B[0;32m/opt/anaconda3/envs/space_updated/lib/python3.10/site-packages/astroquery/simbad/core.py:580\u001B[0m, in \u001B[0;36mSimbadClass.query_object_async\u001B[0;34m(self, object_name, wildcard, cache, get_query_payload)\u001B[0m\n\u001B[1;32m    577\u001B[0m \u001B[38;5;28;01mif\u001B[39;00m get_query_payload:\n\u001B[1;32m    578\u001B[0m     \u001B[38;5;28;01mreturn\u001B[39;00m request_payload\n\u001B[0;32m--> 580\u001B[0m response \u001B[38;5;241m=\u001B[39m \u001B[38;5;28;43mself\u001B[39;49m\u001B[38;5;241;43m.\u001B[39;49m\u001B[43m_request\u001B[49m\u001B[43m(\u001B[49m\u001B[38;5;124;43m\"\u001B[39;49m\u001B[38;5;124;43mPOST\u001B[39;49m\u001B[38;5;124;43m\"\u001B[39;49m\u001B[43m,\u001B[49m\u001B[43m \u001B[49m\u001B[38;5;28;43mself\u001B[39;49m\u001B[38;5;241;43m.\u001B[39;49m\u001B[43mSIMBAD_URL\u001B[49m\u001B[43m,\u001B[49m\u001B[43m \u001B[49m\u001B[43mdata\u001B[49m\u001B[38;5;241;43m=\u001B[39;49m\u001B[43mrequest_payload\u001B[49m\u001B[43m,\u001B[49m\n\u001B[1;32m    581\u001B[0m \u001B[43m                         \u001B[49m\u001B[43mtimeout\u001B[49m\u001B[38;5;241;43m=\u001B[39;49m\u001B[38;5;28;43mself\u001B[39;49m\u001B[38;5;241;43m.\u001B[39;49m\u001B[43mTIMEOUT\u001B[49m\u001B[43m,\u001B[49m\u001B[43m \u001B[49m\u001B[43mcache\u001B[49m\u001B[38;5;241;43m=\u001B[39;49m\u001B[43mcache\u001B[49m\u001B[43m)\u001B[49m\n\u001B[1;32m    582\u001B[0m \u001B[38;5;28;01mreturn\u001B[39;00m response\n",
      "File \u001B[0;32m/opt/anaconda3/envs/space_updated/lib/python3.10/site-packages/astroquery/simbad/core.py:235\u001B[0m, in \u001B[0;36mSimbadBaseQuery._request\u001B[0;34m(self, *args, **kwargs)\u001B[0m\n\u001B[1;32m    233\u001B[0m \u001B[38;5;28;01mdef\u001B[39;00m \u001B[38;5;21m_request\u001B[39m(\u001B[38;5;28mself\u001B[39m, \u001B[38;5;241m*\u001B[39margs, \u001B[38;5;241m*\u001B[39m\u001B[38;5;241m*\u001B[39mkwargs):\n\u001B[1;32m    234\u001B[0m     \u001B[38;5;28;01mtry\u001B[39;00m:\n\u001B[0;32m--> 235\u001B[0m         response \u001B[38;5;241m=\u001B[39m \u001B[38;5;28;43msuper\u001B[39;49m\u001B[43m(\u001B[49m\u001B[43m)\u001B[49m\u001B[38;5;241;43m.\u001B[39;49m\u001B[43m_request\u001B[49m\u001B[43m(\u001B[49m\u001B[38;5;241;43m*\u001B[39;49m\u001B[43margs\u001B[49m\u001B[43m,\u001B[49m\u001B[43m \u001B[49m\u001B[38;5;241;43m*\u001B[39;49m\u001B[38;5;241;43m*\u001B[39;49m\u001B[43mkwargs\u001B[49m\u001B[43m)\u001B[49m\n\u001B[1;32m    236\u001B[0m     \u001B[38;5;28;01mexcept\u001B[39;00m requests\u001B[38;5;241m.\u001B[39mexceptions\u001B[38;5;241m.\u001B[39mConnectionError \u001B[38;5;28;01mas\u001B[39;00m ex:\n\u001B[1;32m    237\u001B[0m         \u001B[38;5;28;01mif\u001B[39;00m \u001B[38;5;124m'\u001B[39m\u001B[38;5;124mErrno 61\u001B[39m\u001B[38;5;124m'\u001B[39m \u001B[38;5;129;01min\u001B[39;00m \u001B[38;5;28mstr\u001B[39m(ex):\n",
      "File \u001B[0;32m/opt/anaconda3/envs/space_updated/lib/python3.10/site-packages/astroquery/query.py:317\u001B[0m, in \u001B[0;36mBaseQuery._request\u001B[0;34m(self, method, url, params, data, headers, files, save, savedir, timeout, cache, stream, auth, continuation, verify, allow_redirects, json, return_response_on_save)\u001B[0m\n\u001B[1;32m    315\u001B[0m     response \u001B[38;5;241m=\u001B[39m query\u001B[38;5;241m.\u001B[39mfrom_cache(\u001B[38;5;28mself\u001B[39m\u001B[38;5;241m.\u001B[39mcache_location)\n\u001B[1;32m    316\u001B[0m     \u001B[38;5;28;01mif\u001B[39;00m \u001B[38;5;129;01mnot\u001B[39;00m response:\n\u001B[0;32m--> 317\u001B[0m         response \u001B[38;5;241m=\u001B[39m \u001B[43mquery\u001B[49m\u001B[38;5;241;43m.\u001B[39;49m\u001B[43mrequest\u001B[49m\u001B[43m(\u001B[49m\u001B[38;5;28;43mself\u001B[39;49m\u001B[38;5;241;43m.\u001B[39;49m\u001B[43m_session\u001B[49m\u001B[43m,\u001B[49m\n\u001B[1;32m    318\u001B[0m \u001B[43m                                 \u001B[49m\u001B[38;5;28;43mself\u001B[39;49m\u001B[38;5;241;43m.\u001B[39;49m\u001B[43mcache_location\u001B[49m\u001B[43m,\u001B[49m\n\u001B[1;32m    319\u001B[0m \u001B[43m                                 \u001B[49m\u001B[43mstream\u001B[49m\u001B[38;5;241;43m=\u001B[39;49m\u001B[43mstream\u001B[49m\u001B[43m,\u001B[49m\n\u001B[1;32m    320\u001B[0m \u001B[43m                                 \u001B[49m\u001B[43mauth\u001B[49m\u001B[38;5;241;43m=\u001B[39;49m\u001B[43mauth\u001B[49m\u001B[43m,\u001B[49m\n\u001B[1;32m    321\u001B[0m \u001B[43m                                 \u001B[49m\u001B[43mallow_redirects\u001B[49m\u001B[38;5;241;43m=\u001B[39;49m\u001B[43mallow_redirects\u001B[49m\u001B[43m,\u001B[49m\n\u001B[1;32m    322\u001B[0m \u001B[43m                                 \u001B[49m\u001B[43mverify\u001B[49m\u001B[38;5;241;43m=\u001B[39;49m\u001B[43mverify\u001B[49m\u001B[43m,\u001B[49m\n\u001B[1;32m    323\u001B[0m \u001B[43m                                 \u001B[49m\u001B[43mjson\u001B[49m\u001B[38;5;241;43m=\u001B[39;49m\u001B[43mjson\u001B[49m\u001B[43m)\u001B[49m\n\u001B[1;32m    324\u001B[0m         to_cache(response, query\u001B[38;5;241m.\u001B[39mrequest_file(\u001B[38;5;28mself\u001B[39m\u001B[38;5;241m.\u001B[39mcache_location))\n\u001B[1;32m    325\u001B[0m \u001B[38;5;28mself\u001B[39m\u001B[38;5;241m.\u001B[39m_last_query \u001B[38;5;241m=\u001B[39m query\n",
      "File \u001B[0;32m/opt/anaconda3/envs/space_updated/lib/python3.10/site-packages/astroquery/query.py:71\u001B[0m, in \u001B[0;36mAstroQuery.request\u001B[0;34m(self, session, cache_location, stream, auth, verify, allow_redirects, json)\u001B[0m\n\u001B[1;32m     68\u001B[0m \u001B[38;5;28;01mdef\u001B[39;00m \u001B[38;5;21mrequest\u001B[39m(\u001B[38;5;28mself\u001B[39m, session, cache_location\u001B[38;5;241m=\u001B[39m\u001B[38;5;28;01mNone\u001B[39;00m, stream\u001B[38;5;241m=\u001B[39m\u001B[38;5;28;01mFalse\u001B[39;00m,\n\u001B[1;32m     69\u001B[0m             auth\u001B[38;5;241m=\u001B[39m\u001B[38;5;28;01mNone\u001B[39;00m, verify\u001B[38;5;241m=\u001B[39m\u001B[38;5;28;01mTrue\u001B[39;00m, allow_redirects\u001B[38;5;241m=\u001B[39m\u001B[38;5;28;01mTrue\u001B[39;00m,\n\u001B[1;32m     70\u001B[0m             json\u001B[38;5;241m=\u001B[39m\u001B[38;5;28;01mNone\u001B[39;00m):\n\u001B[0;32m---> 71\u001B[0m     \u001B[38;5;28;01mreturn\u001B[39;00m \u001B[43msession\u001B[49m\u001B[38;5;241;43m.\u001B[39;49m\u001B[43mrequest\u001B[49m\u001B[43m(\u001B[49m\u001B[38;5;28;43mself\u001B[39;49m\u001B[38;5;241;43m.\u001B[39;49m\u001B[43mmethod\u001B[49m\u001B[43m,\u001B[49m\u001B[43m \u001B[49m\u001B[38;5;28;43mself\u001B[39;49m\u001B[38;5;241;43m.\u001B[39;49m\u001B[43murl\u001B[49m\u001B[43m,\u001B[49m\u001B[43m \u001B[49m\u001B[43mparams\u001B[49m\u001B[38;5;241;43m=\u001B[39;49m\u001B[38;5;28;43mself\u001B[39;49m\u001B[38;5;241;43m.\u001B[39;49m\u001B[43mparams\u001B[49m\u001B[43m,\u001B[49m\n\u001B[1;32m     72\u001B[0m \u001B[43m                           \u001B[49m\u001B[43mdata\u001B[49m\u001B[38;5;241;43m=\u001B[39;49m\u001B[38;5;28;43mself\u001B[39;49m\u001B[38;5;241;43m.\u001B[39;49m\u001B[43mdata\u001B[49m\u001B[43m,\u001B[49m\u001B[43m \u001B[49m\u001B[43mheaders\u001B[49m\u001B[38;5;241;43m=\u001B[39;49m\u001B[38;5;28;43mself\u001B[39;49m\u001B[38;5;241;43m.\u001B[39;49m\u001B[43mheaders\u001B[49m\u001B[43m,\u001B[49m\n\u001B[1;32m     73\u001B[0m \u001B[43m                           \u001B[49m\u001B[43mfiles\u001B[49m\u001B[38;5;241;43m=\u001B[39;49m\u001B[38;5;28;43mself\u001B[39;49m\u001B[38;5;241;43m.\u001B[39;49m\u001B[43mfiles\u001B[49m\u001B[43m,\u001B[49m\u001B[43m \u001B[49m\u001B[43mtimeout\u001B[49m\u001B[38;5;241;43m=\u001B[39;49m\u001B[38;5;28;43mself\u001B[39;49m\u001B[38;5;241;43m.\u001B[39;49m\u001B[43mtimeout\u001B[49m\u001B[43m,\u001B[49m\n\u001B[1;32m     74\u001B[0m \u001B[43m                           \u001B[49m\u001B[43mstream\u001B[49m\u001B[38;5;241;43m=\u001B[39;49m\u001B[43mstream\u001B[49m\u001B[43m,\u001B[49m\u001B[43m \u001B[49m\u001B[43mauth\u001B[49m\u001B[38;5;241;43m=\u001B[39;49m\u001B[43mauth\u001B[49m\u001B[43m,\u001B[49m\u001B[43m \u001B[49m\u001B[43mverify\u001B[49m\u001B[38;5;241;43m=\u001B[39;49m\u001B[43mverify\u001B[49m\u001B[43m,\u001B[49m\n\u001B[1;32m     75\u001B[0m \u001B[43m                           \u001B[49m\u001B[43mallow_redirects\u001B[49m\u001B[38;5;241;43m=\u001B[39;49m\u001B[43mallow_redirects\u001B[49m\u001B[43m,\u001B[49m\n\u001B[1;32m     76\u001B[0m \u001B[43m                           \u001B[49m\u001B[43mjson\u001B[49m\u001B[38;5;241;43m=\u001B[39;49m\u001B[43mjson\u001B[49m\u001B[43m)\u001B[49m\n",
      "File \u001B[0;32m/opt/anaconda3/envs/space_updated/lib/python3.10/site-packages/requests/sessions.py:589\u001B[0m, in \u001B[0;36mSession.request\u001B[0;34m(self, method, url, params, data, headers, cookies, files, auth, timeout, allow_redirects, proxies, hooks, stream, verify, cert, json)\u001B[0m\n\u001B[1;32m    584\u001B[0m send_kwargs \u001B[38;5;241m=\u001B[39m {\n\u001B[1;32m    585\u001B[0m     \u001B[38;5;124m\"\u001B[39m\u001B[38;5;124mtimeout\u001B[39m\u001B[38;5;124m\"\u001B[39m: timeout,\n\u001B[1;32m    586\u001B[0m     \u001B[38;5;124m\"\u001B[39m\u001B[38;5;124mallow_redirects\u001B[39m\u001B[38;5;124m\"\u001B[39m: allow_redirects,\n\u001B[1;32m    587\u001B[0m }\n\u001B[1;32m    588\u001B[0m send_kwargs\u001B[38;5;241m.\u001B[39mupdate(settings)\n\u001B[0;32m--> 589\u001B[0m resp \u001B[38;5;241m=\u001B[39m \u001B[38;5;28;43mself\u001B[39;49m\u001B[38;5;241;43m.\u001B[39;49m\u001B[43msend\u001B[49m\u001B[43m(\u001B[49m\u001B[43mprep\u001B[49m\u001B[43m,\u001B[49m\u001B[43m \u001B[49m\u001B[38;5;241;43m*\u001B[39;49m\u001B[38;5;241;43m*\u001B[39;49m\u001B[43msend_kwargs\u001B[49m\u001B[43m)\u001B[49m\n\u001B[1;32m    591\u001B[0m \u001B[38;5;28;01mreturn\u001B[39;00m resp\n",
      "File \u001B[0;32m/opt/anaconda3/envs/space_updated/lib/python3.10/site-packages/requests/sessions.py:703\u001B[0m, in \u001B[0;36mSession.send\u001B[0;34m(self, request, **kwargs)\u001B[0m\n\u001B[1;32m    700\u001B[0m start \u001B[38;5;241m=\u001B[39m preferred_clock()\n\u001B[1;32m    702\u001B[0m \u001B[38;5;66;03m# Send the request\u001B[39;00m\n\u001B[0;32m--> 703\u001B[0m r \u001B[38;5;241m=\u001B[39m \u001B[43madapter\u001B[49m\u001B[38;5;241;43m.\u001B[39;49m\u001B[43msend\u001B[49m\u001B[43m(\u001B[49m\u001B[43mrequest\u001B[49m\u001B[43m,\u001B[49m\u001B[43m \u001B[49m\u001B[38;5;241;43m*\u001B[39;49m\u001B[38;5;241;43m*\u001B[39;49m\u001B[43mkwargs\u001B[49m\u001B[43m)\u001B[49m\n\u001B[1;32m    705\u001B[0m \u001B[38;5;66;03m# Total elapsed time of the request (approximately)\u001B[39;00m\n\u001B[1;32m    706\u001B[0m elapsed \u001B[38;5;241m=\u001B[39m preferred_clock() \u001B[38;5;241m-\u001B[39m start\n",
      "File \u001B[0;32m/opt/anaconda3/envs/space_updated/lib/python3.10/site-packages/requests/adapters.py:667\u001B[0m, in \u001B[0;36mHTTPAdapter.send\u001B[0;34m(self, request, stream, timeout, verify, cert, proxies)\u001B[0m\n\u001B[1;32m    664\u001B[0m     timeout \u001B[38;5;241m=\u001B[39m TimeoutSauce(connect\u001B[38;5;241m=\u001B[39mtimeout, read\u001B[38;5;241m=\u001B[39mtimeout)\n\u001B[1;32m    666\u001B[0m \u001B[38;5;28;01mtry\u001B[39;00m:\n\u001B[0;32m--> 667\u001B[0m     resp \u001B[38;5;241m=\u001B[39m \u001B[43mconn\u001B[49m\u001B[38;5;241;43m.\u001B[39;49m\u001B[43murlopen\u001B[49m\u001B[43m(\u001B[49m\n\u001B[1;32m    668\u001B[0m \u001B[43m        \u001B[49m\u001B[43mmethod\u001B[49m\u001B[38;5;241;43m=\u001B[39;49m\u001B[43mrequest\u001B[49m\u001B[38;5;241;43m.\u001B[39;49m\u001B[43mmethod\u001B[49m\u001B[43m,\u001B[49m\n\u001B[1;32m    669\u001B[0m \u001B[43m        \u001B[49m\u001B[43murl\u001B[49m\u001B[38;5;241;43m=\u001B[39;49m\u001B[43murl\u001B[49m\u001B[43m,\u001B[49m\n\u001B[1;32m    670\u001B[0m \u001B[43m        \u001B[49m\u001B[43mbody\u001B[49m\u001B[38;5;241;43m=\u001B[39;49m\u001B[43mrequest\u001B[49m\u001B[38;5;241;43m.\u001B[39;49m\u001B[43mbody\u001B[49m\u001B[43m,\u001B[49m\n\u001B[1;32m    671\u001B[0m \u001B[43m        \u001B[49m\u001B[43mheaders\u001B[49m\u001B[38;5;241;43m=\u001B[39;49m\u001B[43mrequest\u001B[49m\u001B[38;5;241;43m.\u001B[39;49m\u001B[43mheaders\u001B[49m\u001B[43m,\u001B[49m\n\u001B[1;32m    672\u001B[0m \u001B[43m        \u001B[49m\u001B[43mredirect\u001B[49m\u001B[38;5;241;43m=\u001B[39;49m\u001B[38;5;28;43;01mFalse\u001B[39;49;00m\u001B[43m,\u001B[49m\n\u001B[1;32m    673\u001B[0m \u001B[43m        \u001B[49m\u001B[43massert_same_host\u001B[49m\u001B[38;5;241;43m=\u001B[39;49m\u001B[38;5;28;43;01mFalse\u001B[39;49;00m\u001B[43m,\u001B[49m\n\u001B[1;32m    674\u001B[0m \u001B[43m        \u001B[49m\u001B[43mpreload_content\u001B[49m\u001B[38;5;241;43m=\u001B[39;49m\u001B[38;5;28;43;01mFalse\u001B[39;49;00m\u001B[43m,\u001B[49m\n\u001B[1;32m    675\u001B[0m \u001B[43m        \u001B[49m\u001B[43mdecode_content\u001B[49m\u001B[38;5;241;43m=\u001B[39;49m\u001B[38;5;28;43;01mFalse\u001B[39;49;00m\u001B[43m,\u001B[49m\n\u001B[1;32m    676\u001B[0m \u001B[43m        \u001B[49m\u001B[43mretries\u001B[49m\u001B[38;5;241;43m=\u001B[39;49m\u001B[38;5;28;43mself\u001B[39;49m\u001B[38;5;241;43m.\u001B[39;49m\u001B[43mmax_retries\u001B[49m\u001B[43m,\u001B[49m\n\u001B[1;32m    677\u001B[0m \u001B[43m        \u001B[49m\u001B[43mtimeout\u001B[49m\u001B[38;5;241;43m=\u001B[39;49m\u001B[43mtimeout\u001B[49m\u001B[43m,\u001B[49m\n\u001B[1;32m    678\u001B[0m \u001B[43m        \u001B[49m\u001B[43mchunked\u001B[49m\u001B[38;5;241;43m=\u001B[39;49m\u001B[43mchunked\u001B[49m\u001B[43m,\u001B[49m\n\u001B[1;32m    679\u001B[0m \u001B[43m    \u001B[49m\u001B[43m)\u001B[49m\n\u001B[1;32m    681\u001B[0m \u001B[38;5;28;01mexcept\u001B[39;00m (ProtocolError, \u001B[38;5;167;01mOSError\u001B[39;00m) \u001B[38;5;28;01mas\u001B[39;00m err:\n\u001B[1;32m    682\u001B[0m     \u001B[38;5;28;01mraise\u001B[39;00m \u001B[38;5;167;01mConnectionError\u001B[39;00m(err, request\u001B[38;5;241m=\u001B[39mrequest)\n",
      "File \u001B[0;32m/opt/anaconda3/envs/space_updated/lib/python3.10/site-packages/urllib3/connectionpool.py:789\u001B[0m, in \u001B[0;36mHTTPConnectionPool.urlopen\u001B[0;34m(self, method, url, body, headers, retries, redirect, assert_same_host, timeout, pool_timeout, release_conn, chunked, body_pos, preload_content, decode_content, **response_kw)\u001B[0m\n\u001B[1;32m    786\u001B[0m response_conn \u001B[38;5;241m=\u001B[39m conn \u001B[38;5;28;01mif\u001B[39;00m \u001B[38;5;129;01mnot\u001B[39;00m release_conn \u001B[38;5;28;01melse\u001B[39;00m \u001B[38;5;28;01mNone\u001B[39;00m\n\u001B[1;32m    788\u001B[0m \u001B[38;5;66;03m# Make the request on the HTTPConnection object\u001B[39;00m\n\u001B[0;32m--> 789\u001B[0m response \u001B[38;5;241m=\u001B[39m \u001B[38;5;28;43mself\u001B[39;49m\u001B[38;5;241;43m.\u001B[39;49m\u001B[43m_make_request\u001B[49m\u001B[43m(\u001B[49m\n\u001B[1;32m    790\u001B[0m \u001B[43m    \u001B[49m\u001B[43mconn\u001B[49m\u001B[43m,\u001B[49m\n\u001B[1;32m    791\u001B[0m \u001B[43m    \u001B[49m\u001B[43mmethod\u001B[49m\u001B[43m,\u001B[49m\n\u001B[1;32m    792\u001B[0m \u001B[43m    \u001B[49m\u001B[43murl\u001B[49m\u001B[43m,\u001B[49m\n\u001B[1;32m    793\u001B[0m \u001B[43m    \u001B[49m\u001B[43mtimeout\u001B[49m\u001B[38;5;241;43m=\u001B[39;49m\u001B[43mtimeout_obj\u001B[49m\u001B[43m,\u001B[49m\n\u001B[1;32m    794\u001B[0m \u001B[43m    \u001B[49m\u001B[43mbody\u001B[49m\u001B[38;5;241;43m=\u001B[39;49m\u001B[43mbody\u001B[49m\u001B[43m,\u001B[49m\n\u001B[1;32m    795\u001B[0m \u001B[43m    \u001B[49m\u001B[43mheaders\u001B[49m\u001B[38;5;241;43m=\u001B[39;49m\u001B[43mheaders\u001B[49m\u001B[43m,\u001B[49m\n\u001B[1;32m    796\u001B[0m \u001B[43m    \u001B[49m\u001B[43mchunked\u001B[49m\u001B[38;5;241;43m=\u001B[39;49m\u001B[43mchunked\u001B[49m\u001B[43m,\u001B[49m\n\u001B[1;32m    797\u001B[0m \u001B[43m    \u001B[49m\u001B[43mretries\u001B[49m\u001B[38;5;241;43m=\u001B[39;49m\u001B[43mretries\u001B[49m\u001B[43m,\u001B[49m\n\u001B[1;32m    798\u001B[0m \u001B[43m    \u001B[49m\u001B[43mresponse_conn\u001B[49m\u001B[38;5;241;43m=\u001B[39;49m\u001B[43mresponse_conn\u001B[49m\u001B[43m,\u001B[49m\n\u001B[1;32m    799\u001B[0m \u001B[43m    \u001B[49m\u001B[43mpreload_content\u001B[49m\u001B[38;5;241;43m=\u001B[39;49m\u001B[43mpreload_content\u001B[49m\u001B[43m,\u001B[49m\n\u001B[1;32m    800\u001B[0m \u001B[43m    \u001B[49m\u001B[43mdecode_content\u001B[49m\u001B[38;5;241;43m=\u001B[39;49m\u001B[43mdecode_content\u001B[49m\u001B[43m,\u001B[49m\n\u001B[1;32m    801\u001B[0m \u001B[43m    \u001B[49m\u001B[38;5;241;43m*\u001B[39;49m\u001B[38;5;241;43m*\u001B[39;49m\u001B[43mresponse_kw\u001B[49m\u001B[43m,\u001B[49m\n\u001B[1;32m    802\u001B[0m \u001B[43m\u001B[49m\u001B[43m)\u001B[49m\n\u001B[1;32m    804\u001B[0m \u001B[38;5;66;03m# Everything went great!\u001B[39;00m\n\u001B[1;32m    805\u001B[0m clean_exit \u001B[38;5;241m=\u001B[39m \u001B[38;5;28;01mTrue\u001B[39;00m\n",
      "File \u001B[0;32m/opt/anaconda3/envs/space_updated/lib/python3.10/site-packages/urllib3/connectionpool.py:536\u001B[0m, in \u001B[0;36mHTTPConnectionPool._make_request\u001B[0;34m(self, conn, method, url, body, headers, retries, timeout, chunked, response_conn, preload_content, decode_content, enforce_content_length)\u001B[0m\n\u001B[1;32m    534\u001B[0m \u001B[38;5;66;03m# Receive the response from the server\u001B[39;00m\n\u001B[1;32m    535\u001B[0m \u001B[38;5;28;01mtry\u001B[39;00m:\n\u001B[0;32m--> 536\u001B[0m     response \u001B[38;5;241m=\u001B[39m \u001B[43mconn\u001B[49m\u001B[38;5;241;43m.\u001B[39;49m\u001B[43mgetresponse\u001B[49m\u001B[43m(\u001B[49m\u001B[43m)\u001B[49m\n\u001B[1;32m    537\u001B[0m \u001B[38;5;28;01mexcept\u001B[39;00m (BaseSSLError, \u001B[38;5;167;01mOSError\u001B[39;00m) \u001B[38;5;28;01mas\u001B[39;00m e:\n\u001B[1;32m    538\u001B[0m     \u001B[38;5;28mself\u001B[39m\u001B[38;5;241m.\u001B[39m_raise_timeout(err\u001B[38;5;241m=\u001B[39me, url\u001B[38;5;241m=\u001B[39murl, timeout_value\u001B[38;5;241m=\u001B[39mread_timeout)\n",
      "File \u001B[0;32m/opt/anaconda3/envs/space_updated/lib/python3.10/site-packages/urllib3/connection.py:507\u001B[0m, in \u001B[0;36mHTTPConnection.getresponse\u001B[0;34m(self)\u001B[0m\n\u001B[1;32m    504\u001B[0m \u001B[38;5;28;01mfrom\u001B[39;00m \u001B[38;5;21;01m.\u001B[39;00m\u001B[38;5;21;01mresponse\u001B[39;00m \u001B[38;5;28;01mimport\u001B[39;00m HTTPResponse\n\u001B[1;32m    506\u001B[0m \u001B[38;5;66;03m# Get the response from http.client.HTTPConnection\u001B[39;00m\n\u001B[0;32m--> 507\u001B[0m httplib_response \u001B[38;5;241m=\u001B[39m \u001B[38;5;28;43msuper\u001B[39;49m\u001B[43m(\u001B[49m\u001B[43m)\u001B[49m\u001B[38;5;241;43m.\u001B[39;49m\u001B[43mgetresponse\u001B[49m\u001B[43m(\u001B[49m\u001B[43m)\u001B[49m\n\u001B[1;32m    509\u001B[0m \u001B[38;5;28;01mtry\u001B[39;00m:\n\u001B[1;32m    510\u001B[0m     assert_header_parsing(httplib_response\u001B[38;5;241m.\u001B[39mmsg)\n",
      "File \u001B[0;32m/opt/anaconda3/envs/space_updated/lib/python3.10/http/client.py:1374\u001B[0m, in \u001B[0;36mHTTPConnection.getresponse\u001B[0;34m(self)\u001B[0m\n\u001B[1;32m   1372\u001B[0m \u001B[38;5;28;01mtry\u001B[39;00m:\n\u001B[1;32m   1373\u001B[0m     \u001B[38;5;28;01mtry\u001B[39;00m:\n\u001B[0;32m-> 1374\u001B[0m         \u001B[43mresponse\u001B[49m\u001B[38;5;241;43m.\u001B[39;49m\u001B[43mbegin\u001B[49m\u001B[43m(\u001B[49m\u001B[43m)\u001B[49m\n\u001B[1;32m   1375\u001B[0m     \u001B[38;5;28;01mexcept\u001B[39;00m \u001B[38;5;167;01mConnectionError\u001B[39;00m:\n\u001B[1;32m   1376\u001B[0m         \u001B[38;5;28mself\u001B[39m\u001B[38;5;241m.\u001B[39mclose()\n",
      "File \u001B[0;32m/opt/anaconda3/envs/space_updated/lib/python3.10/http/client.py:318\u001B[0m, in \u001B[0;36mHTTPResponse.begin\u001B[0;34m(self)\u001B[0m\n\u001B[1;32m    316\u001B[0m \u001B[38;5;66;03m# read until we get a non-100 response\u001B[39;00m\n\u001B[1;32m    317\u001B[0m \u001B[38;5;28;01mwhile\u001B[39;00m \u001B[38;5;28;01mTrue\u001B[39;00m:\n\u001B[0;32m--> 318\u001B[0m     version, status, reason \u001B[38;5;241m=\u001B[39m \u001B[38;5;28;43mself\u001B[39;49m\u001B[38;5;241;43m.\u001B[39;49m\u001B[43m_read_status\u001B[49m\u001B[43m(\u001B[49m\u001B[43m)\u001B[49m\n\u001B[1;32m    319\u001B[0m     \u001B[38;5;28;01mif\u001B[39;00m status \u001B[38;5;241m!=\u001B[39m CONTINUE:\n\u001B[1;32m    320\u001B[0m         \u001B[38;5;28;01mbreak\u001B[39;00m\n",
      "File \u001B[0;32m/opt/anaconda3/envs/space_updated/lib/python3.10/http/client.py:279\u001B[0m, in \u001B[0;36mHTTPResponse._read_status\u001B[0;34m(self)\u001B[0m\n\u001B[1;32m    278\u001B[0m \u001B[38;5;28;01mdef\u001B[39;00m \u001B[38;5;21m_read_status\u001B[39m(\u001B[38;5;28mself\u001B[39m):\n\u001B[0;32m--> 279\u001B[0m     line \u001B[38;5;241m=\u001B[39m \u001B[38;5;28mstr\u001B[39m(\u001B[38;5;28;43mself\u001B[39;49m\u001B[38;5;241;43m.\u001B[39;49m\u001B[43mfp\u001B[49m\u001B[38;5;241;43m.\u001B[39;49m\u001B[43mreadline\u001B[49m\u001B[43m(\u001B[49m\u001B[43m_MAXLINE\u001B[49m\u001B[43m \u001B[49m\u001B[38;5;241;43m+\u001B[39;49m\u001B[43m \u001B[49m\u001B[38;5;241;43m1\u001B[39;49m\u001B[43m)\u001B[49m, \u001B[38;5;124m\"\u001B[39m\u001B[38;5;124miso-8859-1\u001B[39m\u001B[38;5;124m\"\u001B[39m)\n\u001B[1;32m    280\u001B[0m     \u001B[38;5;28;01mif\u001B[39;00m \u001B[38;5;28mlen\u001B[39m(line) \u001B[38;5;241m>\u001B[39m _MAXLINE:\n\u001B[1;32m    281\u001B[0m         \u001B[38;5;28;01mraise\u001B[39;00m LineTooLong(\u001B[38;5;124m\"\u001B[39m\u001B[38;5;124mstatus line\u001B[39m\u001B[38;5;124m\"\u001B[39m)\n",
      "File \u001B[0;32m/opt/anaconda3/envs/space_updated/lib/python3.10/socket.py:705\u001B[0m, in \u001B[0;36mSocketIO.readinto\u001B[0;34m(self, b)\u001B[0m\n\u001B[1;32m    703\u001B[0m \u001B[38;5;28;01mwhile\u001B[39;00m \u001B[38;5;28;01mTrue\u001B[39;00m:\n\u001B[1;32m    704\u001B[0m     \u001B[38;5;28;01mtry\u001B[39;00m:\n\u001B[0;32m--> 705\u001B[0m         \u001B[38;5;28;01mreturn\u001B[39;00m \u001B[38;5;28;43mself\u001B[39;49m\u001B[38;5;241;43m.\u001B[39;49m\u001B[43m_sock\u001B[49m\u001B[38;5;241;43m.\u001B[39;49m\u001B[43mrecv_into\u001B[49m\u001B[43m(\u001B[49m\u001B[43mb\u001B[49m\u001B[43m)\u001B[49m\n\u001B[1;32m    706\u001B[0m     \u001B[38;5;28;01mexcept\u001B[39;00m timeout:\n\u001B[1;32m    707\u001B[0m         \u001B[38;5;28mself\u001B[39m\u001B[38;5;241m.\u001B[39m_timeout_occurred \u001B[38;5;241m=\u001B[39m \u001B[38;5;28;01mTrue\u001B[39;00m\n",
      "\u001B[0;31mKeyboardInterrupt\u001B[0m: "
     ]
    }
   ],
   "source": [
    "for fn in target_fn:\n",
    "    phot_table_all_band = table.Table.read(f'tables/phot/photometry_{fn}.fits')\n",
    "    for band in ['B', 'V', 'R', 'I']:\n",
    "        phot_table = phot_table_all_band[phot_table_all_band['band'] == band]\n",
    "\n",
    "        Simbad.add_votable_fields(f'flux({band})', 'ids')\n",
    "        for gaia_dr3_id in phot_table.colnames[N_COL_HEAD :]:\n",
    "            with warnings.catch_warnings():\n",
    "                warnings.simplefilter(\"ignore\", category=UserWarning)\n",
    "                result = Simbad.query_object(f\"Gaia DR3 {gaia_dr3_id}\")\n",
    "            if result is not None:\n",
    "                print(fn, band, gaia_dr3_id)"
   ],
   "metadata": {
    "collapsed": false,
    "ExecuteTime": {
     "end_time": "2024-11-12T19:02:45.889999Z",
     "start_time": "2024-11-12T18:58:13.736324Z"
    }
   }
  },
  {
   "cell_type": "code",
   "execution_count": 24,
   "outputs": [
    {
     "name": "stdout",
     "output_type": "stream",
     "text": [
      "HD_86226 B 25\n",
      "HD_86226 V 26\n",
      "HD_86226 R 11\n",
      "HD_86226 I 7\n",
      "HD_191939 B 29\n",
      "HD_191939 V 28\n",
      "HD_191939 R 11\n",
      "HD_191939 I 0\n",
      "TOI-1759 B 70\n",
      "TOI-1759 V 70\n",
      "TOI-1759 R 16\n",
      "TOI-1759 I 0\n",
      "TOI-178 B 17\n",
      "TOI-178 V 17\n",
      "TOI-178 R 4\n",
      "TOI-178 I 2\n",
      "TOI-431 B 37\n",
      "TOI-431 V 37\n",
      "TOI-431 R 9\n",
      "TOI-431 I 2\n",
      "TOI-561 B 22\n",
      "TOI-561 V 22\n",
      "TOI-561 R 2\n",
      "TOI-561 I 0\n",
      "TOI-1410 B 67\n",
      "TOI-1410 V 65\n",
      "TOI-1410 R 4\n",
      "TOI-1410 I 0\n",
      "TOI-1201 B 18\n",
      "TOI-1201 V 18\n",
      "TOI-1201 R 5\n",
      "TOI-1201 I 4\n"
     ]
    }
   ],
   "source": [
    "for fn in target_fn:\n",
    "    # if fn == 'HD_86226' or fn == 'HD_191939':\n",
    "    #     continue\n",
    "    phot_table_all_band = table.Table.read(f'tables/phot/photometry_{fn}.fits')\n",
    "    for band in ['B', 'V', 'R', 'I']:\n",
    "        l = []\n",
    "        phot_table = phot_table_all_band[phot_table_all_band['band'] == band]\n",
    "\n",
    "        Simbad.add_votable_fields(f'flux({band})', 'ids')\n",
    "        for gaia_dr3_id in phot_table.colnames[N_COL_HEAD :]:\n",
    "            with warnings.catch_warnings():\n",
    "                warnings.simplefilter(\"ignore\", category=UserWarning)\n",
    "                result = Simbad.query_object(f\"Gaia DR3 {gaia_dr3_id}\")\n",
    "            if result is not None and np.isfinite(result[f'FLUX_{band}'][0]):\n",
    "                # break\n",
    "                l.append(gaia_dr3_id)\n",
    "        # break\n",
    "    # break\n",
    "        print(fn, band, len(l))"
   ],
   "metadata": {
    "collapsed": false,
    "ExecuteTime": {
     "end_time": "2024-11-12T19:48:52.830021Z",
     "start_time": "2024-11-12T19:12:42.478360Z"
    }
   }
  },
  {
   "cell_type": "code",
   "execution_count": 2,
   "outputs": [],
   "source": [
    "new_query = f\"\"\"SELECT B, V, R ,I from allfluxes\n",
    "JOIN ident USING(oidref)\n",
    "WHERE id = 'Gaia DR3 5660492297395345408';\"\"\""
   ],
   "metadata": {
    "collapsed": false,
    "ExecuteTime": {
     "end_time": "2025-01-16T16:27:41.121466Z",
     "start_time": "2025-01-16T16:27:41.117027Z"
    }
   }
  },
  {
   "cell_type": "code",
   "execution_count": 5,
   "outputs": [
    {
     "name": "stdout",
     "output_type": "stream",
     "text": [
      "--NOTES--\n",
      "\n",
      "1. The parameter filtername must correspond to an existing filter. Filters include: B,V,R,I,J,K.  They are checked by SIMBAD but not astroquery.simbad\n",
      "\n",
      "2. Fields beginning with rvz display the data as it is in the database. Fields beginning with rv force the display as a radial velocity. Fields beginning with z force the display as a redshift\n",
      "\n",
      "3. For each measurement catalog, the VOTable contains all fields of the first measurement. When applicable, the first measurement is the mean one. \n",
      "\n",
      "Available VOTABLE fields:\n",
      "\n",
      "bibcodelist(y1-y2)\n",
      "biblio\n",
      "cel\n",
      "cl.g\n",
      "coo(opt)\n",
      "coo_bibcode\n",
      "coo_err_angle\n",
      "coo_err_maja\n",
      "coo_err_mina\n",
      "coo_qual\n",
      "coo_wavelength\n",
      "coordinates\n",
      "dec(opt)\n",
      "dec_prec\n",
      "diameter\n",
      "dim\n",
      "dim_angle\n",
      "dim_bibcode\n",
      "dim_incl\n",
      "dim_majaxis\n",
      "dim_minaxis\n",
      "dim_qual\n",
      "dim_wavelength\n",
      "dimensions\n",
      "distance\n",
      "distance_result\n",
      "einstein\n",
      "fe_h\n",
      "flux(filtername)\n",
      "flux_bibcode(filtername)\n",
      "flux_error(filtername)\n",
      "flux_name(filtername)\n",
      "flux_qual(filtername)\n",
      "flux_system(filtername)\n",
      "flux_unit(filtername)\n",
      "fluxdata(filtername)\n",
      "gcrv\n",
      "gen\n",
      "gj\n",
      "hbet\n",
      "hbet1\n",
      "hgam\n",
      "id(opt)\n",
      "ids\n",
      "iras\n",
      "irc\n",
      "iso\n",
      "iue\n",
      "jp11\n",
      "link_bibcode\n",
      "main_id\n",
      "measurements\n",
      "membership\n",
      "mesplx\n",
      "mespm\n",
      "mk\n",
      "morphtype\n",
      "mt\n",
      "mt_bibcode\n",
      "mt_qual\n",
      "otype\n",
      "otype(opt)\n",
      "otypes\n",
      "parallax\n",
      "plx\n",
      "plx_bibcode\n",
      "plx_error\n",
      "plx_prec\n",
      "plx_qual\n",
      "pm\n",
      "pm_bibcode\n",
      "pm_err_angle\n",
      "pm_err_maja\n",
      "pm_err_mina\n",
      "pm_qual\n",
      "pmdec\n",
      "pmdec_prec\n",
      "pmra\n",
      "pmra_prec\n",
      "pos\n",
      "posa\n",
      "propermotions\n",
      "ra(opt)\n",
      "ra_prec\n",
      "rot\n",
      "rv_value\n",
      "rvz_bibcode\n",
      "rvz_error\n",
      "rvz_qual\n",
      "rvz_radvel\n",
      "rvz_type\n",
      "rvz_wavelength\n",
      "sao\n",
      "sp\n",
      "sp_bibcode\n",
      "sp_nature\n",
      "sp_qual\n",
      "sptype\n",
      "td1\n",
      "typed_id\n",
      "ubv\n",
      "uvby\n",
      "uvby1\n",
      "v*\n",
      "velocity\n",
      "xmm\n",
      "z_value\n",
      "For more information on a field:\n",
      "Simbad.get_field_description ('field_name') \n",
      "Currently active VOTABLE fields:\n",
      " ['main_id', 'coordinates']\n"
     ]
    }
   ],
   "source": [
    "Simbad.list_votable_fields()"
   ],
   "metadata": {
    "collapsed": false,
    "ExecuteTime": {
     "end_time": "2025-01-02T16:00:17.473131Z",
     "start_time": "2025-01-02T16:00:17.448309Z"
    }
   }
  },
  {
   "cell_type": "code",
   "execution_count": 11,
   "outputs": [
    {
     "ename": "AttributeError",
     "evalue": "'SimbadClass' object has no attribute 'query_tap'",
     "output_type": "error",
     "traceback": [
      "\u001B[0;31m---------------------------------------------------------------------------\u001B[0m",
      "\u001B[0;31mAttributeError\u001B[0m                            Traceback (most recent call last)",
      "Cell \u001B[0;32mIn[11], line 1\u001B[0m\n\u001B[0;32m----> 1\u001B[0m results \u001B[38;5;241m=\u001B[39m \u001B[43msbd\u001B[49m\u001B[38;5;241;43m.\u001B[39;49m\u001B[43mquery_tap\u001B[49m(new_query)\n\u001B[1;32m      2\u001B[0m results\n",
      "\u001B[0;31mAttributeError\u001B[0m: 'SimbadClass' object has no attribute 'query_tap'"
     ]
    }
   ],
   "source": [
    "results = sbd.query_tap(new_query)\n",
    "results"
   ],
   "metadata": {
    "collapsed": false,
    "ExecuteTime": {
     "end_time": "2025-01-16T16:30:49.915648Z",
     "start_time": "2025-01-16T16:30:49.898858Z"
    }
   }
  },
  {
   "cell_type": "code",
   "execution_count": 10,
   "outputs": [],
   "source": [
    "sbd = Simbad()"
   ],
   "metadata": {
    "collapsed": false,
    "ExecuteTime": {
     "end_time": "2025-01-16T16:30:47.346756Z",
     "start_time": "2025-01-16T16:30:47.345178Z"
    }
   }
  },
  {
   "cell_type": "code",
   "execution_count": 13,
   "outputs": [],
   "source": [
    "import astroquery"
   ],
   "metadata": {
    "collapsed": false,
    "ExecuteTime": {
     "end_time": "2025-01-16T16:31:11.547290Z",
     "start_time": "2025-01-16T16:31:11.541193Z"
    }
   }
  },
  {
   "cell_type": "code",
   "execution_count": 16,
   "outputs": [
    {
     "name": "stdout",
     "output_type": "stream",
     "text": [
      "        B                 V                 R          I \n",
      "----------------- ----------------- ----------------- ---\n",
      "8.562999725341797 7.929999828338623 7.710000038146973  --\n"
     ]
    }
   ],
   "source": [
    "from astroquery.utils.tap.core import TapPlus\n",
    "\n",
    "# Connect to the Simbad TAP service\n",
    "simbad_tap = TapPlus(url=\"http://simbad.u-strasbg.fr/simbad/sim-tap\")\n",
    "\n",
    "# Your ADQL query\n",
    "adql_query = \"\"\"\n",
    "SELECT B, V, R, I\n",
    "FROM allfluxes\n",
    "JOIN ident USING(oidref)\n",
    "WHERE id = 'Gaia DR3 5660492297395345408';\n",
    "\"\"\"\n",
    "\n",
    "# Run the query\n",
    "job = simbad_tap.launch_job(adql_query)\n",
    "result_table = job.get_results()\n",
    "\n",
    "# Print the results\n",
    "print(result_table)"
   ],
   "metadata": {
    "collapsed": false,
    "ExecuteTime": {
     "end_time": "2025-01-16T16:42:58.238857Z",
     "start_time": "2025-01-16T16:42:56.821816Z"
    }
   }
  },
  {
   "cell_type": "code",
   "execution_count": 24,
   "outputs": [],
   "source": [
    "from astroquery.utils.tap.core import TapPlus\n",
    "\n",
    "# Connect to the Simbad TAP service\n",
    "simbad_tap = TapPlus(url=\"http://simbad.u-strasbg.fr/simbad/sim-tap\")\n",
    "\n",
    "# Your ADQL query\n",
    "adql_query = \"SELECT B FROM allfluxes JOIN ident USING(oidref) WHERE id = 'Gaia DR3 5660492297395345408';\"\n",
    "\n",
    "# Run the query\n",
    "job = simbad_tap.launch_job(adql_query)\n",
    "result_table = job.get_results()\n",
    "\n",
    "# Print the results\n"
   ],
   "metadata": {
    "collapsed": false,
    "ExecuteTime": {
     "end_time": "2025-01-16T19:54:09.728531Z",
     "start_time": "2025-01-16T19:54:09.266272Z"
    }
   }
  },
  {
   "cell_type": "code",
   "execution_count": 25,
   "outputs": [
    {
     "data": {
      "text/plain": "8.562999725341797"
     },
     "execution_count": 25,
     "metadata": {},
     "output_type": "execute_result"
    }
   ],
   "source": [
    "result_table[0][0]"
   ],
   "metadata": {
    "collapsed": false,
    "ExecuteTime": {
     "end_time": "2025-01-16T19:54:13.735073Z",
     "start_time": "2025-01-16T19:54:13.734278Z"
    }
   }
  }
 ],
 "metadata": {
  "kernelspec": {
   "display_name": "Python 3",
   "language": "python",
   "name": "python3"
  },
  "language_info": {
   "codemirror_mode": {
    "name": "ipython",
    "version": 2
   },
   "file_extension": ".py",
   "mimetype": "text/x-python",
   "name": "python",
   "nbconvert_exporter": "python",
   "pygments_lexer": "ipython2",
   "version": "2.7.6"
  }
 },
 "nbformat": 4,
 "nbformat_minor": 0
}
